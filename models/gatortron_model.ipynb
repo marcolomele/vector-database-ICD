{
 "cells": [
  {
   "cell_type": "markdown",
   "metadata": {
    "id": "TbFqRaKe5ioG"
   },
   "source": [
    "# GatorTron ICD-11 Embeddings Generation"
   ]
  },
  {
   "cell_type": "markdown",
   "metadata": {
    "id": "u4LRSWWz5m9-"
   },
   "source": [
    "This notebook generates embeddings for ICD-11 codes using the GatorTron model."
   ]
  },
  {
   "cell_type": "code",
   "execution_count": null,
   "metadata": {
    "id": "kfGS8FVCD3Ju",
    "outputId": "2d8cf902-51d4-49a5-ec7a-619f94df3f5a"
   },
   "outputs": [
    {
     "name": "stdout",
     "output_type": "stream",
     "text": [
      "Using device: cpu\n"
     ]
    }
   ],
   "source": [
    "# Install required packages\n",
    "!pip install -q transformers torch pandas numpy scikit-learn\n",
    "!pip install -q datasets tqdm\n",
    "\n",
    "# Import libraries\n",
    "import pandas as pd\n",
    "import numpy as np\n",
    "import torch\n",
    "from transformers import AutoTokenizer, AutoModel\n",
    "from sklearn.decomposition import TruncatedSVD\n",
    "from tqdm.auto import tqdm\n",
    "import re\n",
    "import warnings\n",
    "warnings.filterwarnings('ignore')\n",
    "\n",
    "# Check for GPU\n",
    "device = torch.device('cuda' if torch.cuda.is_available() else 'cpu')\n",
    "print(f\"Using device: {device}\")\n",
    "if torch.cuda.is_available():\n",
    "    print(f\"GPU: {torch.cuda.get_device_name(0)}\")"
   ]
  },
  {
   "cell_type": "code",
   "execution_count": null,
   "metadata": {
    "id": "9pHBls-ED3Jv",
    "outputId": "2f5df2e0-be8e-40b7-ab09-19ae70048e43"
   },
   "outputs": [
    {
     "name": "stdout",
     "output_type": "stream",
     "text": [
      "Loading GatorTron-base model...\n",
      "GatorTron model loaded successfully\n",
      "Vector dimension: 1024\n",
      "Model parameters: 355,267,584\n"
     ]
    }
   ],
   "source": [
    "def load_gatortron_model():\n",
    "    \"\"\"\n",
    "    Load the GatorTron base model from Hugging Face.\n",
    "    \"\"\"\n",
    "    print(\"Loading GatorTron-base model...\")\n",
    "    model_name = \"UFNLP/gatortron-base\"\n",
    "\n",
    "    # Load tokenizer and model\n",
    "    tokenizer = AutoTokenizer.from_pretrained(model_name)\n",
    "    model = AutoModel.from_pretrained(\n",
    "        model_name,\n",
    "        torch_dtype=torch.float16 if device.type == 'cuda' else torch.float32\n",
    "    )\n",
    "\n",
    "    # Move model to device\n",
    "    model = model.to(device)\n",
    "    model.eval()\n",
    "\n",
    "    print(f\"GatorTron model loaded successfully\")\n",
    "    print(f\"Vector dimension: {model.config.hidden_size}\")\n",
    "    print(f\"Model parameters: {sum(p.numel() for p in model.parameters()):,}\")\n",
    "\n",
    "    return tokenizer, model\n",
    "\n",
    "# Load the GatorTron model\n",
    "tokenizer, model = load_gatortron_model()"
   ]
  },
  {
   "cell_type": "code",
   "execution_count": null,
   "metadata": {
    "id": "K4mZ-5KXD3Jw"
   },
   "outputs": [],
   "source": [
    "def generate_gatortron_embeddings(texts, model, tokenizer, batch_size=8):\n",
    "    \"\"\"\n",
    "    Generate embeddings for texts using GatorTron model.\n",
    "    Uses average pooling over the last hidden states to create sentence embeddings.\n",
    "    \"\"\"\n",
    "    all_embeddings = []\n",
    "\n",
    "    # Process in batches\n",
    "    for i in tqdm(range(0, len(texts), batch_size), desc=\"Generating embeddings\"):\n",
    "        # Get batch texts\n",
    "        batch_texts = texts[i:i+batch_size]\n",
    "\n",
    "        # Tokenize\n",
    "        encoded_input = tokenizer(\n",
    "            batch_texts,\n",
    "            padding=True,\n",
    "            truncation=True,\n",
    "            max_length=512,\n",
    "            return_tensors='pt'\n",
    "        ).to(device)\n",
    "\n",
    "        # Generate embeddings\n",
    "        with torch.no_grad():\n",
    "            model_output = model(**encoded_input)\n",
    "\n",
    "            # Get the last hidden states\n",
    "            last_hidden_state = model_output.last_hidden_state\n",
    "\n",
    "            # Perform average pooling\n",
    "            attention_mask = encoded_input['attention_mask'].unsqueeze(-1)\n",
    "\n",
    "            # Multiply by attention mask to zero out padding\n",
    "            token_embeddings = last_hidden_state * attention_mask\n",
    "\n",
    "            # Sum over tokens and divide by the number of tokens\n",
    "            sum_embeddings = torch.sum(token_embeddings, dim=1)\n",
    "            sum_mask = torch.sum(attention_mask, dim=1)\n",
    "\n",
    "            # Avoid division by zero\n",
    "            sum_mask = torch.clamp(sum_mask, min=1e-9)\n",
    "\n",
    "            # Calculate average\n",
    "            embeddings = sum_embeddings / sum_mask\n",
    "\n",
    "            # Move to CPU and convert to numpy\n",
    "            embeddings = embeddings.cpu().numpy()\n",
    "            all_embeddings.append(embeddings)\n",
    "\n",
    "    # Concatenate all batches\n",
    "    all_embeddings = np.vstack(all_embeddings)\n",
    "    return all_embeddings"
   ]
  },
  {
   "cell_type": "code",
   "execution_count": null,
   "metadata": {
    "id": "PRi_UozyD3Jw"
   },
   "outputs": [],
   "source": [
    "def gatortron(file_in, file_out):\n",
    "    df=pd.read_csv(file_in)\n",
    "    # Extract texts for embedding\n",
    "    texts = df['vectorization_text'].tolist()\n",
    "    print(f\"Generating embeddings for {len(texts)} ICD-11 codes...\")\n",
    "\n",
    "    # Generate embeddings\n",
    "    embeddings = generate_gatortron_embeddings(texts, model, tokenizer)\n",
    "\n",
    "    print(f\"Generated embeddings shape: {embeddings.shape}\")\n",
    "    print(f\"Original vector dimension: {embeddings.shape[1]}\")\n",
    "\n",
    "    # Apply dimensionality reduction to 768 dimensions if needed\n",
    "    target_dim = 768\n",
    "    if embeddings.shape[1] > target_dim:\n",
    "        print(f\"Reducing dimensionality from {embeddings.shape[1]} to {target_dim}...\")\n",
    "        svd = TruncatedSVD(n_components=target_dim, random_state=42)\n",
    "        embeddings = svd.fit_transform(embeddings)\n",
    "        print(f\"Explained variance ratio: {svd.explained_variance_ratio_.sum():.4f}\")\n",
    "    else:\n",
    "        print(f\"No dimensionality reduction needed. Current dimension: {embeddings.shape[1]}\")\n",
    "\n",
    "    print(f\"Final embeddings shape: {embeddings.shape}\")\n",
    "\n",
    "    # Format output according to specification\n",
    "    df_embeddings = pd.DataFrame({\n",
    "        \"ICD11_code\": df[\"code\"],\n",
    "        \"Vector\": [np.array2string(vec, separator=',', precision=6, suppress_small=True)\n",
    "                   for vec in embeddings]\n",
    "    })\n",
    "\n",
    "    # Remove rows with NaN codes if any\n",
    "    initial_count = len(df_embeddings)\n",
    "    df_embeddings = df_embeddings.dropna(subset=['ICD11_code'])\n",
    "    final_count = len(df_embeddings)\n",
    "\n",
    "    if initial_count != final_count:\n",
    "        print(f\"Removed {initial_count - final_count} rows with missing ICD codes\")\n",
    "\n",
    "    # Display summary statistics\n",
    "    print(f\"\\n=== EMBEDDING GENERATION SUMMARY ===\")\n",
    "    print(f\"Total embeddings generated: {len(df_embeddings)}\")\n",
    "    print(f\"Vector dimension: {embeddings.shape[1]}\")\n",
    "    print(f\"Sample vector shape: {embeddings[0].shape}\")\n",
    "\n",
    "    # Show first few rows\n",
    "    print(f\"\\nFirst few rows of output:\")\n",
    "    display(df_embeddings.head(3))\n",
    "\n",
    "    # Save to CSV\n",
    "    df_embeddings.to_csv(file_out, index=False)\n",
    "    print(f\"\\n✅ Embeddings saved to: {file_out}\")\n",
    "\n",
    "    # Verify the saved file\n",
    "    saved_df = pd.read_csv(file_out)\n",
    "    print(f\"✅ Verification: Saved file contains {len(saved_df)} rows and {len(saved_df.columns)} columns\")\n",
    "\n",
    "    # Display final sample\n",
    "    print(f\"\\nSample from saved file:\")\n",
    "    print(f\"ICD Code: {saved_df.iloc[0]['ICD11_code']}\")\n",
    "    print(f\"Vector (first 5 elements): {saved_df.iloc[0]['Vector'][:50]}...\")\n",
    "\n",
    "    print(f\"\\n🎉 GatorTron embedding generation completed successfully!\")\n",
    "    print(f\"📁 Output file: {file_out}\")\n",
    "    print(f\"📊 Total embeddings: {len(saved_df)}\")"
   ]
  },
  {
   "cell_type": "code",
   "execution_count": null,
   "metadata": {
    "id": "rIsEjEo_D3Jx"
   },
   "outputs": [],
   "source": [
    "# embeddings for ICD11 codes\n",
    "gatortron(\"ICD11_preprocessed.csv\", \"gatortron_ICD11_embeddings.csv\")"
   ]
  },
  {
   "cell_type": "code",
   "execution_count": null,
   "metadata": {
    "colab": {
     "referenced_widgets": [
      "e7d6777f689b4051b3c2dcb26767b128"
     ]
    },
    "collapsed": true,
    "id": "5Fc0suflD3Jy",
    "outputId": "4e87ab03-9f68-49cc-87c3-dd123122a251"
   },
   "outputs": [
    {
     "name": "stdout",
     "output_type": "stream",
     "text": [
      "Generating embeddings for 378 ICD-11 codes...\n"
     ]
    },
    {
     "data": {
      "application/vnd.jupyter.widget-view+json": {
       "model_id": "e7d6777f689b4051b3c2dcb26767b128",
       "version_major": 2,
       "version_minor": 0
      },
      "text/plain": [
       "Generating embeddings:   0%|          | 0/48 [00:00<?, ?it/s]"
      ]
     },
     "metadata": {},
     "output_type": "display_data"
    },
    {
     "name": "stdout",
     "output_type": "stream",
     "text": [
      "Generated embeddings shape: (378, 1024)\n",
      "Original vector dimension: 1024\n",
      "Reducing dimensionality from 1024 to 768...\n",
      "Explained variance ratio: 1.0000\n",
      "Final embeddings shape: (378, 378)\n",
      "\n",
      "=== EMBEDDING GENERATION SUMMARY ===\n",
      "Total embeddings generated: 378\n",
      "Vector dimension: 378\n",
      "Sample vector shape: (378,)\n",
      "\n",
      "First few rows of output:\n"
     ]
    },
    {
     "data": {
      "text/html": [
       "<div>\n",
       "<style scoped>\n",
       "    .dataframe tbody tr th:only-of-type {\n",
       "        vertical-align: middle;\n",
       "    }\n",
       "\n",
       "    .dataframe tbody tr th {\n",
       "        vertical-align: top;\n",
       "    }\n",
       "\n",
       "    .dataframe thead th {\n",
       "        text-align: right;\n",
       "    }\n",
       "</style>\n",
       "<table border=\"1\" class=\"dataframe\">\n",
       "  <thead>\n",
       "    <tr style=\"text-align: right;\">\n",
       "      <th></th>\n",
       "      <th>ICD11_code</th>\n",
       "      <th>Vector</th>\n",
       "    </tr>\n",
       "  </thead>\n",
       "  <tbody>\n",
       "    <tr>\n",
       "      <th>0</th>\n",
       "      <td>1F57</td>\n",
       "      <td>[ 8.627036, 3.052382, 0.372213,-0.268565, 0.39...</td>\n",
       "    </tr>\n",
       "    <tr>\n",
       "      <th>1</th>\n",
       "      <td>1C32</td>\n",
       "      <td>[ 8.354035, 3.54344 , 0.728892, 0.296024, 0.47...</td>\n",
       "    </tr>\n",
       "    <tr>\n",
       "      <th>2</th>\n",
       "      <td>1B91</td>\n",
       "      <td>[ 8.453274, 3.558011,-0.150812,-0.084735, 0.60...</td>\n",
       "    </tr>\n",
       "  </tbody>\n",
       "</table>\n",
       "</div>"
      ],
      "text/plain": [
       "  ICD11_code                                             Vector\n",
       "0       1F57  [ 8.627036, 3.052382, 0.372213,-0.268565, 0.39...\n",
       "1       1C32  [ 8.354035, 3.54344 , 0.728892, 0.296024, 0.47...\n",
       "2       1B91  [ 8.453274, 3.558011,-0.150812,-0.084735, 0.60..."
      ]
     },
     "metadata": {},
     "output_type": "display_data"
    },
    {
     "name": "stdout",
     "output_type": "stream",
     "text": [
      "\n",
      "✅ Embeddings saved to: gatortron_encyclopedia_embeddings.csv\n",
      "✅ Verification: Saved file contains 378 rows and 2 columns\n",
      "\n",
      "Sample from saved file:\n",
      "ICD Code: 1F57\n",
      "Vector (first 5 elements): [ 8.627036, 3.052382, 0.372213,-0.268565, 0.391229...\n",
      "\n",
      "🎉 GatorTron embedding generation completed successfully!\n",
      "📁 Output file: gatortron_encyclopedia_embeddings.csv\n",
      "📊 Total embeddings: 378\n"
     ]
    }
   ],
   "source": [
    "# embeddings for Merriam-Webster definitions\n",
    "gatortron(\"encyclopedia_sd_preprocessed.csv\", \"gatortron_encyclopedia_embeddings.csv\")"
   ]
  },
  {
   "cell_type": "code",
   "execution_count": null,
   "metadata": {
    "colab": {
     "referenced_widgets": [
      "a84c420c786a4baa9182854cda45f589"
     ]
    },
    "collapsed": true,
    "id": "Gfl8gcCiD3Jy",
    "outputId": "5d087dec-7ad2-4e25-ae3b-a763c00fb7c4"
   },
   "outputs": [
    {
     "name": "stdout",
     "output_type": "stream",
     "text": [
      "Generating embeddings for 10 ICD-11 codes...\n"
     ]
    },
    {
     "data": {
      "application/vnd.jupyter.widget-view+json": {
       "model_id": "a84c420c786a4baa9182854cda45f589",
       "version_major": 2,
       "version_minor": 0
      },
      "text/plain": [
       "Generating embeddings:   0%|          | 0/2 [00:00<?, ?it/s]"
      ]
     },
     "metadata": {},
     "output_type": "display_data"
    },
    {
     "name": "stdout",
     "output_type": "stream",
     "text": [
      "Generated embeddings shape: (10, 1024)\n",
      "Original vector dimension: 1024\n",
      "Reducing dimensionality from 1024 to 768...\n",
      "Explained variance ratio: 1.0000\n",
      "Final embeddings shape: (10, 10)\n",
      "\n",
      "=== EMBEDDING GENERATION SUMMARY ===\n",
      "Total embeddings generated: 10\n",
      "Vector dimension: 10\n",
      "Sample vector shape: (10,)\n",
      "\n",
      "First few rows of output:\n"
     ]
    },
    {
     "data": {
      "text/html": [
       "<div>\n",
       "<style scoped>\n",
       "    .dataframe tbody tr th:only-of-type {\n",
       "        vertical-align: middle;\n",
       "    }\n",
       "\n",
       "    .dataframe tbody tr th {\n",
       "        vertical-align: top;\n",
       "    }\n",
       "\n",
       "    .dataframe thead th {\n",
       "        text-align: right;\n",
       "    }\n",
       "</style>\n",
       "<table border=\"1\" class=\"dataframe\">\n",
       "  <thead>\n",
       "    <tr style=\"text-align: right;\">\n",
       "      <th></th>\n",
       "      <th>ICD11_code</th>\n",
       "      <th>Vector</th>\n",
       "    </tr>\n",
       "  </thead>\n",
       "  <tbody>\n",
       "    <tr>\n",
       "      <th>0</th>\n",
       "      <td>0</td>\n",
       "      <td>[ 9.043072, 2.787691, 0.806538, 0.712946,-1.24...</td>\n",
       "    </tr>\n",
       "    <tr>\n",
       "      <th>1</th>\n",
       "      <td>0</td>\n",
       "      <td>[10.049998,-1.566575,-1.286537, 0.262282,-0.64...</td>\n",
       "    </tr>\n",
       "    <tr>\n",
       "      <th>2</th>\n",
       "      <td>0</td>\n",
       "      <td>[ 9.674391,-1.248284, 1.101108,-0.23801 ,-0.44...</td>\n",
       "    </tr>\n",
       "  </tbody>\n",
       "</table>\n",
       "</div>"
      ],
      "text/plain": [
       "   ICD11_code                                             Vector\n",
       "0           0  [ 9.043072, 2.787691, 0.806538, 0.712946,-1.24...\n",
       "1           0  [10.049998,-1.566575,-1.286537, 0.262282,-0.64...\n",
       "2           0  [ 9.674391,-1.248284, 1.101108,-0.23801 ,-0.44..."
      ]
     },
     "metadata": {},
     "output_type": "display_data"
    },
    {
     "name": "stdout",
     "output_type": "stream",
     "text": [
      "\n",
      "✅ Embeddings saved to: gatortron_non_medical_prompts_embeddings.csv\n",
      "✅ Verification: Saved file contains 10 rows and 2 columns\n",
      "\n",
      "Sample from saved file:\n",
      "ICD Code: 0\n",
      "Vector (first 5 elements): [ 9.043072, 2.787691, 0.806538, 0.712946,-1.24706 ...\n",
      "\n",
      "🎉 GatorTron embedding generation completed successfully!\n",
      "📁 Output file: gatortron_non_medical_prompts_embeddings.csv\n",
      "📊 Total embeddings: 10\n"
     ]
    }
   ],
   "source": [
    "# embeddings for Non-medical prompts\n",
    "gatortron(\"Non_medical_prompts_preprocessed.csv\", \"gatortron_non_medical_prompts_embeddings.csv\")"
   ]
  },
  {
   "cell_type": "code",
   "execution_count": null,
   "metadata": {
    "id": "eFO4SI-dD3Jy"
   },
   "outputs": [],
   "source": []
  }
 ],
 "metadata": {
  "accelerator": "GPU",
  "colab": {
   "gpuType": "T4",
   "provenance": []
  },
  "kernelspec": {
   "display_name": "Python 3 (ipykernel)",
   "language": "python",
   "name": "python3"
  },
  "language_info": {
   "codemirror_mode": {
    "name": "ipython",
    "version": 3
   },
   "file_extension": ".py",
   "mimetype": "text/x-python",
   "name": "python",
   "nbconvert_exporter": "python",
   "pygments_lexer": "ipython3",
   "version": "3.11.5"
  }
 },
 "nbformat": 4,
 "nbformat_minor": 0
}
