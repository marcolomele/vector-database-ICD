{
 "cells": [
  {
   "cell_type": "markdown",
   "id": "d894e4ae",
   "metadata": {},
   "source": [
    "# Convert ICD10 codes to ICD11 codes"
   ]
  },
  {
   "cell_type": "code",
   "execution_count": 1,
   "id": "dde94d18",
   "metadata": {},
   "outputs": [
    {
     "name": "stdout",
     "output_type": "stream",
     "text": [
      "✅ File saved as: comorbidity_with_icd11.csv\n"
     ]
    }
   ],
   "source": [
    "import pandas as pd\n",
    "\n",
    "# === Step 1: Load Comorbidity Data ===\n",
    "comorbidity_path = \"comorbidity_data.xlsx\"\n",
    "df = pd.read_excel(comorbidity_path, sheet_name='Ranked comorbidity pairs', skiprows=1)\n",
    "df_filtered = df[['ICD1', 'ICD2', 'ln2(ratio)']].copy()\n",
    "df_filtered.columns = ['ICD1', 'ICD2', 'Log2_Ratio']\n",
    "\n",
    "# === Step 2: Load ICD-10 to ICD-11 Mapping ===\n",
    "map_path = \"ICD_10to11_mapping.xlsx\"\n",
    "map_df = pd.read_excel(map_path)\n",
    "map_filtered = map_df[['icd10Code', 'icd10Title', 'icd11Code', 'icd11Title']].copy()\n",
    "\n",
    "# === Step 3: Create Mapping Dictionary ===\n",
    "icd10_to_icd11 = dict(zip(map_filtered['icd10Code'], map_filtered['icd11Code']))\n",
    "\n",
    "# === Step 4: Add ICD-11 Columns ===\n",
    "df_filtered['ICD11_1'] = df_filtered['ICD1'].map(icd10_to_icd11)\n",
    "df_filtered['ICD11_2'] = df_filtered['ICD2'].map(icd10_to_icd11)\n",
    "\n",
    "# === Step 4b: Strip trailing \".Z\" from any ICD-11 codes ===\n",
    "for col in ['ICD11_1', 'ICD11_2']:\n",
    "    df_filtered[col] = df_filtered[col].astype(str).str.replace(r'\\.Z$', '', regex=True)\n",
    "\n",
    "# === Step 5: Save to CSV ===\n",
    "output_path = \"comorbidity_with_icd11.csv\"\n",
    "df_filtered.to_csv(output_path, index=False)\n",
    "\n",
    "print(f\"✅ File saved as: {output_path}\")"
   ]
  },
  {
   "cell_type": "markdown",
   "id": "83364000",
   "metadata": {},
   "source": [
    "# Scoring function"
   ]
  },
  {
   "cell_type": "code",
   "execution_count": 15,
   "id": "f3c3a01a",
   "metadata": {},
   "outputs": [],
   "source": [
    "import pandas as pd\n",
    "import numpy as np\n",
    "import re\n",
    "from sklearn.metrics.pairwise import cosine_similarity\n",
    "from scipy.stats import pearsonr\n",
    "\n",
    "def compute_vector_correlation(comorbidity_path, vector_path):\n",
    "    \"\"\"\n",
    "    Compute the Pearson correlation between vector similarity and comorbidity score.\n",
    "\n",
    "    Parameters:\n",
    "        comorbidity_path (str): Path to comorbidity dataset (CSV) with ICD11_1, ICD11_2, Log2_Ratio\n",
    "        vector_path (str): Path to vector file (CSV) with ICD11_Code, Vector (stringified array)\n",
    "\n",
    "    Returns:\n",
    "        float: Pearson correlation coefficient\n",
    "    \"\"\"\n",
    "    \n",
    "    # --- Step 1: Load data ---\n",
    "    comorbidity_df = pd.read_csv(comorbidity_path)\n",
    "    vector_df = pd.read_csv(vector_path, usecols=[\"ICD11_code\", \"Vector\"])\n",
    "\n",
    "    # --- Step 2: Parse vector strings into NumPy arrays ---\n",
    "    def safe_parse_vector(v):\n",
    "        if isinstance(v, bytes):\n",
    "            v = v.decode('utf-8')\n",
    "        numbers = re.findall(r'-?\\d+(?:\\.\\d+)?(?:[eE][+-]?\\d+)?', str(v))\n",
    "        return np.array([float(n) for n in numbers])\n",
    "\n",
    "    vector_df['Vector'] = vector_df['Vector'].apply(safe_parse_vector)\n",
    "\n",
    "    # --- Step 3: Build vector lookup ---\n",
    "    vector_map = dict(zip(vector_df['ICD11_code'], vector_df['Vector']))\n",
    "\n",
    "    # --- Step 4: Filter valid comorbidity pairs ---\n",
    "    valid_df = comorbidity_df[\n",
    "        comorbidity_df['ICD11_1'].isin(vector_map) &\n",
    "        comorbidity_df['ICD11_2'].isin(vector_map)\n",
    "    ].copy()\n",
    "\n",
    "    # --- Step 5: Compute cosine similarity ---\n",
    "    similarities = [\n",
    "        cosine_similarity([vector_map[row['ICD11_1']]], [vector_map[row['ICD11_2']]])[0][0]\n",
    "        for _, row in valid_df.iterrows()\n",
    "    ]\n",
    "    valid_df['Vector_Similarity'] = similarities\n",
    "\n",
    "    # --- Step 6: Compute correlation ---\n",
    "    pearson_corr, _ = pearsonr(valid_df['Log2_Ratio'].astype(float), valid_df['Vector_Similarity'])\n",
    "    pearson_corr_rounded=round(pearson_corr, 4)\n",
    "\n",
    "    return pearson_corr_rounded"
   ]
  },
  {
   "cell_type": "markdown",
   "id": "1cb03492",
   "metadata": {},
   "source": [
    "# Results"
   ]
  },
  {
   "cell_type": "code",
   "execution_count": 16,
   "id": "e65e1bb4",
   "metadata": {},
   "outputs": [
    {
     "data": {
      "text/html": [
       "<div>\n",
       "<style scoped>\n",
       "    .dataframe tbody tr th:only-of-type {\n",
       "        vertical-align: middle;\n",
       "    }\n",
       "\n",
       "    .dataframe tbody tr th {\n",
       "        vertical-align: top;\n",
       "    }\n",
       "\n",
       "    .dataframe thead th {\n",
       "        text-align: right;\n",
       "    }\n",
       "</style>\n",
       "<table border=\"1\" class=\"dataframe\">\n",
       "  <thead>\n",
       "    <tr style=\"text-align: right;\">\n",
       "      <th></th>\n",
       "      <th>Model</th>\n",
       "      <th>Comorbidity benchmark score</th>\n",
       "    </tr>\n",
       "  </thead>\n",
       "  <tbody>\n",
       "    <tr>\n",
       "      <th>0</th>\n",
       "      <td>tfidf</td>\n",
       "      <td>0.2801</td>\n",
       "    </tr>\n",
       "    <tr>\n",
       "      <th>1</th>\n",
       "      <td>fasttext</td>\n",
       "      <td>0.0966</td>\n",
       "    </tr>\n",
       "    <tr>\n",
       "      <th>2</th>\n",
       "      <td>bert</td>\n",
       "      <td>0.1332</td>\n",
       "    </tr>\n",
       "    <tr>\n",
       "      <th>3</th>\n",
       "      <td>biobert</td>\n",
       "      <td>0.1260</td>\n",
       "    </tr>\n",
       "    <tr>\n",
       "      <th>4</th>\n",
       "      <td>bioclinicalbert</td>\n",
       "      <td>0.0972</td>\n",
       "    </tr>\n",
       "    <tr>\n",
       "      <th>5</th>\n",
       "      <td>pubmedbert</td>\n",
       "      <td>0.1706</td>\n",
       "    </tr>\n",
       "    <tr>\n",
       "      <th>6</th>\n",
       "      <td>gatortron</td>\n",
       "      <td>0.1886</td>\n",
       "    </tr>\n",
       "  </tbody>\n",
       "</table>\n",
       "</div>"
      ],
      "text/plain": [
       "             Model  Comorbidity benchmark score\n",
       "0            tfidf                       0.2801\n",
       "1         fasttext                       0.0966\n",
       "2             bert                       0.1332\n",
       "3          biobert                       0.1260\n",
       "4  bioclinicalbert                       0.0972\n",
       "5       pubmedbert                       0.1706\n",
       "6        gatortron                       0.1886"
      ]
     },
     "execution_count": 16,
     "metadata": {},
     "output_type": "execute_result"
    }
   ],
   "source": [
    "results={}\n",
    "for model in [\"tfidf\", \"fasttext\", \"bert\", \"biobert\", \"bioclinicalbert\", \"pubmedbert\", \"gatortron\"]:\n",
    "    path=model+\"_ICD11_embeddings.csv\"\n",
    "    results[model]=compute_vector_correlation(\"comorbidity_with_icd11.csv\", path)\n",
    "results_df=pd.DataFrame(results.items(), columns=['Model', 'Comorbidity benchmark score'])\n",
    "results_df"
   ]
  }
 ],
 "metadata": {
  "kernelspec": {
   "display_name": "Python 3 (ipykernel)",
   "language": "python",
   "name": "python3"
  },
  "language_info": {
   "codemirror_mode": {
    "name": "ipython",
    "version": 3
   },
   "file_extension": ".py",
   "mimetype": "text/x-python",
   "name": "python",
   "nbconvert_exporter": "python",
   "pygments_lexer": "ipython3",
   "version": "3.11.5"
  }
 },
 "nbformat": 4,
 "nbformat_minor": 5
}
