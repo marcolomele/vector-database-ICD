{
 "cells": [
  {
   "cell_type": "code",
   "execution_count": 2,
   "id": "bb42c560",
   "metadata": {},
   "outputs": [],
   "source": [
    "#!pip3 install torch torchvision torchaudio --index-url https://download.pytorch.org/whl/cu126"
   ]
  },
  {
   "cell_type": "code",
   "execution_count": null,
   "id": "8b734d19",
   "metadata": {},
   "outputs": [],
   "source": [
    "import pandas as pd\n",
    "from transformers import AutoTokenizer, AutoModel\n",
    "import torch\n",
    "import numpy as np\n",
    "from tqdm import tqdm"
   ]
  },
  {
   "cell_type": "code",
   "execution_count": null,
   "id": "ac7aa7b0",
   "metadata": {},
   "outputs": [],
   "source": [
    "df = pd.read_csv(\"icd11_data_vectorization.csv\")  \n",
    "\n",
    "#texts are displayed as lists\n",
    "texts = df['vectorization_text'].fillna(\"\").tolist()"
   ]
  },
  {
   "cell_type": "code",
   "execution_count": 5,
   "id": "435c5ec3",
   "metadata": {},
   "outputs": [
    {
     "data": {
      "text/plain": [
       "BertModel(\n",
       "  (embeddings): BertEmbeddings(\n",
       "    (word_embeddings): Embedding(28996, 768, padding_idx=0)\n",
       "    (position_embeddings): Embedding(512, 768)\n",
       "    (token_type_embeddings): Embedding(2, 768)\n",
       "    (LayerNorm): LayerNorm((768,), eps=1e-12, elementwise_affine=True)\n",
       "    (dropout): Dropout(p=0.1, inplace=False)\n",
       "  )\n",
       "  (encoder): BertEncoder(\n",
       "    (layer): ModuleList(\n",
       "      (0-11): 12 x BertLayer(\n",
       "        (attention): BertAttention(\n",
       "          (self): BertSdpaSelfAttention(\n",
       "            (query): Linear(in_features=768, out_features=768, bias=True)\n",
       "            (key): Linear(in_features=768, out_features=768, bias=True)\n",
       "            (value): Linear(in_features=768, out_features=768, bias=True)\n",
       "            (dropout): Dropout(p=0.1, inplace=False)\n",
       "          )\n",
       "          (output): BertSelfOutput(\n",
       "            (dense): Linear(in_features=768, out_features=768, bias=True)\n",
       "            (LayerNorm): LayerNorm((768,), eps=1e-12, elementwise_affine=True)\n",
       "            (dropout): Dropout(p=0.1, inplace=False)\n",
       "          )\n",
       "        )\n",
       "        (intermediate): BertIntermediate(\n",
       "          (dense): Linear(in_features=768, out_features=3072, bias=True)\n",
       "          (intermediate_act_fn): GELUActivation()\n",
       "        )\n",
       "        (output): BertOutput(\n",
       "          (dense): Linear(in_features=3072, out_features=768, bias=True)\n",
       "          (LayerNorm): LayerNorm((768,), eps=1e-12, elementwise_affine=True)\n",
       "          (dropout): Dropout(p=0.1, inplace=False)\n",
       "        )\n",
       "      )\n",
       "    )\n",
       "  )\n",
       "  (pooler): BertPooler(\n",
       "    (dense): Linear(in_features=768, out_features=768, bias=True)\n",
       "    (activation): Tanh()\n",
       "  )\n",
       ")"
      ]
     },
     "execution_count": 5,
     "metadata": {},
     "output_type": "execute_result"
    }
   ],
   "source": [
    "model_name = \"dmis-lab/biobert-base-cased-v1.1\"  # You can change this to any BioBERT variant\n",
    "tokenizer = AutoTokenizer.from_pretrained(model_name)\n",
    "model = AutoModel.from_pretrained(model_name)\n",
    "\n",
    "# Set model to evaluation mode (no dropout, no training)\n",
    "model.eval()\n",
    "\n",
    "# Move model to GPU if available\n",
    "device = torch.device(\"cuda\" if torch.cuda.is_available() else \"cpu\")\n",
    "model.to(device)"
   ]
  },
  {
   "cell_type": "markdown",
   "id": "2c6de4a8",
   "metadata": {},
   "source": [
    "This is the function to perform the embedding"
   ]
  },
  {
   "cell_type": "code",
   "execution_count": 6,
   "id": "40d46954",
   "metadata": {},
   "outputs": [],
   "source": [
    "def embed_texts_batched(texts, tokenizer, model, device, batch_size=16):\n",
    "    all_embeddings = []\n",
    "\n",
    "    for i in tqdm(range(0, len(texts), batch_size), desc=\"Embedding batches\"):\n",
    "        batch = texts[i:i+batch_size]\n",
    "\n",
    "        # Tokenize batch\n",
    "        inputs = tokenizer(batch, return_tensors='pt', truncation=True, max_length=512,\n",
    "                           padding='max_length')  # uniform length across batch\n",
    "        inputs = {k: v.to(device) for k, v in inputs.items()}\n",
    "\n",
    "        with torch.no_grad():\n",
    "            outputs = model(**inputs)\n",
    "            hidden_states = outputs.last_hidden_state  # [batch, seq_len, hidden_dim]\n",
    "            mask = inputs['attention_mask']\n",
    "\n",
    "            # Mean pooling (ignore padding)\n",
    "            mask_expanded = mask.unsqueeze(-1).expand(hidden_states.size()).float()\n",
    "            sum_embeddings = torch.sum(hidden_states * mask_expanded, 1)\n",
    "            sum_mask = torch.clamp(mask_expanded.sum(1), min=1e-9)\n",
    "            mean_pooled = (sum_embeddings / sum_mask).cpu().numpy()\n",
    "\n",
    "        all_embeddings.extend(mean_pooled)\n",
    "\n",
    "    return np.array(all_embeddings)\n"
   ]
  },
  {
   "cell_type": "code",
   "execution_count": 7,
   "id": "ff8ba535",
   "metadata": {},
   "outputs": [
    {
     "data": {
      "text/html": [
       "<div>\n",
       "<style scoped>\n",
       "    .dataframe tbody tr th:only-of-type {\n",
       "        vertical-align: middle;\n",
       "    }\n",
       "\n",
       "    .dataframe tbody tr th {\n",
       "        vertical-align: top;\n",
       "    }\n",
       "\n",
       "    .dataframe thead th {\n",
       "        text-align: right;\n",
       "    }\n",
       "</style>\n",
       "<table border=\"1\" class=\"dataframe\">\n",
       "  <thead>\n",
       "    <tr style=\"text-align: right;\">\n",
       "      <th></th>\n",
       "      <th>id</th>\n",
       "      <th>code</th>\n",
       "      <th>title</th>\n",
       "      <th>browser_url</th>\n",
       "      <th>class_kind</th>\n",
       "      <th>definition</th>\n",
       "      <th>parent</th>\n",
       "      <th>inclusions</th>\n",
       "      <th>foundation_children</th>\n",
       "      <th>foundation_child_references</th>\n",
       "      <th>...</th>\n",
       "      <th>full_text</th>\n",
       "      <th>children</th>\n",
       "      <th>postcoordination_scales</th>\n",
       "      <th>index_term_references</th>\n",
       "      <th>exclusions</th>\n",
       "      <th>exclusion_references</th>\n",
       "      <th>fully_specified_name</th>\n",
       "      <th>id_parent1</th>\n",
       "      <th>parent_description1</th>\n",
       "      <th>vectorization_text</th>\n",
       "    </tr>\n",
       "  </thead>\n",
       "  <tbody>\n",
       "    <tr>\n",
       "      <th>0</th>\n",
       "      <td>1937339080</td>\n",
       "      <td>1C22</td>\n",
       "      <td>Infections due to Chlamydia psittaci</td>\n",
       "      <td>https://icd.who.int/browse/2023-01/mms/en#1937...</td>\n",
       "      <td>category</td>\n",
       "      <td>Any condition caused by an infection with the ...</td>\n",
       "      <td>1127435854</td>\n",
       "      <td>Psittacosis; Ornithosis; Parrot fever</td>\n",
       "      <td>Pneumonia in chlamydia psittaci infection</td>\n",
       "      <td>Pneumonia in chlamydia psittaci infection: htt...</td>\n",
       "      <td>...</td>\n",
       "      <td>Infections due to Chlamydia psittaci Any condi...</td>\n",
       "      <td>NaN</td>\n",
       "      <td>NaN</td>\n",
       "      <td>NaN</td>\n",
       "      <td>NaN</td>\n",
       "      <td>NaN</td>\n",
       "      <td>NaN</td>\n",
       "      <td>1.127436e+09</td>\n",
       "      <td>NaN</td>\n",
       "      <td>Title: Infections due to Chlamydia psittaci\\nD...</td>\n",
       "    </tr>\n",
       "    <tr>\n",
       "      <th>1</th>\n",
       "      <td>1671640403</td>\n",
       "      <td>1F51.0</td>\n",
       "      <td>Gambiense trypanosomiasis</td>\n",
       "      <td>https://icd.who.int/browse/2023-01/mms/en#1671...</td>\n",
       "      <td>category</td>\n",
       "      <td>A disease caused by an infection with the prot...</td>\n",
       "      <td>875488052</td>\n",
       "      <td>West African sleeping sickness; Infection due ...</td>\n",
       "      <td>NaN</td>\n",
       "      <td>NaN</td>\n",
       "      <td>...</td>\n",
       "      <td>Gambiense trypanosomiasis A disease caused by ...</td>\n",
       "      <td>1842725899; other; unspecified</td>\n",
       "      <td>{'axis_name': 'hasManifestation', 'required': ...</td>\n",
       "      <td>NaN</td>\n",
       "      <td>NaN</td>\n",
       "      <td>NaN</td>\n",
       "      <td>NaN</td>\n",
       "      <td>8.754881e+08</td>\n",
       "      <td>A disease caused by an infection with the prot...</td>\n",
       "      <td>Title: Gambiense trypanosomiasis\\nDefinition: ...</td>\n",
       "    </tr>\n",
       "    <tr>\n",
       "      <th>2</th>\n",
       "      <td>1528414070</td>\n",
       "      <td>1A07</td>\n",
       "      <td>Typhoid fever</td>\n",
       "      <td>https://icd.who.int/browse/2023-01/mms/en#1528...</td>\n",
       "      <td>category</td>\n",
       "      <td>A condition caused by an infection with the gr...</td>\n",
       "      <td>135352227</td>\n",
       "      <td>NaN</td>\n",
       "      <td>NaN</td>\n",
       "      <td>NaN</td>\n",
       "      <td>...</td>\n",
       "      <td>Typhoid fever A condition caused by an infecti...</td>\n",
       "      <td>364534567; other; unspecified</td>\n",
       "      <td>{'axis_name': 'hasManifestation', 'required': ...</td>\n",
       "      <td>NaN</td>\n",
       "      <td>NaN</td>\n",
       "      <td>NaN</td>\n",
       "      <td>NaN</td>\n",
       "      <td>1.353522e+08</td>\n",
       "      <td>Any condition of the intestines, caused by an ...</td>\n",
       "      <td>Title: Typhoid fever\\nDefinition: A condition ...</td>\n",
       "    </tr>\n",
       "    <tr>\n",
       "      <th>3</th>\n",
       "      <td>328097188</td>\n",
       "      <td>1A36.12</td>\n",
       "      <td>Cutaneous amoebiasis</td>\n",
       "      <td>https://icd.who.int/browse/2023-01/mms/en#3280...</td>\n",
       "      <td>category</td>\n",
       "      <td>NaN</td>\n",
       "      <td>1777228366</td>\n",
       "      <td>NaN</td>\n",
       "      <td>NaN</td>\n",
       "      <td>NaN</td>\n",
       "      <td>...</td>\n",
       "      <td>Cutaneous amoebiasis Cutaneous amoebiasis; Amo...</td>\n",
       "      <td>NaN</td>\n",
       "      <td>NaN</td>\n",
       "      <td>NaN</td>\n",
       "      <td>NaN</td>\n",
       "      <td>NaN</td>\n",
       "      <td>NaN</td>\n",
       "      <td>1.777228e+09</td>\n",
       "      <td>NaN</td>\n",
       "      <td>Title: Cutaneous amoebiasis\\nRelated entities:...</td>\n",
       "    </tr>\n",
       "    <tr>\n",
       "      <th>4</th>\n",
       "      <td>1483190070</td>\n",
       "      <td>1D03</td>\n",
       "      <td>Infectious abscess of the central nervous system</td>\n",
       "      <td>https://icd.who.int/browse/2023-01/mms/en#1483...</td>\n",
       "      <td>category</td>\n",
       "      <td>A focal suppurative process of the brain paren...</td>\n",
       "      <td>1585949804</td>\n",
       "      <td>NaN</td>\n",
       "      <td>NaN</td>\n",
       "      <td>NaN</td>\n",
       "      <td>...</td>\n",
       "      <td>Infectious abscess of the central nervous syst...</td>\n",
       "      <td>443087096; 613341872; 1147230459; 1128677700; ...</td>\n",
       "      <td>{'axis_name': 'specificAnatomy', 'required': '...</td>\n",
       "      <td>NaN</td>\n",
       "      <td>NaN</td>\n",
       "      <td>NaN</td>\n",
       "      <td>NaN</td>\n",
       "      <td>1.585950e+09</td>\n",
       "      <td>Any condition of the nervous system, caused by...</td>\n",
       "      <td>Title: Infectious abscess of the central nervo...</td>\n",
       "    </tr>\n",
       "  </tbody>\n",
       "</table>\n",
       "<p>5 rows × 22 columns</p>\n",
       "</div>"
      ],
      "text/plain": [
       "           id     code                                             title  \\\n",
       "0  1937339080     1C22              Infections due to Chlamydia psittaci   \n",
       "1  1671640403   1F51.0                         Gambiense trypanosomiasis   \n",
       "2  1528414070     1A07                                     Typhoid fever   \n",
       "3   328097188  1A36.12                              Cutaneous amoebiasis   \n",
       "4  1483190070     1D03  Infectious abscess of the central nervous system   \n",
       "\n",
       "                                         browser_url class_kind  \\\n",
       "0  https://icd.who.int/browse/2023-01/mms/en#1937...   category   \n",
       "1  https://icd.who.int/browse/2023-01/mms/en#1671...   category   \n",
       "2  https://icd.who.int/browse/2023-01/mms/en#1528...   category   \n",
       "3  https://icd.who.int/browse/2023-01/mms/en#3280...   category   \n",
       "4  https://icd.who.int/browse/2023-01/mms/en#1483...   category   \n",
       "\n",
       "                                          definition      parent  \\\n",
       "0  Any condition caused by an infection with the ...  1127435854   \n",
       "1  A disease caused by an infection with the prot...   875488052   \n",
       "2  A condition caused by an infection with the gr...   135352227   \n",
       "3                                                NaN  1777228366   \n",
       "4  A focal suppurative process of the brain paren...  1585949804   \n",
       "\n",
       "                                          inclusions  \\\n",
       "0              Psittacosis; Ornithosis; Parrot fever   \n",
       "1  West African sleeping sickness; Infection due ...   \n",
       "2                                                NaN   \n",
       "3                                                NaN   \n",
       "4                                                NaN   \n",
       "\n",
       "                         foundation_children  \\\n",
       "0  Pneumonia in chlamydia psittaci infection   \n",
       "1                                        NaN   \n",
       "2                                        NaN   \n",
       "3                                        NaN   \n",
       "4                                        NaN   \n",
       "\n",
       "                         foundation_child_references  ...  \\\n",
       "0  Pneumonia in chlamydia psittaci infection: htt...  ...   \n",
       "1                                                NaN  ...   \n",
       "2                                                NaN  ...   \n",
       "3                                                NaN  ...   \n",
       "4                                                NaN  ...   \n",
       "\n",
       "                                           full_text  \\\n",
       "0  Infections due to Chlamydia psittaci Any condi...   \n",
       "1  Gambiense trypanosomiasis A disease caused by ...   \n",
       "2  Typhoid fever A condition caused by an infecti...   \n",
       "3  Cutaneous amoebiasis Cutaneous amoebiasis; Amo...   \n",
       "4  Infectious abscess of the central nervous syst...   \n",
       "\n",
       "                                            children  \\\n",
       "0                                                NaN   \n",
       "1                     1842725899; other; unspecified   \n",
       "2                      364534567; other; unspecified   \n",
       "3                                                NaN   \n",
       "4  443087096; 613341872; 1147230459; 1128677700; ...   \n",
       "\n",
       "                             postcoordination_scales index_term_references  \\\n",
       "0                                                NaN                   NaN   \n",
       "1  {'axis_name': 'hasManifestation', 'required': ...                   NaN   \n",
       "2  {'axis_name': 'hasManifestation', 'required': ...                   NaN   \n",
       "3                                                NaN                   NaN   \n",
       "4  {'axis_name': 'specificAnatomy', 'required': '...                   NaN   \n",
       "\n",
       "  exclusions exclusion_references fully_specified_name    id_parent1  \\\n",
       "0        NaN                  NaN                  NaN  1.127436e+09   \n",
       "1        NaN                  NaN                  NaN  8.754881e+08   \n",
       "2        NaN                  NaN                  NaN  1.353522e+08   \n",
       "3        NaN                  NaN                  NaN  1.777228e+09   \n",
       "4        NaN                  NaN                  NaN  1.585950e+09   \n",
       "\n",
       "                                 parent_description1  \\\n",
       "0                                                NaN   \n",
       "1  A disease caused by an infection with the prot...   \n",
       "2  Any condition of the intestines, caused by an ...   \n",
       "3                                                NaN   \n",
       "4  Any condition of the nervous system, caused by...   \n",
       "\n",
       "                                  vectorization_text  \n",
       "0  Title: Infections due to Chlamydia psittaci\\nD...  \n",
       "1  Title: Gambiense trypanosomiasis\\nDefinition: ...  \n",
       "2  Title: Typhoid fever\\nDefinition: A condition ...  \n",
       "3  Title: Cutaneous amoebiasis\\nRelated entities:...  \n",
       "4  Title: Infectious abscess of the central nervo...  \n",
       "\n",
       "[5 rows x 22 columns]"
      ]
     },
     "execution_count": 7,
     "metadata": {},
     "output_type": "execute_result"
    }
   ],
   "source": [
    "df.head()"
   ]
  },
  {
   "cell_type": "markdown",
   "id": "88cf9588",
   "metadata": {},
   "source": [
    "Creation of the vectors "
   ]
  },
  {
   "cell_type": "code",
   "execution_count": 8,
   "id": "3f601fff",
   "metadata": {},
   "outputs": [
    {
     "name": "stderr",
     "output_type": "stream",
     "text": [
      "Embedding batches:   0%|          | 0/1756 [00:00<?, ?it/s]"
     ]
    },
    {
     "name": "stderr",
     "output_type": "stream",
     "text": [
      "Embedding batches: 100%|██████████| 1756/1756 [27:53<00:00,  1.05it/s]\n"
     ]
    }
   ],
   "source": [
    "\n",
    "vectors = embed_texts_batched(texts, tokenizer, model, device, batch_size=16)\n",
    "\n",
    "# Save results\n",
    "np.save(\"icd_biobert_vectors.npy\", vectors)\n",
    "df['biobert_vector'] = list(vectors)\n",
    "df.to_pickle(\"icd_vectorization_with_biobert.pkl\")"
   ]
  },
  {
   "cell_type": "code",
   "execution_count": 12,
   "id": "c6668d4c",
   "metadata": {},
   "outputs": [
    {
     "data": {
      "text/plain": [
       "768"
      ]
     },
     "execution_count": 12,
     "metadata": {},
     "output_type": "execute_result"
    }
   ],
   "source": [
    "len(df['biobert_vector'][0])\n"
   ]
  },
  {
   "cell_type": "markdown",
   "id": "e532cfe5",
   "metadata": {},
   "source": [
    "## Proviamo a fare un prompt e ritrovare il codice corrispondente con cosine similarity"
   ]
  },
  {
   "cell_type": "code",
   "execution_count": 32,
   "id": "45f19a04",
   "metadata": {},
   "outputs": [
    {
     "name": "stderr",
     "output_type": "stream",
     "text": [
      "Embedding batches: 100%|██████████| 1/1 [00:00<00:00,  1.24it/s]"
     ]
    },
    {
     "name": "stdout",
     "output_type": "stream",
     "text": [
      "Embedded vector shape: (1, 768)\n",
      "First 5 dims: [-0.10943115  0.143661   -0.2256604   0.00810312  0.26296365]\n"
     ]
    },
    {
     "name": "stderr",
     "output_type": "stream",
     "text": [
      "\n"
     ]
    }
   ],
   "source": [
    "# Structured prompt text\n",
    "structured_text = \"[Title]: brain tumor\\n[Definition]: Tumours are usually located in the brain hemispheres.\"\n",
    "\n",
    "\n",
    "\n",
    "# Call your embed function (assuming it's defined like you said)\n",
    "embedding = embed_texts_batched(\n",
    "    texts=[structured_text],\n",
    "    tokenizer=tokenizer,\n",
    "    model=model,\n",
    "    device=device,\n",
    "    batch_size=16\n",
    ")\n",
    "\n",
    "# Result is a NumPy array (likely shape: (1, 768))\n",
    "print(\"Embedded vector shape:\", embedding.shape)\n",
    "print(\"First 5 dims:\", embedding[0][:5])\n"
   ]
  },
  {
   "cell_type": "code",
   "execution_count": 33,
   "id": "54302fa0",
   "metadata": {},
   "outputs": [],
   "source": [
    "from sklearn.metrics.pairwise import cosine_similarity"
   ]
  },
  {
   "cell_type": "code",
   "execution_count": 34,
   "id": "96dcbf8d",
   "metadata": {},
   "outputs": [],
   "source": [
    "bio_vectors_stacked = np.vstack(df['biobert_vector'].values).astype('float32')\n",
    "\n",
    "# Ensure embedding is 2D (1, 768)\n",
    "query_embedding = np.array(embedding, dtype='float32').reshape(1, -1)\n",
    "\n",
    "# Now cosine similarity will work\n",
    "sim = cosine_similarity(bio_vectors_stacked, query_embedding)  # shape: (N, 1)\n",
    "\n",
    "# Top-k matches\n",
    "top_k = sim[:, 0].argsort()[-5:][::-1]\n"
   ]
  },
  {
   "cell_type": "code",
   "execution_count": 35,
   "id": "e900d226",
   "metadata": {},
   "outputs": [],
   "source": [
    "top_matches = df.iloc[top_k][['code']]"
   ]
  },
  {
   "cell_type": "code",
   "execution_count": 36,
   "id": "bc0a7a51",
   "metadata": {},
   "outputs": [
    {
     "name": "stdout",
     "output_type": "stream",
     "text": [
      "         code\n",
      "800    2E80.1\n",
      "4272     9A23\n",
      "17446  XA54B9\n",
      "9845   MB71.0\n",
      "8036     KB2K\n"
     ]
    }
   ],
   "source": [
    "print(top_matches)"
   ]
  },
  {
   "cell_type": "code",
   "execution_count": 37,
   "id": "cd649649",
   "metadata": {},
   "outputs": [],
   "source": [
    "row = df.loc[df['code'] == '2A00.0']"
   ]
  },
  {
   "cell_type": "code",
   "execution_count": 42,
   "id": "536d90ac",
   "metadata": {},
   "outputs": [
    {
     "name": "stdout",
     "output_type": "stream",
     "text": [
      "Title: Gliomas of brain\n",
      "Full text: Gliomas of brain\n",
      "Children: 650534447; other; unspecified\n"
     ]
    }
   ],
   "source": [
    "# Ensure the full text is displayed\n",
    "print(row['vectorization_text'].values[0])"
   ]
  },
  {
   "cell_type": "code",
   "execution_count": 44,
   "id": "f8b4212a",
   "metadata": {},
   "outputs": [
    {
     "data": {
      "text/plain": [
       "18471        NaN\n",
       "12279        NaN\n",
       "11627        NaN\n",
       "20892    AIN III\n",
       "15880        NaN\n",
       "27019        NaN\n",
       "4751         NaN\n",
       "13504        NaN\n",
       "12769        NaN\n",
       "4415         NaN\n",
       "Name: inclusions, dtype: object"
      ]
     },
     "execution_count": 44,
     "metadata": {},
     "output_type": "execute_result"
    }
   ],
   "source": [
    "df['inclusions'].sample(10)"
   ]
  },
  {
   "cell_type": "markdown",
   "id": "2109a3af",
   "metadata": {},
   "source": [
    "Horrible result "
   ]
  }
 ],
 "metadata": {
  "kernelspec": {
   "display_name": "base",
   "language": "python",
   "name": "python3"
  },
  "language_info": {
   "codemirror_mode": {
    "name": "ipython",
    "version": 3
   },
   "file_extension": ".py",
   "mimetype": "text/x-python",
   "name": "python",
   "nbconvert_exporter": "python",
   "pygments_lexer": "ipython3",
   "version": "3.12.4"
  }
 },
 "nbformat": 4,
 "nbformat_minor": 5
}
