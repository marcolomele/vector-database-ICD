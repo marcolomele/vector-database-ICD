{
 "cells": [
  {
   "cell_type": "markdown",
   "metadata": {},
   "source": [
    "# Import and Load"
   ]
  },
  {
   "cell_type": "code",
   "execution_count": 1,
   "metadata": {},
   "outputs": [],
   "source": [
    "import pandas as pd\n",
    "import seaborn as sns\n",
    "import numpy as np\n",
    "import matplotlib.pyplot as plt\n",
    "from tqdm import tqdm"
   ]
  },
  {
   "cell_type": "markdown",
   "metadata": {},
   "source": [
    "# Raw ICD-11 "
   ]
  },
  {
   "cell_type": "code",
   "execution_count": 49,
   "metadata": {},
   "outputs": [
    {
     "data": {
      "text/plain": [
       "Index(['id', 'code', 'title', 'browser_url', 'class_kind', 'definition',\n",
       "       'parent', 'inclusions', 'foundation_children',\n",
       "       'foundation_child_references', 'index_terms', 'related_entities',\n",
       "       'full_text', 'children', 'postcoordination_scales',\n",
       "       'index_term_references', 'exclusions', 'exclusion_references',\n",
       "       'fully_specified_name'],\n",
       "      dtype='object')"
      ]
     },
     "execution_count": 49,
     "metadata": {},
     "output_type": "execute_result"
    }
   ],
   "source": [
    "df = pd.read_csv('icd11-25_data_raw.csv')\n",
    "df.columns"
   ]
  },
  {
   "cell_type": "markdown",
   "metadata": {},
   "source": [
    "Based on the ICD-11 Reference Guide (refguide_ICD11.pdf), here's an explanation of the columns you listed, likely extracted from the ICD-11 API:\n",
    "\n",
    "1.  **`id`**: This corresponds to the **Uniform Resource Identifier (URI)**. Each entity (disease, disorder, finding, etc.) in the ICD-11 Foundation Component has a unique URI that identifies it regardless of language or context[cite: 324, 3198].\n",
    "2.  **`code`**: This is the alphanumeric **ICD-11 code** (e.g., 1A00, 9B71.0Z, XA1X49) assigned to categories in a specific tabular list (like the MMS list for mortality and morbidity) or used for extension codes[cite: 103, 311, 312]. Stem codes (from main chapters) can be used alone, while extension codes (starting with 'X') add detail and must be used with a stem code for statistical classification[cite: 566, 336].\n",
    "3.  **`title`**: This is the standard, preferred name or label for the ICD entity in the given language[cite: 513, 528].\n",
    "4.  **`browser_url`**: This is likely the direct web address (URL) to view the specific entity in the official WHO ICD-11 online browser[cite: 228, 485]. The `id` (URI) usually forms part of this URL.\n",
    "5.  **`class_kind`**: This field indicates the type or level of the entity within the ICD-11 structure. More info below.\n",
    "6.  **`definition`**: This contains the official textual description explaining the meaning and scope of the entity[cite: 2734, 2745, 3163]. The guide distinguishes between a mandatory short description (max 100 words) and optional longer additional information[cite: 2734, 2745].\n",
    "7.  **`parent`**: This lists the identifier(s) (URI) of the immediate parent(s) of this entity in the ICD-11 hierarchy. While tabular lists are typically mono-hierarchical (one primary parent), the underlying Foundation Component supports multiple parenting (e.g., classifying a disease by both aetiology and anatomical site)[cite: 87, 361, 427, 3149].\n",
    "8.  **`inclusions`**: These are terms listed under a category title that serve as examples of diagnostic statements or synonyms classified to that category. They help clarify the content and scope of the category but are not exhaustive[cite: 503, 504, 506].\n",
    "9.  **`foundation_children`**: This likely lists the direct children (more specific entities) of this entity within the comprehensive **Foundation Component** hierarchy[cite: 87, 3157].\n",
    "10. **`foundation_child_references`**: Contains the identifiers (URIs) for the entities listed in `foundation_children`.\n",
    "11. **`index_terms`**: These are terms (including synonyms and clinical phrases) found in the ICD-11 Alphabetical Index that lead to this specific entity/code[cite: 355, 479, 3163].\n",
    "12. **`related_entities`**: While not explicitly defined as a column name in the guide, this likely refers to non-hierarchical relationships defined in the Foundation Component, possibly including links indicated by 'Code also' notes or exclusions.\n",
    "13. **`full_text`**: This term isn't explicitly defined for a column in the guide. It might be a convenience field concatenating text from the `title`, `definition`, `inclusions`, etc., or it could represent the detailed \"Additional Information\" (long definition) mentioned in the guide[cite: 2745].\n",
    "14. **`children`**: This likely lists the direct children of this entity within a *specific tabular list* (like the MMS list), as opposed to `foundation_children` which reflects the broader Foundation structure[cite: 361, 3157]. Tabular lists are often simplified or rearranged versions of the Foundation.\n",
    "15. **`postcoordination_scales`**: This refers to the specific axes or dimensions (often represented by Extension Codes) that can be combined (postcoordinated) with this entity's stem code to add more detail, such as severity, anatomy, laterality, or causality[cite: 339, 603, 2043].\n",
    "16. **`index_term_references`**: Contains the identifiers for the terms listed in `index_terms`.\n",
    "17. **`exclusions`**: These are terms listed under a category that specify conditions classified *elsewhere*. They help define the boundaries of the category[cite: 514, 516].\n",
    "18. **`exclusion_references`**: Contains the identifiers (URIs/codes) for the conditions listed in `exclusions`.\n",
    "19. **`fully_specified_name`**: This is the complete, unambiguous title for the entity, designed to be clear without needing hierarchical context, as mentioned on page 317 of the guide[cite: 3179].\n",
    "\n",
    "**Class Kind** possible types:\n",
    "* **`chapter`**: The highest level of structural organization in ICD-11. Chapters group broad areas of diseases, disorders, external causes, or other health-related conditions. The first character of an ICD-11 code typically relates to its chapter.\n",
    "* **`block`**: An intermediate hierarchical grouping of categories within a chapter. Blocks are used for organizing related conditions and can be used for aggregated statistical reporting, but they generally do not have their own specific ICD codes for diagnosing individual cases.\n",
    "* **`category`**: A specific, codable entry in an ICD-11 tabular list representing a distinct disease, disorder, injury, symptom, external cause, or other health-related problem. Categories are assigned an ICD-11 stem code and are the units used for detailed data recording and statistical analysis.\n",
    "* **`window`**: A structural element, mentioned in the context of multiple parenting and user guidance (page 45). It allows a set of conditions to be displayed in an alternative hierarchical location (secondary parentage) for Browse or specialty views, without that being its primary classification point. A window in such an alternative location typically has \"no primary children, no terms, no residual categories\" itself."
   ]
  },
  {
   "cell_type": "markdown",
   "metadata": {},
   "source": [
    "## Data Types and Nans"
   ]
  },
  {
   "cell_type": "code",
   "execution_count": 50,
   "metadata": {},
   "outputs": [
    {
     "name": "stdout",
     "output_type": "stream",
     "text": [
      "<class 'pandas.core.frame.DataFrame'>\n",
      "RangeIndex: 13960 entries, 0 to 13959\n",
      "Data columns (total 19 columns):\n",
      " #   Column                       Non-Null Count  Dtype \n",
      "---  ------                       --------------  ----- \n",
      " 0   id                           13960 non-null  int64 \n",
      " 1   code                         13062 non-null  object\n",
      " 2   title                        13960 non-null  object\n",
      " 3   browser_url                  13960 non-null  object\n",
      " 4   class_kind                   13960 non-null  object\n",
      " 5   definition                   6894 non-null   object\n",
      " 6   parent                       13960 non-null  object\n",
      " 7   inclusions                   1113 non-null   object\n",
      " 8   foundation_children          1468 non-null   object\n",
      " 9   foundation_child_references  1468 non-null   object\n",
      " 10  index_terms                  10855 non-null  object\n",
      " 11  related_entities             2287 non-null   object\n",
      " 12  full_text                    13960 non-null  object\n",
      " 13  children                     3282 non-null   object\n",
      " 14  postcoordination_scales      7235 non-null   object\n",
      " 15  index_term_references        3806 non-null   object\n",
      " 16  exclusions                   2404 non-null   object\n",
      " 17  exclusion_references         2380 non-null   object\n",
      " 18  fully_specified_name         89 non-null     object\n",
      "dtypes: int64(1), object(18)\n",
      "memory usage: 2.0+ MB\n"
     ]
    }
   ],
   "source": [
    "df.info()"
   ]
  },
  {
   "cell_type": "code",
   "execution_count": 4,
   "metadata": {},
   "outputs": [],
   "source": [
    "df.loc[df['code'].isna(), 'code'] = \"\"\n",
    "df['code'] = df['code'].astype(str)\n",
    "\n",
    "df.loc[df['title'].isna(), 'title'] = \"\"\n",
    "df['title'] = df['title'].astype(str)\n",
    "\n",
    "df['browser_url'] = df['browser_url'].astype(str)\n",
    "\n",
    "df['class_kind'] = df['class_kind'].astype(str)\n",
    "\n",
    "df.loc[df['definition'].isna(), 'definition'] = \"\"\n",
    "df['definition'] = df['definition'].astype(str)\n",
    "\n",
    "df.loc[df['parent']=='mms', 'parent'] = '1000000000'\n",
    "df['parent'] = df['parent'].astype(int)\n",
    "\n",
    "df.loc[df['inclusions'].isna(), 'inclusions'] = \"\"\n",
    "df['inclusions'] = df['inclusions'].astype(str)\n",
    "\n",
    "df.loc[df['foundation_children'].isna(), 'foundation_children'] = \"\"\n",
    "df['foundation_children'] = df['foundation_children'].astype(str)\n",
    "\n",
    "df.loc[df['foundation_child_references'].isna(), 'foundation_child_references'] = \"\"\n",
    "df['foundation_child_references'] = df['foundation_child_references'].astype(str)\n",
    "\n",
    "df.loc[df['index_terms'].isna(), 'index_terms'] = \"\"\n",
    "df['index_terms'] = df['index_terms'].astype(str)\n",
    "\n",
    "df.loc[df['related_entities'].isna(), 'related_entities'] = \"\"\n",
    "df['related_entities'] = df['related_entities'].astype(str)\n",
    "\n",
    "df['full_text'] = df['full_text'].astype(str)\n",
    "\n",
    "df.loc[df['children'].notna(), 'children'] = df.loc[df['children'].notna(), 'children'].str.replace('other; unspecified', '').str.replace('other;', '').str.replace('unspecified', '')\n",
    "df.loc[df['children'].isna(), 'children'] = \"\"\n",
    "\n",
    "df.loc[df['postcoordination_scales'].isna(), 'postcoordination_scales'] = \"\"\n",
    "\n",
    "df.loc[df['index_term_references'].isna(), 'index_term_references'] = \"\"\n",
    "df['index_term_references'] = df['index_term_references'].astype(str)\n",
    "\n",
    "df.loc[df['exclusions'].isna(), 'exclusions'] = \"\"\n",
    "\n",
    "df.loc[df['exclusion_references'].isna(), 'exclusion_references'] = \"\"\n",
    "df['exclusion_references'] = df['exclusion_references'].astype(str)\n",
    "\n",
    "df.loc[df['fully_specified_name'].isna(), 'fully_specified_name'] = \"\"\n",
    "df['fully_specified_name'] = df['fully_specified_name'].astype(str)"
   ]
  },
  {
   "cell_type": "code",
   "execution_count": 5,
   "metadata": {},
   "outputs": [
    {
     "name": "stdout",
     "output_type": "stream",
     "text": [
      "<class 'pandas.core.frame.DataFrame'>\n",
      "RangeIndex: 13960 entries, 0 to 13959\n",
      "Data columns (total 19 columns):\n",
      " #   Column                       Non-Null Count  Dtype \n",
      "---  ------                       --------------  ----- \n",
      " 0   id                           13960 non-null  int64 \n",
      " 1   code                         13960 non-null  object\n",
      " 2   title                        13960 non-null  object\n",
      " 3   browser_url                  13960 non-null  object\n",
      " 4   class_kind                   13960 non-null  object\n",
      " 5   definition                   13960 non-null  object\n",
      " 6   parent                       13960 non-null  int64 \n",
      " 7   inclusions                   13960 non-null  object\n",
      " 8   foundation_children          13960 non-null  object\n",
      " 9   foundation_child_references  13960 non-null  object\n",
      " 10  index_terms                  13960 non-null  object\n",
      " 11  related_entities             13960 non-null  object\n",
      " 12  full_text                    13960 non-null  object\n",
      " 13  children                     13960 non-null  object\n",
      " 14  postcoordination_scales      13960 non-null  object\n",
      " 15  index_term_references        13960 non-null  object\n",
      " 16  exclusions                   13960 non-null  object\n",
      " 17  exclusion_references         13960 non-null  object\n",
      " 18  fully_specified_name         13960 non-null  object\n",
      "dtypes: int64(2), object(17)\n",
      "memory usage: 2.0+ MB\n"
     ]
    }
   ],
   "source": [
    "df.info()"
   ]
  },
  {
   "cell_type": "markdown",
   "metadata": {},
   "source": [
    "## Outliers"
   ]
  },
  {
   "cell_type": "code",
   "execution_count": 6,
   "metadata": {},
   "outputs": [
    {
     "data": {
      "text/plain": [
       "13440    6083\n",
       "196      3654\n",
       "108      2614\n",
       "523      2224\n",
       "6114     1827\n",
       "12545    1724\n",
       "12433    1608\n",
       "12718    1550\n",
       "743      1533\n",
       "13073    1507\n",
       "Name: definition, dtype: int64"
      ]
     },
     "execution_count": 6,
     "metadata": {},
     "output_type": "execute_result"
    }
   ],
   "source": [
    "df['definition'].str.len().sort_values(ascending=False)[:10]"
   ]
  },
  {
   "cell_type": "code",
   "execution_count": 7,
   "metadata": {},
   "outputs": [],
   "source": [
    "df.loc[13440, 'definition'] = \"\"\" Severity of Vision Impairment Classification. No vision impairment. Eual to or better than: 6/12, 5/10 (0.5), 20/40 (0.3). 1) Mild vision impairment. Worse than: 6/12, 5/10 (0.5), 20/40 (0.3); equal to or better than: 6/18, 3/10 (0.3), 20/70 (0.5). 2) Moderate vision impairment. Worse than: 6/18, 3/10 (0.3), 20/70 (0.5); equal to or better than: 6/60, 1/10 (0.1), 20/200 (1.3). 3) Severe vision impairment. Worse than: 6/60, 1/10 (0.1), 20/200 (1.3); equal to or better than: 3/60, 1/20 (0.05), 20/400 (1.3). 4) Blindness. Worse than: 3/60, 1/20 (0.05), 20/400 (1.3); equal to or better than: 1/60, 1/50 (0.02), 5/300 (20/1200) (1.8). Note: Visual acuity is presented in metres, decimals, feet, and logMar.\n",
    "\"\"\""
   ]
  },
  {
   "cell_type": "code",
   "execution_count": 8,
   "metadata": {},
   "outputs": [
    {
     "data": {
      "text/plain": [
       "196      573\n",
       "108      397\n",
       "523      339\n",
       "6114     282\n",
       "13073    245\n",
       "12545    237\n",
       "12433    229\n",
       "12718    225\n",
       "12735    223\n",
       "12222    220\n",
       "Name: definition, dtype: int64"
      ]
     },
     "execution_count": 8,
     "metadata": {},
     "output_type": "execute_result"
    }
   ],
   "source": [
    "df['definition'].str.split().str.len().sort_values(ascending=False)[:10]"
   ]
  },
  {
   "cell_type": "code",
   "execution_count": 9,
   "metadata": {},
   "outputs": [
    {
     "data": {
      "text/plain": [
       "196      35\n",
       "13440    31\n",
       "12749    26\n",
       "523      20\n",
       "9101     19\n",
       "743      19\n",
       "582      19\n",
       "108      19\n",
       "12538    19\n",
       "12312    18\n",
       "Name: definition, dtype: int64"
      ]
     },
     "execution_count": 9,
     "metadata": {},
     "output_type": "execute_result"
    }
   ],
   "source": [
    "df['definition'].str.split('.').str.len().sort_values(ascending=False)[:10]"
   ]
  },
  {
   "cell_type": "markdown",
   "metadata": {},
   "source": [
    "## Definition Quality"
   ]
  },
  {
   "cell_type": "markdown",
   "metadata": {},
   "source": [
    "### Length"
   ]
  },
  {
   "cell_type": "code",
   "execution_count": 46,
   "metadata": {},
   "outputs": [
    {
     "name": "stdout",
     "output_type": "stream",
     "text": [
      "Character length:\n",
      " count    13960.000000\n",
      "mean       153.656734\n",
      "std        234.053093\n",
      "min          0.000000\n",
      "25%          0.000000\n",
      "50%          0.000000\n",
      "75%        236.000000\n",
      "max       3654.000000\n",
      "Name: definition, dtype: float64 \n",
      "\n",
      "Words:\n",
      " count    13960.000000\n",
      "mean        22.457378\n",
      "std         34.164814\n",
      "min          0.000000\n",
      "25%          0.000000\n",
      "50%          0.000000\n",
      "75%         35.000000\n",
      "max        573.000000\n",
      "Name: definition, dtype: float64 \n",
      "\n",
      "Sentences:\n",
      " count    13960.000000\n",
      "mean         2.190473\n",
      "std          1.902836\n",
      "min          1.000000\n",
      "25%          1.000000\n",
      "50%          1.000000\n",
      "75%          3.000000\n",
      "max         35.000000\n",
      "Name: definition, dtype: float64 \n",
      "\n"
     ]
    },
    {
     "data": {
      "image/png": "[encoded data removed]",
      "text/plain": [
       "<Figure size 500x300 with 1 Axes>"
      ]
     },
     "metadata": {},
     "output_type": "display_data"
    },
    {
     "data": {
      "image/png": "[encoded data removed]",
      "text/plain": [
       "<Figure size 500x300 with 1 Axes>"
      ]
     },
     "metadata": {},
     "output_type": "display_data"
    },
    {
     "data": {
      "image/png": "[encoded data removed]",
      "text/plain": [
       "<Figure size 500x300 with 1 Axes>"
      ]
     },
     "metadata": {},
     "output_type": "display_data"
    }
   ],
   "source": [
    "# length description\n",
    "# character length\n",
    "print('Character length:\\n', df['definition'].str.len().describe(), '\\n')\n",
    "\n",
    "# words\n",
    "print('Words:\\n', df['definition'].str.split().str.len().describe(), '\\n')\n",
    "\n",
    "# sentences\n",
    "print('Sentences:\\n', df['definition'].str.split('.').str.len().describe(), '\\n')\n",
    "\n",
    "# length description\n",
    "plt.style.use('seaborn-v0_8')\n",
    "# character length\n",
    "plt.figure(figsize=(5,3))\n",
    "plt.hist(df['definition'].str.len(), bins=50, color='#598A4F', edgecolor='black')\n",
    "plt.title('Distribution of Character Length in Original Descriptions')\n",
    "plt.xlabel('Number of Characters')\n",
    "plt.ylabel('Frequency')\n",
    "plt.show()\n",
    "\n",
    "# words\n",
    "plt.figure(figsize=(5,3))\n",
    "plt.hist(df['definition'].str.split().str.len(), bins=50, color='#598A4F', edgecolor='black')\n",
    "plt.title('Distribution of Word Count in Definitions')\n",
    "plt.xlabel('Number of Words')\n",
    "plt.ylabel('Frequency')\n",
    "plt.show()\n",
    "\n",
    "# sentences\n",
    "plt.figure(figsize=(5,3))\n",
    "plt.hist(df['definition'].str.split('.').str.len(), bins=50, color='#598A4F', edgecolor='black')\n",
    "plt.title('Distribution of Sentence Count in Definitions')\n",
    "plt.xlabel('Number of Sentences')\n",
    "plt.ylabel('Frequency')\n",
    "plt.show()"
   ]
  },
  {
   "cell_type": "markdown",
   "metadata": {},
   "source": [
    "### Completeness"
   ]
  },
  {
   "cell_type": "code",
   "execution_count": 47,
   "metadata": {},
   "outputs": [],
   "source": [
    "def add_definition_completeness_scores(df, column='definition'):\n",
    "    # Create a copy of the dataframe\n",
    "    result_df = df.copy()\n",
    "    \n",
    "    # Add the new column\n",
    "    result_df['completeness'] = None\n",
    "    \n",
    "    # Define aspects and keywords for scoring\n",
    "    aspects = {\n",
    "    'overview': [\n",
    "        'is a', 'are a', 'defined as', 'refers to', 'condition', 'disease', 'disorder',\n",
    "        'syndrome', 'illness', 'characterized by', 'affecting', 'occurs when', 'type of',\n",
    "        'form of', 'group of', 'category of', 'class of', 'classification', 'entity',\n",
    "        'pathology', 'abnormality', 'problem', 'health issue', 'medical', 'clinical',\n",
    "        'pathological', 'involves', 'designates', 'term for', 'describes', 'relating to',\n",
    "        'concerning', 'pertaining to', 'associated with', 'manifested by', 'feature of'\n",
    "    ],\n",
    "    'causes': [\n",
    "        'cause', 'etiology', 'risk factor', 'due to', 'result of', 'caused by', \n",
    "        'trigger', 'associated with', 'genetic', 'infection', 'bacteria', 'virus',\n",
    "        'fungus', 'parasite', 'hereditary', 'environmental', 'exposure', 'origin',\n",
    "        'source', 'underlying', 'predisposing', 'development', 'derived', 'acquired',\n",
    "        'congenital', 'induced by', 'secondary to', 'following', 'after', 'linked to',\n",
    "        'consequence of', 'sequela', 'complication', 'outcome', 'related to', 'response',\n",
    "        'autoimmune', 'toxin', 'chemical', 'radiation', 'trauma', 'injury', 'defect',\n",
    "        'mutation', 'deficiency', 'excess', 'pathogen', 'agent', 'mechanism'\n",
    "    ],\n",
    "    'symptoms': [\n",
    "        'symptom', 'sign', 'present with', 'manifests as', 'characterized by', \n",
    "        'presentation', 'clinical feature', 'pain', 'fever', 'swelling', 'fatigue',\n",
    "        'discomfort', 'ache', 'loss', 'impair', 'dysfunction', 'manifestation',\n",
    "        'complaint', 'report', 'sensation', 'experience', 'feeling', 'suffer',\n",
    "        'exhibit', 'display', 'show', 'demonstrat', 'express', 'appear', 'develop',\n",
    "        'progress', 'worsen', 'improve', 'resolve', 'persist', 'severe', 'mild',\n",
    "        'moderate', 'acute', 'chronic', 'subjective', 'objective', 'visible', \n",
    "        'palpable', 'tender', 'redness', 'rash', 'lesion', 'weakness', 'numbness',\n",
    "        'tingling', 'stiff', 'rigid', 'sore', 'uncomfortable', 'irritat', 'inflam'\n",
    "    ],\n",
    "    'transmission': [\n",
    "        'transmit', 'spread', 'contagious', 'infectious', 'vector', 'airborne',\n",
    "        'waterborne', 'bloodborne', 'contact', 'carrier', 'contamination', \n",
    "        'infected', 'transmitted by', 'spreads through', 'communicable',\n",
    "        'person-to-person', 'direct', 'indirect', 'fecal-oral', 'droplet',\n",
    "        'aerosol', 'bodily fluid', 'saliva', 'blood', 'sexual', 'vertical',\n",
    "        'maternal', 'perinatal', 'breast milk', 'transplacental', 'nosocomial',\n",
    "        'hospital-acquired', 'community-acquired', 'endemic', 'epidemic', 'pandemic',\n",
    "        'zoonotic', 'animal', 'insect', 'mosquito', 'tick', 'flea', 'lice', 'parasite',\n",
    "        'reservoir', 'host', 'incubation', 'shedding'\n",
    "    ],\n",
    "    'diagnosis': [\n",
    "        'diagnos', 'test', 'examination', 'detection', 'screening', 'identified by',\n",
    "        'laboratory', 'imaging', 'scan', 'blood test', 'confirmed by', 'biopsy',\n",
    "        'differential', 'assess', 'evaluation', 'workup', 'investigation', 'findings',\n",
    "        'clinical', 'physical', 'history', 'criteria', 'marker', 'indicator', 'biomarker',\n",
    "        'analyze', 'measure', 'monitor', 'observe', 'determine', 'identify', 'confirm',\n",
    "        'rule out', 'exclude', 'distinguish', 'characterize', 'classify', 'categorize',\n",
    "        'radiograph', 'x-ray', 'CT', 'MRI', 'ultrasound', 'endoscopy', 'culture', 'PCR',\n",
    "        'serology', 'antibody', 'antigen', 'genetic', 'molecular', 'biopsy', 'specimen',\n",
    "        'sample', 'tissue', 'fluid', 'urine', 'stool', 'cerebrospinal', 'CSF'\n",
    "    ],\n",
    "    'treatment': [\n",
    "        'treatment', 'therapy', 'intervention', 'management', 'medication', 'drug',\n",
    "        'surgery', 'therapeutic', 'treated with', 'managed by', 'cure', 'alleviate',\n",
    "        'relieve', 'regimen', 'protocol', 'approach', 'prevented', 'resolution',\n",
    "        'heal', 'treat', 'manage', 'control', 'care', 'support', 'palliat', 'remedial',\n",
    "        'procedure', 'operation', 'technique', 'method', 'antibiotic', 'antiviral',\n",
    "        'antifungal', 'antimicrobial', 'steroid', 'hormone', 'vaccine', 'immunization',\n",
    "        'prevention', 'prophylaxis', 'recovery', 'rehabilitation', 'physical therapy',\n",
    "        'occupational therapy', 'cognitive therapy', 'behavioral therapy', 'psychotherapy',\n",
    "        'counseling', 'dietary', 'nutrition', 'lifestyle', 'modification', 'complementary',\n",
    "        'alternative', 'traditional', 'response', 'prognosis', 'outcome', 'remission',\n",
    "        'follow-up', 'monitoring', 'maintenance', 'long-term'\n",
    "    ],\n",
    "    # Additional aspect to capture complication and prognosis information\n",
    "    'prognosis': [\n",
    "        'prognosis', 'outlook', 'course', 'progression', 'complication', 'sequela',\n",
    "        'mortality', 'morbidity', 'survival', 'fatal', 'life expectancy', 'chronic',\n",
    "        'relapse', 'recur', 'remission', 'resolve', 'improve', 'deteriorate', 'worsen',\n",
    "        'permanent', 'temporary', 'reversible', 'irreversible', 'disability', 'impairment',\n",
    "        'function', 'quality of life', 'burden', 'risk', 'chance', 'likelihood', 'percent',\n",
    "        'rate', 'common', 'rare', 'frequent', 'occasional', 'variable', 'unpredictable'\n",
    "    ]\n",
    "    }   \n",
    "    # Process each row\n",
    "    print(\"Calculating text completeness scores...\")\n",
    "    for idx, row in tqdm(result_df.iterrows(), total=len(result_df)):\n",
    "        definition = row[column]\n",
    "        \n",
    "        # Handle empty definitions\n",
    "        if not definition or definition == \"\":\n",
    "            result_df.at[idx, 'completeness'] = 0\n",
    "            continue\n",
    "            \n",
    "        # Convert to lowercase for case-insensitive matching\n",
    "        text = definition.lower()\n",
    "        \n",
    "        # Calculate scores for each aspect\n",
    "        component_scores = {}\n",
    "        for aspect, keywords in aspects.items():\n",
    "            # Count keyword matches\n",
    "            matches = sum(1 for keyword in keywords if keyword in text)\n",
    "            \n",
    "            # Score this aspect (0-100)\n",
    "            if matches >= 3:\n",
    "                aspect_score = 100\n",
    "            else:\n",
    "                aspect_score = (matches / 3) * 100\n",
    "                \n",
    "            component_scores[aspect] = aspect_score\n",
    "        \n",
    "        # Calculate total score (average of all aspect scores)\n",
    "        total_score = sum(component_scores.values()) / len(aspects)\n",
    "        \n",
    "        # Add length bonus (longer definitions tend to be more complete)\n",
    "        sentences = [s.strip() for s in definition.split('.') if s.strip()]\n",
    "        sentence_count = len(sentences)\n",
    "        \n",
    "        length_bonus = min(10, (sentence_count / 5) * 10)\n",
    "        total_score = min(100, total_score * (1 + length_bonus/100))\n",
    "        \n",
    "        # Store in dataframe\n",
    "        result_df.at[idx, 'completeness'] = round(total_score, 1)\n",
    "    \n",
    "    # Print statistics\n",
    "    print(f\"Completeness scores added for {len(result_df)} {column}\")\n",
    "    print(\"\\nCompleteness Score Statistics:\")\n",
    "    print(f\"Mean: {result_df['completeness'].mean():.2f}\")\n",
    "    print(f\"Median: {result_df['completeness'].median():.2f}\")\n",
    "    print(f\"Min: {result_df['completeness'].min():.2f}\")\n",
    "    print(f\"Max: {result_df['completeness'].max():.2f}\")\n",
    "    \n",
    "    # Create a histogram\n",
    "    plt.style.use('seaborn-v0_8')\n",
    "    plt.figure(figsize=(6, 2))\n",
    "    plt.hist(result_df['completeness'].dropna(), bins=20, color='#598A4F', edgecolor='black')\n",
    "    plt.title(f'Distribution of Original Descriptions Completeness Scores')\n",
    "    plt.xlabel('Completeness Score (0-100)')\n",
    "    plt.ylabel(f'Count of Descriptions')\n",
    "    plt.grid(axis='y', alpha=0.75)\n",
    "    plt.show()\n",
    "    \n",
    "    return result_df"
   ]
  },
  {
   "cell_type": "code",
   "execution_count": 48,
   "metadata": {},
   "outputs": [
    {
     "name": "stdout",
     "output_type": "stream",
     "text": [
      "Calculating text completeness scores...\n"
     ]
    },
    {
     "name": "stderr",
     "output_type": "stream",
     "text": [
      "  0%|          | 0/13960 [00:00<?, ?it/s]"
     ]
    },
    {
     "name": "stderr",
     "output_type": "stream",
     "text": [
      "100%|██████████| 13960/13960 [00:02<00:00, 6093.65it/s] \n"
     ]
    },
    {
     "name": "stdout",
     "output_type": "stream",
     "text": [
      "Completeness scores added for 13960 definition\n",
      "\n",
      "Completeness Score Statistics:\n",
      "Mean: 13.71\n",
      "Median: 0.00\n",
      "Min: 0.00\n",
      "Max: 100.00\n"
     ]
    },
    {
     "data": {
      "image/png": "[encoded data removed]",
      "text/plain": [
       "<Figure size 600x200 with 1 Axes>"
      ]
     },
     "metadata": {},
     "output_type": "display_data"
    }
   ],
   "source": [
    "df_with_completeness = add_definition_completeness_scores(df)"
   ]
  },
  {
   "cell_type": "markdown",
   "metadata": {},
   "source": [
    "## Empty Values"
   ]
  },
  {
   "cell_type": "code",
   "execution_count": 13,
   "metadata": {},
   "outputs": [
    {
     "name": "stdout",
     "output_type": "stream",
     "text": [
      "Missing values per column:\n",
      "id: 0.00%\n",
      "code: 6.43%\n",
      "title: 0.00%\n",
      "browser_url: 0.00%\n",
      "class_kind: 0.00%\n",
      "definition: 50.62%\n",
      "parent: 0.00%\n",
      "inclusions: 92.03%\n",
      "foundation_children: 89.48%\n",
      "foundation_child_references: 89.48%\n",
      "index_terms: 22.24%\n",
      "related_entities: 83.62%\n",
      "full_text: 0.00%\n",
      "children: 76.49%\n",
      "postcoordination_scales: 48.17%\n",
      "index_term_references: 72.74%\n",
      "exclusions: 82.78%\n",
      "exclusion_references: 82.95%\n",
      "fully_specified_name: 99.36%\n"
     ]
    }
   ],
   "source": [
    "print(\"Missing values per column:\")\n",
    "for col in df.columns:\n",
    "    perc_empty = df[df[col]==\"\"].shape[0]/df.shape[0]\n",
    "    print(f\"{col}: {perc_empty:.2%}\")"
   ]
  },
  {
   "cell_type": "code",
   "execution_count": 14,
   "metadata": {},
   "outputs": [],
   "source": [
    "df.to_csv('icd11-25_data_clean.csv', index=False)"
   ]
  },
  {
   "cell_type": "markdown",
   "metadata": {},
   "source": [
    "# Solution 1: Text Concatenation"
   ]
  },
  {
   "cell_type": "markdown",
   "metadata": {},
   "source": [
    "Procedure in Giorgio's Computer."
   ]
  },
  {
   "cell_type": "code",
   "execution_count": 15,
   "metadata": {},
   "outputs": [
    {
     "data": {
      "text/plain": [
       "Index(['id', 'code', 'title', 'browser_url', 'class_kind', 'definition',\n",
       "       'parent', 'inclusions', 'foundation_children',\n",
       "       'foundation_child_references', 'index_terms', 'related_entities',\n",
       "       'full_text', 'children', 'postcoordination_scales',\n",
       "       'index_term_references', 'exclusions', 'exclusion_references',\n",
       "       'fully_specified_name', 'id_parent1', 'parent_description1',\n",
       "       'vectorization_text'],\n",
       "      dtype='object')"
      ]
     },
     "execution_count": 15,
     "metadata": {},
     "output_type": "execute_result"
    }
   ],
   "source": [
    "dc = pd.read_csv('icd11-23_data_vectorization.csv')\n",
    "dc.columns"
   ]
  },
  {
   "cell_type": "code",
   "execution_count": 16,
   "metadata": {},
   "outputs": [
    {
     "name": "stdout",
     "output_type": "stream",
     "text": [
      "Title: Infections due to Chlamydia psittaci\n",
      "Definition: Any condition caused by an infection with the gram-negative bacteria Chlamydia psittaci.\n",
      "These conditions are characterised by variable clinical presentations such as fever, cough, headaches, chills, fatigue, nausea, vomiting, diarrhoea, or pneumonia.\n",
      "Transmission is commonly by inhalation of aersol contaminated with body fluids from infected birds, or direct contact with infected birds.\n",
      "Confirmation is by identification of Chlamydia psittaci.\n",
      "Full text: Infections due to Chlamydia psittaci Any condition caused by an infection with the gram-negative bacteria Chlamydia psittaci.\n",
      "These conditions are characterised by variable clinical presentations such as fever, cough, headaches, chills, fatigue, nausea, vomiting, diarrhoea, or pneumonia.\n",
      "Transmission is commonly by inhalation of aersol contaminated with body fluids from infected birds, or direct contact with infected birds.\n",
      "Confirmation is by identification of Chlamydia psittaci.\n",
      "Psittacosis; Ornithosis; Parrot fever Pneumonia in chlamydia psittaci infection Infections due to Chlamydia psittaci; Psittacosis; Ornithosis; Parrot fever; chlamydophila psittaci infection; Infections due to Chlamydophila psittaci\n"
     ]
    }
   ],
   "source": [
    "print(dc['vectorization_text'].iloc[0].replace('. ', '.\\n'))"
   ]
  },
  {
   "cell_type": "markdown",
   "metadata": {},
   "source": [
    "Problem: low scores on embeddings, TF-IDF higher scores than BERT-based models. "
   ]
  },
  {
   "cell_type": "markdown",
   "metadata": {},
   "source": [
    "# Solution 2: LLM Generated Descriptions"
   ]
  },
  {
   "cell_type": "markdown",
   "metadata": {},
   "source": [
    "Procedure in [augmenting-descriptions.ipynb]('/Users/marco/Documents/python_projects/vector-database-ICD/augmenting-descriptions.ipynb)."
   ]
  },
  {
   "cell_type": "code",
   "execution_count": 27,
   "metadata": {},
   "outputs": [],
   "source": [
    "dg = pd.read_csv('icd11-25_data_raw_with_generated_descriptions.csv')"
   ]
  },
  {
   "cell_type": "code",
   "execution_count": 28,
   "metadata": {},
   "outputs": [
    {
     "data": {
      "text/plain": [
       "Index(['id', 'code', 'title', 'browser_url', 'class_kind', 'definition',\n",
       "       'parent', 'inclusions', 'foundation_children',\n",
       "       'foundation_child_references', 'index_terms', 'related_entities',\n",
       "       'full_text', 'children', 'postcoordination_scales',\n",
       "       'index_term_references', 'exclusions', 'exclusion_references',\n",
       "       'fully_specified_name', 'generated_description'],\n",
       "      dtype='object')"
      ]
     },
     "execution_count": 28,
     "metadata": {},
     "output_type": "execute_result"
    }
   ],
   "source": [
    "dg.columns"
   ]
  },
  {
   "cell_type": "markdown",
   "metadata": {},
   "source": [
    "Same as raw with added columns:\n",
    "\n",
    "20. **`generated_description`**: textual descriptions of each entity in the database, whether it is a disease or an intermediary node, generated using the open-source large language model Llama3-OpenBioLLM-70B developed by Aaditya Ura, ML researcher @ Saama AI Labs. Available on [Hugging Face](https://huggingface.co/aaditya/Llama3-OpenBioLLM-70B).\n"
   ]
  },
  {
   "cell_type": "markdown",
   "metadata": {},
   "source": [
    "## Data Types and Nans"
   ]
  },
  {
   "cell_type": "code",
   "execution_count": 29,
   "metadata": {},
   "outputs": [
    {
     "name": "stdout",
     "output_type": "stream",
     "text": [
      "<class 'pandas.core.frame.DataFrame'>\n",
      "RangeIndex: 13960 entries, 0 to 13959\n",
      "Data columns (total 20 columns):\n",
      " #   Column                       Non-Null Count  Dtype \n",
      "---  ------                       --------------  ----- \n",
      " 0   id                           13960 non-null  int64 \n",
      " 1   code                         13062 non-null  object\n",
      " 2   title                        13960 non-null  object\n",
      " 3   browser_url                  13960 non-null  object\n",
      " 4   class_kind                   13960 non-null  object\n",
      " 5   definition                   6894 non-null   object\n",
      " 6   parent                       13960 non-null  object\n",
      " 7   inclusions                   1113 non-null   object\n",
      " 8   foundation_children          1468 non-null   object\n",
      " 9   foundation_child_references  1468 non-null   object\n",
      " 10  index_terms                  10855 non-null  object\n",
      " 11  related_entities             2287 non-null   object\n",
      " 12  full_text                    13960 non-null  object\n",
      " 13  children                     3282 non-null   object\n",
      " 14  postcoordination_scales      7235 non-null   object\n",
      " 15  index_term_references        3806 non-null   object\n",
      " 16  exclusions                   2404 non-null   object\n",
      " 17  exclusion_references         2380 non-null   object\n",
      " 18  fully_specified_name         89 non-null     object\n",
      " 19  generated_description        13960 non-null  object\n",
      "dtypes: int64(1), object(19)\n",
      "memory usage: 2.1+ MB\n"
     ]
    }
   ],
   "source": [
    "dg.info()"
   ]
  },
  {
   "cell_type": "code",
   "execution_count": 30,
   "metadata": {},
   "outputs": [],
   "source": [
    "dg.loc[dg['code'].isna(), 'code'] = \"\"\n",
    "dg['code'] = dg['code'].astype(str)\n",
    "\n",
    "dg.loc[dg['title'].isna(), 'title'] = \"\"\n",
    "dg['title'] = dg['title'].astype(str)\n",
    "\n",
    "dg['browser_url'] = dg['browser_url'].astype(str)\n",
    "\n",
    "dg['class_kind'] = dg['class_kind'].astype(str)\n",
    "\n",
    "dg.loc[dg['definition'].isna(), 'definition'] = \"\"\n",
    "dg['definition'] = dg['definition'].astype(str)\n",
    "\n",
    "dg.loc[dg['parent']=='mms', 'parent'] = '1000000000'\n",
    "dg['parent'] = dg['parent'].astype(int)\n",
    "\n",
    "dg.loc[dg['inclusions'].isna(), 'inclusions'] = \"\"\n",
    "dg['inclusions'] = dg['inclusions'].astype(str)\n",
    "\n",
    "dg.loc[dg['foundation_children'].isna(), 'foundation_children'] = \"\"\n",
    "dg['foundation_children'] = dg['foundation_children'].astype(str)\n",
    "\n",
    "dg.loc[dg['foundation_child_references'].isna(), 'foundation_child_references'] = \"\"\n",
    "dg['foundation_child_references'] = dg['foundation_child_references'].astype(str)\n",
    "\n",
    "dg.loc[dg['index_terms'].isna(), 'index_terms'] = \"\"\n",
    "dg['index_terms'] = dg['index_terms'].astype(str)\n",
    "\n",
    "dg.loc[dg['related_entities'].isna(), 'related_entities'] = \"\"\n",
    "dg['related_entities'] = dg['related_entities'].astype(str)\n",
    "\n",
    "dg['full_text'] = dg['full_text'].astype(str)\n",
    "\n",
    "dg.loc[dg['children'].notna(), 'children'] = dg.loc[dg['children'].notna(), 'children'].str.replace('other; unspecified', '').str.replace('other;', '').str.replace('unspecified', '')\n",
    "dg.loc[dg['children'].isna(), 'children'] = \"\"\n",
    "\n",
    "dg.loc[dg['postcoordination_scales'].isna(), 'postcoordination_scales'] = \"\"\n",
    "\n",
    "dg.loc[dg['index_term_references'].isna(), 'index_term_references'] = \"\"\n",
    "dg['index_term_references'] = dg['index_term_references'].astype(str)\n",
    "\n",
    "dg.loc[dg['exclusions'].isna(), 'exclusions'] = \"\"\n",
    "\n",
    "dg.loc[dg['exclusion_references'].isna(), 'exclusion_references'] = \"\"\n",
    "dg['exclusion_references'] = dg['exclusion_references'].astype(str)\n",
    "\n",
    "dg.loc[dg['fully_specified_name'].isna(), 'fully_specified_name'] = \"\"\n",
    "dg['fully_specified_name'] = dg['fully_specified_name'].astype(str)\n",
    "\n",
    "dg.loc[dg['generated_description'].isna(), 'generated_description'] = \"\"\n",
    "dg['generated_description'] = dg['generated_description'].astype(str)"
   ]
  },
  {
   "cell_type": "code",
   "execution_count": 31,
   "metadata": {},
   "outputs": [
    {
     "name": "stdout",
     "output_type": "stream",
     "text": [
      "<class 'pandas.core.frame.DataFrame'>\n",
      "RangeIndex: 13960 entries, 0 to 13959\n",
      "Data columns (total 20 columns):\n",
      " #   Column                       Non-Null Count  Dtype \n",
      "---  ------                       --------------  ----- \n",
      " 0   id                           13960 non-null  int64 \n",
      " 1   code                         13960 non-null  object\n",
      " 2   title                        13960 non-null  object\n",
      " 3   browser_url                  13960 non-null  object\n",
      " 4   class_kind                   13960 non-null  object\n",
      " 5   definition                   13960 non-null  object\n",
      " 6   parent                       13960 non-null  int64 \n",
      " 7   inclusions                   13960 non-null  object\n",
      " 8   foundation_children          13960 non-null  object\n",
      " 9   foundation_child_references  13960 non-null  object\n",
      " 10  index_terms                  13960 non-null  object\n",
      " 11  related_entities             13960 non-null  object\n",
      " 12  full_text                    13960 non-null  object\n",
      " 13  children                     13960 non-null  object\n",
      " 14  postcoordination_scales      13960 non-null  object\n",
      " 15  index_term_references        13960 non-null  object\n",
      " 16  exclusions                   13960 non-null  object\n",
      " 17  exclusion_references         13960 non-null  object\n",
      " 18  fully_specified_name         13960 non-null  object\n",
      " 19  generated_description        13960 non-null  object\n",
      "dtypes: int64(2), object(18)\n",
      "memory usage: 2.1+ MB\n"
     ]
    }
   ],
   "source": [
    "dg.info()"
   ]
  },
  {
   "cell_type": "markdown",
   "metadata": {},
   "source": [
    "## Outliers"
   ]
  },
  {
   "cell_type": "code",
   "execution_count": 32,
   "metadata": {},
   "outputs": [],
   "source": [
    "# apply same edit on raw descriptions\n",
    "dg['definition'].str.len().sort_values(ascending=False)[:10]\n",
    "dg.loc[13440, 'definition'] = \"\"\" Severity of Vision Impairment Classification. No vision impairment. Eual to or better than: 6/12, 5/10 (0.5), 20/40 (0.3). 1) Mild vision impairment. Worse than: 6/12, 5/10 (0.5), 20/40 (0.3); equal to or better than: 6/18, 3/10 (0.3), 20/70 (0.5). 2) Moderate vision impairment. Worse than: 6/18, 3/10 (0.3), 20/70 (0.5); equal to or better than: 6/60, 1/10 (0.1), 20/200 (1.3). 3) Severe vision impairment. Worse than: 6/60, 1/10 (0.1), 20/200 (1.3); equal to or better than: 3/60, 1/20 (0.05), 20/400 (1.3). 4) Blindness. Worse than: 3/60, 1/20 (0.05), 20/400 (1.3); equal to or better than: 1/60, 1/50 (0.02), 5/300 (20/1200) (1.8). Note: Visual acuity is presented in metres, decimals, feet, and logMar.\n",
    "\"\"\""
   ]
  },
  {
   "cell_type": "code",
   "execution_count": 33,
   "metadata": {},
   "outputs": [
    {
     "data": {
      "text/plain": [
       "196      3654\n",
       "108      2614\n",
       "523      2224\n",
       "6114     1827\n",
       "12545    1724\n",
       "         ... \n",
       "5640        0\n",
       "5638        0\n",
       "13956       0\n",
       "13955       0\n",
       "13949       0\n",
       "Name: definition, Length: 13960, dtype: int64"
      ]
     },
     "execution_count": 33,
     "metadata": {},
     "output_type": "execute_result"
    }
   ],
   "source": [
    "dg['definition'].str.len().sort_values(ascending=False)"
   ]
  },
  {
   "cell_type": "code",
   "execution_count": 34,
   "metadata": {},
   "outputs": [
    {
     "data": {
      "text/plain": [
       "6875     5576\n",
       "7210     4746\n",
       "387      4512\n",
       "10533    4389\n",
       "12863    4322\n",
       "2035     4311\n",
       "11907    4311\n",
       "13367    4230\n",
       "10202    4104\n",
       "6199     4082\n",
       "Name: generated_description, dtype: int64"
      ]
     },
     "execution_count": 34,
     "metadata": {},
     "output_type": "execute_result"
    }
   ],
   "source": [
    "dg['generated_description'].str.len().sort_values(ascending=False)[:10]"
   ]
  },
  {
   "cell_type": "code",
   "execution_count": 35,
   "metadata": {},
   "outputs": [],
   "source": [
    "# some generated descriptions repeat the same text after \"The answer is:\" or \"the answer is \"\n",
    "\n",
    "def clean_generated_descriptions(df):\n",
    "    def remove_prefix(text):\n",
    "        flags = [\"the answer is:\", \"the answer is \"]\n",
    "        for flag in flags:\n",
    "            if flag in text.lower():\n",
    "                return text[text.lower().find(flag) + len(flag):].strip()\n",
    "        return text\n",
    "    \n",
    "    df['generated_description'] = df['generated_description'].apply(remove_prefix)\n",
    "    return df\n",
    "\n",
    "# Apply the cleaning function\n",
    "dg = clean_generated_descriptions(dg)\n"
   ]
  },
  {
   "cell_type": "code",
   "execution_count": 36,
   "metadata": {},
   "outputs": [
    {
     "data": {
      "text/plain": [
       "10219    2793\n",
       "9879     2753\n",
       "12230    2638\n",
       "6331     2627\n",
       "10639    2620\n",
       "2109     2620\n",
       "7280     2608\n",
       "9019     2598\n",
       "9973     2544\n",
       "1755     2511\n",
       "Name: generated_description, dtype: int64"
      ]
     },
     "execution_count": 36,
     "metadata": {},
     "output_type": "execute_result"
    }
   ],
   "source": [
    "dg['generated_description'].str.len().sort_values(ascending=False)[:10]"
   ]
  },
  {
   "cell_type": "markdown",
   "metadata": {},
   "source": [
    "## Definition Quality"
   ]
  },
  {
   "cell_type": "markdown",
   "metadata": {},
   "source": [
    "### Length"
   ]
  },
  {
   "cell_type": "code",
   "execution_count": 37,
   "metadata": {},
   "outputs": [
    {
     "name": "stdout",
     "output_type": "stream",
     "text": [
      "Character length:\n",
      " count    13960.000000\n",
      "mean       848.312034\n",
      "std        389.408399\n",
      "min         15.000000\n",
      "25%        619.750000\n",
      "50%        749.000000\n",
      "75%        947.000000\n",
      "max       2793.000000\n",
      "Name: generated_description, dtype: float64 \n",
      "\n",
      "Words:\n",
      " count    13960.000000\n",
      "mean       125.400716\n",
      "std         56.519505\n",
      "min          2.000000\n",
      "25%         92.000000\n",
      "50%        112.000000\n",
      "75%        142.000000\n",
      "max        399.000000\n",
      "Name: generated_description, dtype: float64 \n",
      "\n",
      "Sentences:\n",
      " count    13960.000000\n",
      "mean         7.307378\n",
      "std          2.841215\n",
      "min          1.000000\n",
      "25%          6.000000\n",
      "50%          6.000000\n",
      "75%          8.000000\n",
      "max         36.000000\n",
      "Name: generated_description, dtype: float64 \n",
      "\n"
     ]
    },
    {
     "data": {
      "image/png": "[encoded data removed]",
      "text/plain": [
       "<Figure size 1000x600 with 1 Axes>"
      ]
     },
     "metadata": {},
     "output_type": "display_data"
    },
    {
     "data": {
      "image/png": "[encoded data removed]",
      "text/plain": [
       "<Figure size 1000x600 with 1 Axes>"
      ]
     },
     "metadata": {},
     "output_type": "display_data"
    },
    {
     "data": {
      "image/png": "[encoded data removed]",
      "text/plain": [
       "<Figure size 1000x600 with 1 Axes>"
      ]
     },
     "metadata": {},
     "output_type": "display_data"
    }
   ],
   "source": [
    "# length description\n",
    "# character length\n",
    "print('Character length:\\n', dg['generated_description'].str.len().describe(), '\\n')\n",
    "\n",
    "# words\n",
    "print('Words:\\n', dg['generated_description'].str.split().str.len().describe(), '\\n')\n",
    "\n",
    "# sentences\n",
    "print('Sentences:\\n', dg['generated_description'].str.split('.').str.len().describe(), '\\n')\n",
    "\n",
    "# length description\n",
    "# character length\n",
    "plt.figure(figsize=(10,6))\n",
    "plt.hist(dg['generated_description'].str.len(), bins=50)\n",
    "plt.title('Distribution of Character Length in Definitions')\n",
    "plt.xlabel('Number of Characters')\n",
    "plt.ylabel('Frequency')\n",
    "plt.show()\n",
    "\n",
    "# words\n",
    "plt.figure(figsize=(10,6))\n",
    "plt.hist(dg['generated_description'].str.split().str.len(), bins=50)\n",
    "plt.title('Distribution of Word Count in Definitions')\n",
    "plt.xlabel('Number of Words')\n",
    "plt.ylabel('Frequency')\n",
    "plt.show()\n",
    "\n",
    "# sentences\n",
    "plt.figure(figsize=(10,6))\n",
    "plt.hist(dg['generated_description'].str.split('.').str.len(), bins=50)\n",
    "plt.title('Distribution of Sentence Count in Definitions')\n",
    "plt.xlabel('Number of Sentences')\n",
    "plt.ylabel('Frequency')\n",
    "plt.show()"
   ]
  },
  {
   "cell_type": "markdown",
   "metadata": {},
   "source": [
    "### Completeness"
   ]
  },
  {
   "cell_type": "code",
   "execution_count": 45,
   "metadata": {},
   "outputs": [
    {
     "name": "stdout",
     "output_type": "stream",
     "text": [
      "Calculating text completeness scores...\n"
     ]
    },
    {
     "name": "stderr",
     "output_type": "stream",
     "text": [
      "100%|██████████| 13960/13960 [00:06<00:00, 2073.45it/s]\n"
     ]
    },
    {
     "name": "stdout",
     "output_type": "stream",
     "text": [
      "Completeness scores added for 13960 generated_description\n",
      "\n",
      "Completeness Score Statistics:\n",
      "Mean: 77.58\n",
      "Median: 78.60\n",
      "Min: 0.00\n",
      "Max: 100.00\n"
     ]
    },
    {
     "data": {
      "image/png": "[encoded data removed]",
      "text/plain": [
       "<Figure size 600x200 with 1 Axes>"
      ]
     },
     "metadata": {},
     "output_type": "display_data"
    }
   ],
   "source": [
    "dg_with_completeness = add_definition_completeness_scores(dg, column='generated_description')"
   ]
  },
  {
   "cell_type": "markdown",
   "metadata": {},
   "source": [
    "## Empty Values"
   ]
  },
  {
   "cell_type": "code",
   "execution_count": 44,
   "metadata": {},
   "outputs": [
    {
     "name": "stdout",
     "output_type": "stream",
     "text": [
      "Missing values per column:\n",
      "id: 0.00%\n",
      "code: 6.43%\n",
      "title: 0.00%\n",
      "browser_url: 0.00%\n",
      "class_kind: 0.00%\n",
      "definition: 50.62%\n",
      "parent: 0.00%\n",
      "inclusions: 92.03%\n",
      "foundation_children: 89.48%\n",
      "foundation_child_references: 89.48%\n",
      "index_terms: 22.24%\n",
      "related_entities: 83.62%\n",
      "full_text: 0.00%\n",
      "children: 76.49%\n",
      "postcoordination_scales: 48.17%\n",
      "index_term_references: 72.74%\n",
      "exclusions: 82.78%\n",
      "exclusion_references: 82.95%\n",
      "fully_specified_name: 99.36%\n",
      "generated_description: 0.00%\n",
      "chapter: 0.00%\n"
     ]
    }
   ],
   "source": [
    "print(\"Missing values per column:\")\n",
    "for col in dg.columns:\n",
    "    perc_empty = dg[dg[col]==\"\"].shape[0]/dg.shape[0]\n",
    "    print(f\"{col}: {perc_empty:.2%}\")"
   ]
  },
  {
   "cell_type": "markdown",
   "metadata": {},
   "source": [
    "## Adding chapter column"
   ]
  },
  {
   "cell_type": "code",
   "execution_count": 45,
   "metadata": {},
   "outputs": [],
   "source": [
    "def get_chapter_from_code(code):\n",
    "    code_to_chapter = {'0' : '0',\n",
    "        '1' : '1', '2' : '2', '3' : '3', '4' : '4',\n",
    "        '5' : '5', '6' : '6', '7' : '7', '8' : '8',\n",
    "        '9' : '9', 'A' : '10', 'B' : '11', 'C' : '12',\n",
    "        'D' : '13', 'E' : '14', 'F' : '15', 'G' : '16',\n",
    "        'H' : '17', 'J' : '18', 'K' : '19', 'L' : '20',\n",
    "        'M' : '21', 'N' : '22', 'P' : '23', 'Q' : '24',\n",
    "        'R' : '25', 'S' : '26', \n",
    "        '01' : '1', '02' : '2', '03' : '3', '04' : '4',\n",
    "        '05' : '5', '06' : '6', '07' : '7', '08' : '8',\n",
    "        '09' : '9', '10' : '10', '11' : '11', '12' : '12',\n",
    "        '13' : '13', '14' : '14', '15' : '15', '16' : '16',\n",
    "        '17' : '17', '18' : '18', '19' : '19', '20' : '20',\n",
    "        '21' : '21', '22' : '22', '23' : '23', '24' : '24',\n",
    "        '25' : '25', '26' : '26'\n",
    "    }\n",
    "    \n",
    "    if len(code) >= 2 and code[:2].isdigit():\n",
    "        chapter_code = code[:2]\n",
    "    else:\n",
    "        chapter_code = code[:1]\n",
    "        \n",
    "    return code_to_chapter.get(chapter_code, None)\n",
    "\n",
    "dg['chapter'] = dg['code'].apply(get_chapter_from_code)"
   ]
  },
  {
   "cell_type": "code",
   "execution_count": 46,
   "metadata": {},
   "outputs": [],
   "source": [
    "# no_chapter_indices = dg[(dg['chapter'].isna()) & (dg['code'].notna())].index\n",
    "# def check_surrounding_chapters(dg, index):\n",
    "#     limit = 10\n",
    "#     prev_index = index - 1\n",
    "#     while prev_index >= 0 and dg.iloc[prev_index][-1:].isna()['chapter'] is np.True_ and limit > 0:\n",
    "#         prev_index -= 1\n",
    "#         limit -= 1\n",
    "#     if limit == 0:\n",
    "#         return None\n",
    "\n",
    "#     next_index = index + 1\n",
    "#     while next_index < len(dg) and dg.iloc[next_index][-1:].isna()['chapter'] is np.True_ and limit > 0:\n",
    "#         next_index += 1\n",
    "#         limit -= 1\n",
    "#     if limit == 0:\n",
    "#         return None\n",
    "\n",
    "#     prev_chapter = dg.loc[prev_index, 'chapter'] \n",
    "#     next_chapter = dg.loc[next_index, 'chapter']\n",
    "        \n",
    "#     if prev_chapter != next_chapter:\n",
    "#         return index\n",
    "#     return None\n",
    "\n",
    "# # Check each index and print those with mismatched surrounding chapters\n",
    "# for idx in no_chapter_indices:\n",
    "#     result = check_surrounding_chapters(dg, idx)\n",
    "#     if result is not None:\n",
    "#         print(f\"Index {result} has mismatched surrounding chapters\")\n",
    "\n",
    "# Apply hardcoded rules for specific indices based on known chapter mappings\n",
    "special_indices = {\n",
    "    101: '01',  # chapter 1\n",
    "    864: '10',  # chapter 10 \n",
    "    1089: '11', # chapter 11\n",
    "    1814: '13', # chapter 13\n",
    "    2348: '14', # chapter 14\n",
    "    10263: '26', # chapter 26\n",
    "    11455: '03', # chapter 3\n",
    "    11491: '04'  # chapter 4\n",
    "}\n",
    "\n",
    "for idx, chapter in special_indices.items():\n",
    "    if idx in dg.index and pd.isna(dg.loc[idx, 'chapter']):\n",
    "        dg.loc[idx, 'chapter'] = chapter\n",
    "\n",
    "# For remaining NaN chapters, fill with surrounding chapters if they match\n",
    "for idx in dg[dg['chapter'].isna()].index:\n",
    "    if idx not in special_indices:\n",
    "        prev_idx = idx - 1\n",
    "        next_idx = idx + 1\n",
    "        \n",
    "        while prev_idx >= 0 and pd.isna(dg.loc[prev_idx, 'chapter']):\n",
    "            prev_idx -= 1\n",
    "        while next_idx < len(dg) and pd.isna(dg.loc[next_idx, 'chapter']):\n",
    "            next_idx += 1\n",
    "            \n",
    "        if prev_idx >= 0 and next_idx < len(dg):\n",
    "            prev_chapter = dg.loc[prev_idx, 'chapter']\n",
    "            next_chapter = dg.loc[next_idx, 'chapter']\n",
    "            \n",
    "            if prev_chapter == next_chapter:\n",
    "                dg.loc[idx, 'chapter'] = prev_chapter\n",
    "\n"
   ]
  },
  {
   "cell_type": "markdown",
   "metadata": {},
   "source": [
    "# Export"
   ]
  },
  {
   "cell_type": "code",
   "execution_count": 47,
   "metadata": {},
   "outputs": [],
   "source": [
    "dg.to_csv('icd11-25_data_clean_with_generated_descriptions.csv', index=False, )"
   ]
  }
 ],
 "metadata": {
  "kernelspec": {
   "display_name": "venv_icd",
   "language": "python",
   "name": "python3"
  },
  "language_info": {
   "codemirror_mode": {
    "name": "ipython",
    "version": 3
   },
   "file_extension": ".py",
   "mimetype": "text/x-python",
   "name": "python",
   "nbconvert_exporter": "python",
   "pygments_lexer": "ipython3",
   "version": "3.11.7"
  }
 },
 "nbformat": 4,
 "nbformat_minor": 2
}
