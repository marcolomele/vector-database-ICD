{
 "cells": [
  {
   "cell_type": "markdown",
   "metadata": {},
   "source": [
    "# Import and Load"
   ]
  },
  {
   "cell_type": "code",
   "execution_count": 243,
   "metadata": {},
   "outputs": [],
   "source": [
    "import pandas as pd\n",
    "import seaborn as sns\n",
    "import numpy as np\n",
    "import matplotlib.pyplot as plt\n",
    "from tqdm import tqdm"
   ]
  },
  {
   "cell_type": "markdown",
   "metadata": {},
   "source": [
    "# Raw ICD-11 "
   ]
  },
  {
   "cell_type": "code",
   "execution_count": 244,
   "metadata": {},
   "outputs": [
    {
     "data": {
      "text/plain": [
       "Index(['id', 'code', 'title', 'browser_url', 'class_kind', 'definition',\n",
       "       'parent', 'inclusions', 'foundation_children',\n",
       "       'foundation_child_references', 'index_terms', 'related_entities',\n",
       "       'full_text', 'children', 'postcoordination_scales',\n",
       "       'index_term_references', 'exclusions', 'exclusion_references',\n",
       "       'fully_specified_name'],\n",
       "      dtype='object')"
      ]
     },
     "execution_count": 244,
     "metadata": {},
     "output_type": "execute_result"
    }
   ],
   "source": [
    "df = pd.read_csv('icd11-25_data_raw.csv')\n",
    "df.columns"
   ]
  },
  {
   "cell_type": "markdown",
   "metadata": {},
   "source": [
    "Based on the ICD-11 Reference Guide (refguide_ICD11.pdf), here's an explanation of the columns you listed, likely extracted from the ICD-11 API:\n",
    "\n",
    "1.  **`id`**: This corresponds to the **Uniform Resource Identifier (URI)**. Each entity (disease, disorder, finding, etc.) in the ICD-11 Foundation Component has a unique URI that identifies it regardless of language or context[cite: 324, 3198].\n",
    "2.  **`code`**: This is the alphanumeric **ICD-11 code** (e.g., 1A00, 9B71.0Z, XA1X49) assigned to categories in a specific tabular list (like the MMS list for mortality and morbidity) or used for extension codes[cite: 103, 311, 312]. Stem codes (from main chapters) can be used alone, while extension codes (starting with 'X') add detail and must be used with a stem code for statistical classification[cite: 566, 336].\n",
    "3.  **`title`**: This is the standard, preferred name or label for the ICD entity in the given language[cite: 513, 528].\n",
    "4.  **`browser_url`**: This is likely the direct web address (URL) to view the specific entity in the official WHO ICD-11 online browser[cite: 228, 485]. The `id` (URI) usually forms part of this URL.\n",
    "5.  **`class_kind`**: This field indicates the type or level of the entity within the ICD-11 structure. More info below.\n",
    "6.  **`definition`**: This contains the official textual description explaining the meaning and scope of the entity[cite: 2734, 2745, 3163]. The guide distinguishes between a mandatory short description (max 100 words) and optional longer additional information[cite: 2734, 2745].\n",
    "7.  **`parent`**: This lists the identifier(s) (URI) of the immediate parent(s) of this entity in the ICD-11 hierarchy. While tabular lists are typically mono-hierarchical (one primary parent), the underlying Foundation Component supports multiple parenting (e.g., classifying a disease by both aetiology and anatomical site)[cite: 87, 361, 427, 3149].\n",
    "8.  **`inclusions`**: These are terms listed under a category title that serve as examples of diagnostic statements or synonyms classified to that category. They help clarify the content and scope of the category but are not exhaustive[cite: 503, 504, 506].\n",
    "9.  **`foundation_children`**: This likely lists the direct children (more specific entities) of this entity within the comprehensive **Foundation Component** hierarchy[cite: 87, 3157].\n",
    "10. **`foundation_child_references`**: Contains the identifiers (URIs) for the entities listed in `foundation_children`.\n",
    "11. **`index_terms`**: These are terms (including synonyms and clinical phrases) found in the ICD-11 Alphabetical Index that lead to this specific entity/code[cite: 355, 479, 3163].\n",
    "12. **`related_entities`**: While not explicitly defined as a column name in the guide, this likely refers to non-hierarchical relationships defined in the Foundation Component, possibly including links indicated by 'Code also' notes or exclusions.\n",
    "13. **`full_text`**: This term isn't explicitly defined for a column in the guide. It might be a convenience field concatenating text from the `title`, `definition`, `inclusions`, etc., or it could represent the detailed \"Additional Information\" (long definition) mentioned in the guide[cite: 2745].\n",
    "14. **`children`**: This likely lists the direct children of this entity within a *specific tabular list* (like the MMS list), as opposed to `foundation_children` which reflects the broader Foundation structure[cite: 361, 3157]. Tabular lists are often simplified or rearranged versions of the Foundation.\n",
    "15. **`postcoordination_scales`**: This refers to the specific axes or dimensions (often represented by Extension Codes) that can be combined (postcoordinated) with this entity's stem code to add more detail, such as severity, anatomy, laterality, or causality[cite: 339, 603, 2043].\n",
    "16. **`index_term_references`**: Contains the identifiers for the terms listed in `index_terms`.\n",
    "17. **`exclusions`**: These are terms listed under a category that specify conditions classified *elsewhere*. They help define the boundaries of the category[cite: 514, 516].\n",
    "18. **`exclusion_references`**: Contains the identifiers (URIs/codes) for the conditions listed in `exclusions`.\n",
    "19. **`fully_specified_name`**: This is the complete, unambiguous title for the entity, designed to be clear without needing hierarchical context, as mentioned on page 317 of the guide[cite: 3179].\n",
    "\n",
    "**Class Kind** possible types:\n",
    "* **`chapter`**: The highest level of structural organization in ICD-11. Chapters group broad areas of diseases, disorders, external causes, or other health-related conditions. The first character of an ICD-11 code typically relates to its chapter.\n",
    "* **`block`**: An intermediate hierarchical grouping of categories within a chapter. Blocks are used for organizing related conditions and can be used for aggregated statistical reporting, but they generally do not have their own specific ICD codes for diagnosing individual cases.\n",
    "* **`category`**: A specific, codable entry in an ICD-11 tabular list representing a distinct disease, disorder, injury, symptom, external cause, or other health-related problem. Categories are assigned an ICD-11 stem code and are the units used for detailed data recording and statistical analysis.\n",
    "* **`window`**: A structural element, mentioned in the context of multiple parenting and user guidance (page 45). It allows a set of conditions to be displayed in an alternative hierarchical location (secondary parentage) for Browse or specialty views, without that being its primary classification point. A window in such an alternative location typically has \"no primary children, no terms, no residual categories\" itself."
   ]
  },
  {
   "cell_type": "markdown",
   "metadata": {},
   "source": [
    "## Data Types and Nans"
   ]
  },
  {
   "cell_type": "code",
   "execution_count": 245,
   "metadata": {},
   "outputs": [
    {
     "name": "stdout",
     "output_type": "stream",
     "text": [
      "<class 'pandas.core.frame.DataFrame'>\n",
      "RangeIndex: 13960 entries, 0 to 13959\n",
      "Data columns (total 19 columns):\n",
      " #   Column                       Non-Null Count  Dtype \n",
      "---  ------                       --------------  ----- \n",
      " 0   id                           13960 non-null  int64 \n",
      " 1   code                         13062 non-null  object\n",
      " 2   title                        13960 non-null  object\n",
      " 3   browser_url                  13960 non-null  object\n",
      " 4   class_kind                   13960 non-null  object\n",
      " 5   definition                   6894 non-null   object\n",
      " 6   parent                       13960 non-null  object\n",
      " 7   inclusions                   1113 non-null   object\n",
      " 8   foundation_children          1468 non-null   object\n",
      " 9   foundation_child_references  1468 non-null   object\n",
      " 10  index_terms                  10855 non-null  object\n",
      " 11  related_entities             2287 non-null   object\n",
      " 12  full_text                    13960 non-null  object\n",
      " 13  children                     3282 non-null   object\n",
      " 14  postcoordination_scales      7235 non-null   object\n",
      " 15  index_term_references        3806 non-null   object\n",
      " 16  exclusions                   2404 non-null   object\n",
      " 17  exclusion_references         2380 non-null   object\n",
      " 18  fully_specified_name         89 non-null     object\n",
      "dtypes: int64(1), object(18)\n",
      "memory usage: 2.0+ MB\n"
     ]
    }
   ],
   "source": [
    "df.info()"
   ]
  },
  {
   "cell_type": "code",
   "execution_count": 246,
   "metadata": {},
   "outputs": [],
   "source": [
    "df.loc[df['code'].isna(), 'code'] = \"\"\n",
    "df['code'] = df['code'].astype(str)\n",
    "\n",
    "df.loc[df['title'].isna(), 'title'] = \"\"\n",
    "df['title'] = df['title'].astype(str)\n",
    "\n",
    "df['browser_url'] = df['browser_url'].astype(str)\n",
    "\n",
    "df['class_kind'] = df['class_kind'].astype(str)\n",
    "\n",
    "df.loc[df['definition'].isna(), 'definition'] = \"\"\n",
    "df['definition'] = df['definition'].astype(str)\n",
    "\n",
    "df.loc[df['parent']=='mms', 'parent'] = '1000000000'\n",
    "df['parent'] = df['parent'].astype(int)\n",
    "\n",
    "df.loc[df['inclusions'].isna(), 'inclusions'] = \"\"\n",
    "df['inclusions'] = df['inclusions'].astype(str)\n",
    "\n",
    "df.loc[df['foundation_children'].isna(), 'foundation_children'] = \"\"\n",
    "df['foundation_children'] = df['foundation_children'].astype(str)\n",
    "\n",
    "df.loc[df['foundation_child_references'].isna(), 'foundation_child_references'] = \"\"\n",
    "df['foundation_child_references'] = df['foundation_child_references'].astype(str)\n",
    "\n",
    "df.loc[df['index_terms'].isna(), 'index_terms'] = \"\"\n",
    "df['index_terms'] = df['index_terms'].astype(str)\n",
    "\n",
    "df.loc[df['related_entities'].isna(), 'related_entities'] = \"\"\n",
    "df['related_entities'] = df['related_entities'].astype(str)\n",
    "\n",
    "df['full_text'] = df['full_text'].astype(str)\n",
    "\n",
    "def clean_children_str(children_str):\n",
    "    items = [x.strip() for x in children_str.split(';')]\n",
    "    return [x for x in items if x not in ['other', 'unspecified']]\n",
    "df.loc[df['children'].isna(), 'children'] = \"\"\n",
    "df['children'] = df['children'].apply(clean_children_str)\n",
    "\n",
    "df.loc[df['postcoordination_scales'].isna(), 'postcoordination_scales'] = '{}'\n",
    "\n",
    "df.loc[df['index_term_references'].isna(), 'index_term_references'] = \"\"\n",
    "df['index_term_references'] = df['index_term_references'].astype(str)\n",
    "\n",
    "def clean_exclusions_str(exclusions_str):\n",
    "    return [x.strip() for x in exclusions_str.split(';')]\n",
    "df.loc[df['exclusions'].isna(), 'exclusions'] = \"\"\n",
    "df['exclusions'] = df['exclusions'].apply(clean_exclusions_str)\n",
    "\n",
    "df.loc[df['exclusion_references'].isna(), 'exclusion_references'] = \"\"\n",
    "df['exclusion_references'] = df['exclusion_references'].astype(str)\n",
    "\n",
    "df.loc[df['fully_specified_name'].isna(), 'fully_specified_name'] = \"\"\n",
    "df['fully_specified_name'] = df['fully_specified_name'].astype(str)"
   ]
  },
  {
   "cell_type": "code",
   "execution_count": 247,
   "metadata": {},
   "outputs": [
    {
     "name": "stdout",
     "output_type": "stream",
     "text": [
      "<class 'pandas.core.frame.DataFrame'>\n",
      "RangeIndex: 13960 entries, 0 to 13959\n",
      "Data columns (total 19 columns):\n",
      " #   Column                       Non-Null Count  Dtype \n",
      "---  ------                       --------------  ----- \n",
      " 0   id                           13960 non-null  int64 \n",
      " 1   code                         13960 non-null  object\n",
      " 2   title                        13960 non-null  object\n",
      " 3   browser_url                  13960 non-null  object\n",
      " 4   class_kind                   13960 non-null  object\n",
      " 5   definition                   13960 non-null  object\n",
      " 6   parent                       13960 non-null  int64 \n",
      " 7   inclusions                   13960 non-null  object\n",
      " 8   foundation_children          13960 non-null  object\n",
      " 9   foundation_child_references  13960 non-null  object\n",
      " 10  index_terms                  13960 non-null  object\n",
      " 11  related_entities             13960 non-null  object\n",
      " 12  full_text                    13960 non-null  object\n",
      " 13  children                     13960 non-null  object\n",
      " 14  postcoordination_scales      13960 non-null  object\n",
      " 15  index_term_references        13960 non-null  object\n",
      " 16  exclusions                   13960 non-null  object\n",
      " 17  exclusion_references         13960 non-null  object\n",
      " 18  fully_specified_name         13960 non-null  object\n",
      "dtypes: int64(2), object(17)\n",
      "memory usage: 2.0+ MB\n"
     ]
    }
   ],
   "source": [
    "df.info()"
   ]
  },
  {
   "cell_type": "markdown",
   "metadata": {},
   "source": [
    "## Outliers"
   ]
  },
  {
   "cell_type": "code",
   "execution_count": 248,
   "metadata": {},
   "outputs": [
    {
     "data": {
      "text/plain": [
       "13440    6083\n",
       "196      3654\n",
       "108      2614\n",
       "523      2224\n",
       "6114     1827\n",
       "12545    1724\n",
       "12433    1608\n",
       "12718    1550\n",
       "743      1533\n",
       "13073    1507\n",
       "Name: definition, dtype: int64"
      ]
     },
     "execution_count": 248,
     "metadata": {},
     "output_type": "execute_result"
    }
   ],
   "source": [
    "df['definition'].str.len().sort_values(ascending=False)[:10]"
   ]
  },
  {
   "cell_type": "code",
   "execution_count": 249,
   "metadata": {},
   "outputs": [],
   "source": [
    "df.loc[13440, 'definition'] = \"\"\" Severity of Vision Impairment Classification. No vision impairment. Eual to or better than: 6/12, 5/10 (0.5), 20/40 (0.3). 1) Mild vision impairment. Worse than: 6/12, 5/10 (0.5), 20/40 (0.3); equal to or better than: 6/18, 3/10 (0.3), 20/70 (0.5). 2) Moderate vision impairment. Worse than: 6/18, 3/10 (0.3), 20/70 (0.5); equal to or better than: 6/60, 1/10 (0.1), 20/200 (1.3). 3) Severe vision impairment. Worse than: 6/60, 1/10 (0.1), 20/200 (1.3); equal to or better than: 3/60, 1/20 (0.05), 20/400 (1.3). 4) Blindness. Worse than: 3/60, 1/20 (0.05), 20/400 (1.3); equal to or better than: 1/60, 1/50 (0.02), 5/300 (20/1200) (1.8). Note: Visual acuity is presented in metres, decimals, feet, and logMar.\n",
    "\"\"\""
   ]
  },
  {
   "cell_type": "code",
   "execution_count": 250,
   "metadata": {},
   "outputs": [
    {
     "data": {
      "text/plain": [
       "196      573\n",
       "108      397\n",
       "523      339\n",
       "6114     282\n",
       "13073    245\n",
       "12545    237\n",
       "12433    229\n",
       "12718    225\n",
       "12735    223\n",
       "12222    220\n",
       "Name: definition, dtype: int64"
      ]
     },
     "execution_count": 250,
     "metadata": {},
     "output_type": "execute_result"
    }
   ],
   "source": [
    "df['definition'].str.split().str.len().sort_values(ascending=False)[:10]"
   ]
  },
  {
   "cell_type": "code",
   "execution_count": 251,
   "metadata": {},
   "outputs": [
    {
     "data": {
      "text/plain": [
       "196      35\n",
       "13440    31\n",
       "12749    26\n",
       "523      20\n",
       "9101     19\n",
       "743      19\n",
       "582      19\n",
       "108      19\n",
       "12538    19\n",
       "12312    18\n",
       "Name: definition, dtype: int64"
      ]
     },
     "execution_count": 251,
     "metadata": {},
     "output_type": "execute_result"
    }
   ],
   "source": [
    "df['definition'].str.split('.').str.len().sort_values(ascending=False)[:10]"
   ]
  },
  {
   "cell_type": "markdown",
   "metadata": {},
   "source": [
    "## Definition Quality"
   ]
  },
  {
   "cell_type": "markdown",
   "metadata": {},
   "source": [
    "Define quality measuring metrics and methods to evaluate descriptions."
   ]
  },
  {
   "cell_type": "markdown",
   "metadata": {},
   "source": [
    "### Length"
   ]
  },
  {
   "cell_type": "code",
   "execution_count": 252,
   "metadata": {},
   "outputs": [
    {
     "name": "stdout",
     "output_type": "stream",
     "text": [
      "Character length:\n",
      " count    13960.000000\n",
      "mean       153.656734\n",
      "std        234.053093\n",
      "min          0.000000\n",
      "25%          0.000000\n",
      "50%          0.000000\n",
      "75%        236.000000\n",
      "max       3654.000000\n",
      "Name: definition, dtype: float64 \n",
      "\n",
      "Words:\n",
      " count    13960.000000\n",
      "mean        22.457378\n",
      "std         34.164814\n",
      "min          0.000000\n",
      "25%          0.000000\n",
      "50%          0.000000\n",
      "75%         35.000000\n",
      "max        573.000000\n",
      "Name: definition, dtype: float64 \n",
      "\n",
      "Sentences:\n",
      " count    13960.000000\n",
      "mean         2.190473\n",
      "std          1.902836\n",
      "min          1.000000\n",
      "25%          1.000000\n",
      "50%          1.000000\n",
      "75%          3.000000\n",
      "max         35.000000\n",
      "Name: definition, dtype: float64 \n",
      "\n"
     ]
    },
    {
     "data": {
      "image/png": "[encoded data removed]",
      "text/plain": [
       "<Figure size 1000x600 with 1 Axes>"
      ]
     },
     "metadata": {},
     "output_type": "display_data"
    },
    {
     "data": {
      "image/png": "[encoded data removed]",
      "text/plain": [
       "<Figure size 1000x600 with 1 Axes>"
      ]
     },
     "metadata": {},
     "output_type": "display_data"
    },
    {
     "data": {
      "image/png": "[encoded data removed]",
      "text/plain": [
       "<Figure size 1000x600 with 1 Axes>"
      ]
     },
     "metadata": {},
     "output_type": "display_data"
    }
   ],
   "source": [
    "# length description\n",
    "# character length\n",
    "print('Character length:\\n', df['definition'].str.len().describe(), '\\n')\n",
    "\n",
    "# words\n",
    "print('Words:\\n', df['definition'].str.split().str.len().describe(), '\\n')\n",
    "\n",
    "# sentences\n",
    "print('Sentences:\\n', df['definition'].str.split('.').str.len().describe(), '\\n')\n",
    "\n",
    "# length description\n",
    "# character length\n",
    "plt.figure(figsize=(10,6))\n",
    "plt.hist(df['definition'].str.len(), bins=50)\n",
    "plt.title('Distribution of Character Length in Definitions')\n",
    "plt.xlabel('Number of Characters')\n",
    "plt.ylabel('Frequency')\n",
    "plt.show()\n",
    "\n",
    "# words\n",
    "plt.figure(figsize=(10,6))\n",
    "plt.hist(df['definition'].str.split().str.len(), bins=50)\n",
    "plt.title('Distribution of Word Count in Definitions')\n",
    "plt.xlabel('Number of Words')\n",
    "plt.ylabel('Frequency')\n",
    "plt.show()\n",
    "\n",
    "# sentences\n",
    "plt.figure(figsize=(10,6))\n",
    "plt.hist(df['definition'].str.split('.').str.len(), bins=50)\n",
    "plt.title('Distribution of Sentence Count in Definitions')\n",
    "plt.xlabel('Number of Sentences')\n",
    "plt.ylabel('Frequency')\n",
    "plt.show()"
   ]
  },
  {
   "cell_type": "code",
   "execution_count": 253,
   "metadata": {},
   "outputs": [
    {
     "name": "stdout",
     "output_type": "stream",
     "text": [
      "Any condition caused by an infection with the gram-negative bacteria Chlamydia psittaci.\n",
      "These conditions are characterised by variable clinical presentations such as fever, cough, headaches, chills, fatigue, nausea, vomiting, diarrhoea, or pneumonia.\n",
      "Transmission is commonly by inhalation of aerosol contaminated with body fluids from infected birds, or direct contact with infected birds.\n",
      "Confirmation is by identification of Chlamydia psittaci.\n"
     ]
    }
   ],
   "source": [
    "print(df['definition'].iloc[0].replace('. ', '.\\n'))"
   ]
  },
  {
   "cell_type": "markdown",
   "metadata": {},
   "source": [
    "### Completeness"
   ]
  },
  {
   "cell_type": "code",
   "execution_count": 262,
   "metadata": {},
   "outputs": [],
   "source": [
    "def add_definition_completeness_scores(df):\n",
    "    # Create a copy of the dataframe\n",
    "    result_df = df.copy()\n",
    "    \n",
    "    # Add the new column\n",
    "    result_df['completeness'] = None\n",
    "    \n",
    "    # Define aspects and keywords for scoring\n",
    "    aspects = {\n",
    "    'overview': [\n",
    "        'is a', 'are a', 'defined as', 'refers to', 'condition', 'disease', 'disorder',\n",
    "        'syndrome', 'illness', 'characterized by', 'affecting', 'occurs when', 'type of',\n",
    "        'form of', 'group of', 'category of', 'class of', 'classification', 'entity',\n",
    "        'pathology', 'abnormality', 'problem', 'health issue', 'medical', 'clinical',\n",
    "        'pathological', 'involves', 'designates', 'term for', 'describes', 'relating to',\n",
    "        'concerning', 'pertaining to', 'associated with', 'manifested by', 'feature of'\n",
    "    ],\n",
    "    'causes': [\n",
    "        'cause', 'etiology', 'risk factor', 'due to', 'result of', 'caused by', \n",
    "        'trigger', 'associated with', 'genetic', 'infection', 'bacteria', 'virus',\n",
    "        'fungus', 'parasite', 'hereditary', 'environmental', 'exposure', 'origin',\n",
    "        'source', 'underlying', 'predisposing', 'development', 'derived', 'acquired',\n",
    "        'congenital', 'induced by', 'secondary to', 'following', 'after', 'linked to',\n",
    "        'consequence of', 'sequela', 'complication', 'outcome', 'related to', 'response',\n",
    "        'autoimmune', 'toxin', 'chemical', 'radiation', 'trauma', 'injury', 'defect',\n",
    "        'mutation', 'deficiency', 'excess', 'pathogen', 'agent', 'mechanism'\n",
    "    ],\n",
    "    'symptoms': [\n",
    "        'symptom', 'sign', 'present with', 'manifests as', 'characterized by', \n",
    "        'presentation', 'clinical feature', 'pain', 'fever', 'swelling', 'fatigue',\n",
    "        'discomfort', 'ache', 'loss', 'impair', 'dysfunction', 'manifestation',\n",
    "        'complaint', 'report', 'sensation', 'experience', 'feeling', 'suffer',\n",
    "        'exhibit', 'display', 'show', 'demonstrat', 'express', 'appear', 'develop',\n",
    "        'progress', 'worsen', 'improve', 'resolve', 'persist', 'severe', 'mild',\n",
    "        'moderate', 'acute', 'chronic', 'subjective', 'objective', 'visible', \n",
    "        'palpable', 'tender', 'redness', 'rash', 'lesion', 'weakness', 'numbness',\n",
    "        'tingling', 'stiff', 'rigid', 'sore', 'uncomfortable', 'irritat', 'inflam'\n",
    "    ],\n",
    "    'transmission': [\n",
    "        'transmit', 'spread', 'contagious', 'infectious', 'vector', 'airborne',\n",
    "        'waterborne', 'bloodborne', 'contact', 'carrier', 'contamination', \n",
    "        'infected', 'transmitted by', 'spreads through', 'communicable',\n",
    "        'person-to-person', 'direct', 'indirect', 'fecal-oral', 'droplet',\n",
    "        'aerosol', 'bodily fluid', 'saliva', 'blood', 'sexual', 'vertical',\n",
    "        'maternal', 'perinatal', 'breast milk', 'transplacental', 'nosocomial',\n",
    "        'hospital-acquired', 'community-acquired', 'endemic', 'epidemic', 'pandemic',\n",
    "        'zoonotic', 'animal', 'insect', 'mosquito', 'tick', 'flea', 'lice', 'parasite',\n",
    "        'reservoir', 'host', 'incubation', 'shedding'\n",
    "    ],\n",
    "    'diagnosis': [\n",
    "        'diagnos', 'test', 'examination', 'detection', 'screening', 'identified by',\n",
    "        'laboratory', 'imaging', 'scan', 'blood test', 'confirmed by', 'biopsy',\n",
    "        'differential', 'assess', 'evaluation', 'workup', 'investigation', 'findings',\n",
    "        'clinical', 'physical', 'history', 'criteria', 'marker', 'indicator', 'biomarker',\n",
    "        'analyze', 'measure', 'monitor', 'observe', 'determine', 'identify', 'confirm',\n",
    "        'rule out', 'exclude', 'distinguish', 'characterize', 'classify', 'categorize',\n",
    "        'radiograph', 'x-ray', 'CT', 'MRI', 'ultrasound', 'endoscopy', 'culture', 'PCR',\n",
    "        'serology', 'antibody', 'antigen', 'genetic', 'molecular', 'biopsy', 'specimen',\n",
    "        'sample', 'tissue', 'fluid', 'urine', 'stool', 'cerebrospinal', 'CSF'\n",
    "    ],\n",
    "    'treatment': [\n",
    "        'treatment', 'therapy', 'intervention', 'management', 'medication', 'drug',\n",
    "        'surgery', 'therapeutic', 'treated with', 'managed by', 'cure', 'alleviate',\n",
    "        'relieve', 'regimen', 'protocol', 'approach', 'prevented', 'resolution',\n",
    "        'heal', 'treat', 'manage', 'control', 'care', 'support', 'palliat', 'remedial',\n",
    "        'procedure', 'operation', 'technique', 'method', 'antibiotic', 'antiviral',\n",
    "        'antifungal', 'antimicrobial', 'steroid', 'hormone', 'vaccine', 'immunization',\n",
    "        'prevention', 'prophylaxis', 'recovery', 'rehabilitation', 'physical therapy',\n",
    "        'occupational therapy', 'cognitive therapy', 'behavioral therapy', 'psychotherapy',\n",
    "        'counseling', 'dietary', 'nutrition', 'lifestyle', 'modification', 'complementary',\n",
    "        'alternative', 'traditional', 'response', 'prognosis', 'outcome', 'remission',\n",
    "        'follow-up', 'monitoring', 'maintenance', 'long-term'\n",
    "    ],\n",
    "    # Additional aspect to capture complication and prognosis information\n",
    "    'prognosis': [\n",
    "        'prognosis', 'outlook', 'course', 'progression', 'complication', 'sequela',\n",
    "        'mortality', 'morbidity', 'survival', 'fatal', 'life expectancy', 'chronic',\n",
    "        'relapse', 'recur', 'remission', 'resolve', 'improve', 'deteriorate', 'worsen',\n",
    "        'permanent', 'temporary', 'reversible', 'irreversible', 'disability', 'impairment',\n",
    "        'function', 'quality of life', 'burden', 'risk', 'chance', 'likelihood', 'percent',\n",
    "        'rate', 'common', 'rare', 'frequent', 'occasional', 'variable', 'unpredictable'\n",
    "    ]\n",
    "    }   \n",
    "    # Process each row\n",
    "    print(\"Calculating definition completeness scores...\")\n",
    "    for idx, row in tqdm(result_df.iterrows(), total=len(result_df)):\n",
    "        definition = row['definition']\n",
    "        \n",
    "        # Handle empty definitions\n",
    "        if not definition or definition == \"\":\n",
    "            result_df.at[idx, 'completeness'] = 0\n",
    "            continue\n",
    "            \n",
    "        # Convert to lowercase for case-insensitive matching\n",
    "        text = definition.lower()\n",
    "        \n",
    "        # Calculate scores for each aspect\n",
    "        component_scores = {}\n",
    "        for aspect, keywords in aspects.items():\n",
    "            # Count keyword matches\n",
    "            matches = sum(1 for keyword in keywords if keyword in text)\n",
    "            \n",
    "            # Score this aspect (0-100)\n",
    "            if matches >= 3:\n",
    "                aspect_score = 100\n",
    "            else:\n",
    "                aspect_score = (matches / 3) * 100\n",
    "                \n",
    "            component_scores[aspect] = aspect_score\n",
    "        \n",
    "        # Calculate total score (average of all aspect scores)\n",
    "        total_score = sum(component_scores.values()) / len(aspects)\n",
    "        \n",
    "        # Add length bonus (longer definitions tend to be more complete)\n",
    "        sentences = [s.strip() for s in definition.split('.') if s.strip()]\n",
    "        sentence_count = len(sentences)\n",
    "        \n",
    "        length_bonus = min(10, (sentence_count / 5) * 10)\n",
    "        total_score = min(100, total_score * (1 + length_bonus/100))\n",
    "        \n",
    "        # Store in dataframe\n",
    "        result_df.at[idx, 'completeness'] = round(total_score, 1)\n",
    "    \n",
    "    # Print statistics\n",
    "    print(f\"Completeness scores added for {len(result_df)} definitions\")\n",
    "    print(\"\\nCompleteness Score Statistics:\")\n",
    "    print(f\"Mean: {result_df['completeness'].mean():.2f}\")\n",
    "    print(f\"Median: {result_df['completeness'].median():.2f}\")\n",
    "    print(f\"Min: {result_df['completeness'].min():.2f}\")\n",
    "    print(f\"Max: {result_df['completeness'].max():.2f}\")\n",
    "    \n",
    "    # Create a histogram\n",
    "    plt.figure(figsize=(10, 6))\n",
    "    plt.hist(result_df['completeness'].dropna(), bins=20, color='skyblue', edgecolor='black')\n",
    "    plt.title('Distribution of Definition Completeness Scores')\n",
    "    plt.xlabel('Completeness Score (0-100)')\n",
    "    plt.ylabel('Number of Definitions')\n",
    "    plt.grid(axis='y', alpha=0.75)\n",
    "    plt.show()\n",
    "    \n",
    "    return result_df"
   ]
  },
  {
   "cell_type": "code",
   "execution_count": 263,
   "metadata": {},
   "outputs": [
    {
     "name": "stdout",
     "output_type": "stream",
     "text": [
      "Calculating definition completeness scores...\n"
     ]
    },
    {
     "name": "stderr",
     "output_type": "stream",
     "text": [
      "100%|██████████| 13960/13960 [00:03<00:00, 3791.20it/s]\n"
     ]
    },
    {
     "name": "stdout",
     "output_type": "stream",
     "text": [
      "Completeness scores added for 13960 definitions\n",
      "\n",
      "Completeness Score Statistics:\n",
      "Mean: 13.71\n",
      "Median: 0.00\n",
      "Min: 0.00\n",
      "Max: 100.00\n"
     ]
    },
    {
     "data": {
      "image/png": "[encoded data removed]",
      "text/plain": [
       "<Figure size 1000x600 with 1 Axes>"
      ]
     },
     "metadata": {},
     "output_type": "display_data"
    }
   ],
   "source": [
    "df_with_completeness = add_definition_completeness_scores(df)"
   ]
  },
  {
   "cell_type": "markdown",
   "metadata": {},
   "source": [
    "## Empty Values"
   ]
  },
  {
   "cell_type": "code",
   "execution_count": 154,
   "metadata": {},
   "outputs": [
    {
     "name": "stdout",
     "output_type": "stream",
     "text": [
      "Missing values per column:\n",
      "id: 0.00%\n",
      "code: 5.38%\n",
      "title: 0.00%\n",
      "browser_url: 0.00%\n",
      "class_kind: 0.00%\n",
      "definition: 71.47%\n",
      "parent: 0.00%\n",
      "inclusions: 94.45%\n",
      "foundation_children: 93.67%\n",
      "foundation_child_references: 93.67%\n",
      "index_terms: 12.78%\n",
      "related_entities: 90.92%\n",
      "full_text: 0.00%\n",
      "children: 0.00%\n",
      "postcoordination_scales: 0.00%\n",
      "index_term_references: 86.34%\n",
      "exclusions: 0.00%\n",
      "exclusion_references: 91.21%\n",
      "fully_specified_name: 99.67%\n"
     ]
    }
   ],
   "source": [
    "print(\"Missing values per column:\")\n",
    "for col in df.columns:\n",
    "    perc_empty = df[df[col]==\"\"].shape[0]/df.shape[0]\n",
    "    print(f\"{col}: {perc_empty:.2%}\")"
   ]
  },
  {
   "cell_type": "markdown",
   "metadata": {},
   "source": [
    "# Solution 1: Text Concatenation"
   ]
  },
  {
   "cell_type": "markdown",
   "metadata": {},
   "source": [
    "Procedure in Giorgio's Computer."
   ]
  },
  {
   "cell_type": "code",
   "execution_count": 187,
   "metadata": {},
   "outputs": [
    {
     "data": {
      "text/plain": [
       "Index(['id', 'code', 'title', 'browser_url', 'class_kind', 'definition',\n",
       "       'parent', 'inclusions', 'foundation_children',\n",
       "       'foundation_child_references', 'index_terms', 'related_entities',\n",
       "       'full_text', 'children', 'postcoordination_scales',\n",
       "       'index_term_references', 'exclusions', 'exclusion_references',\n",
       "       'fully_specified_name', 'id_parent1', 'parent_description1',\n",
       "       'vectorization_text'],\n",
       "      dtype='object')"
      ]
     },
     "execution_count": 187,
     "metadata": {},
     "output_type": "execute_result"
    }
   ],
   "source": [
    "dc = pd.read_csv('icd11-23_data_vectorization.csv')\n",
    "dc.columns"
   ]
  },
  {
   "cell_type": "code",
   "execution_count": 193,
   "metadata": {},
   "outputs": [
    {
     "name": "stdout",
     "output_type": "stream",
     "text": [
      "Title: Infections due to Chlamydia psittaci\n",
      "Definition: Any condition caused by an infection with the gram-negative bacteria Chlamydia psittaci.\n",
      "These conditions are characterised by variable clinical presentations such as fever, cough, headaches, chills, fatigue, nausea, vomiting, diarrhoea, or pneumonia.\n",
      "Transmission is commonly by inhalation of aersol contaminated with body fluids from infected birds, or direct contact with infected birds.\n",
      "Confirmation is by identification of Chlamydia psittaci.\n",
      "Full text: Infections due to Chlamydia psittaci Any condition caused by an infection with the gram-negative bacteria Chlamydia psittaci.\n",
      "These conditions are characterised by variable clinical presentations such as fever, cough, headaches, chills, fatigue, nausea, vomiting, diarrhoea, or pneumonia.\n",
      "Transmission is commonly by inhalation of aersol contaminated with body fluids from infected birds, or direct contact with infected birds.\n",
      "Confirmation is by identification of Chlamydia psittaci.\n",
      "Psittacosis; Ornithosis; Parrot fever Pneumonia in chlamydia psittaci infection Infections due to Chlamydia psittaci; Psittacosis; Ornithosis; Parrot fever; chlamydophila psittaci infection; Infections due to Chlamydophila psittaci\n"
     ]
    }
   ],
   "source": [
    "print(dc['vectorization_text'].iloc[0].replace('. ', '.\\n'))"
   ]
  },
  {
   "cell_type": "markdown",
   "metadata": {},
   "source": [
    "Problem: low scores on embeddings, TF-IDF higher scores than BERT-based models. "
   ]
  },
  {
   "cell_type": "markdown",
   "metadata": {},
   "source": [
    "# Solution 2: LLM Generated Descriptions"
   ]
  },
  {
   "cell_type": "markdown",
   "metadata": {},
   "source": [
    "Procedure in [augmenting-descriptions.ipynb]('/Users/marco/Documents/python_projects/vector-database-ICD/augmenting-descriptions.ipynb)."
   ]
  },
  {
   "cell_type": "code",
   "execution_count": null,
   "metadata": {},
   "outputs": [],
   "source": [
    "dg = pd.read_csv('icd11-25_data_with_generated_descriptions.csv')"
   ]
  },
  {
   "cell_type": "code",
   "execution_count": 153,
   "metadata": {},
   "outputs": [
    {
     "data": {
      "text/plain": [
       "Index(['id', 'code', 'title', 'browser_url', 'class_kind', 'definition',\n",
       "       'parent', 'inclusions', 'foundation_children',\n",
       "       'foundation_child_references', 'index_terms', 'related_entities',\n",
       "       'full_text', 'children', 'postcoordination_scales',\n",
       "       'index_term_references', 'exclusions', 'exclusion_references',\n",
       "       'fully_specified_name', 'generated_description'],\n",
       "      dtype='object')"
      ]
     },
     "execution_count": 153,
     "metadata": {},
     "output_type": "execute_result"
    }
   ],
   "source": [
    "dg.columns"
   ]
  }
 ],
 "metadata": {
  "kernelspec": {
   "display_name": "venv_icd",
   "language": "python",
   "name": "python3"
  },
  "language_info": {
   "codemirror_mode": {
    "name": "ipython",
    "version": 3
   },
   "file_extension": ".py",
   "mimetype": "text/x-python",
   "name": "python",
   "nbconvert_exporter": "python",
   "pygments_lexer": "ipython3",
   "version": "3.11.7"
  }
 },
 "nbformat": 4,
 "nbformat_minor": 2
}
