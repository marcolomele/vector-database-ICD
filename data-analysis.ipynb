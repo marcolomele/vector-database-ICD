{
 "cells": [
  {
   "cell_type": "markdown",
   "metadata": {},
   "source": [
    "# Import and Load"
   ]
  },
  {
   "cell_type": "code",
   "execution_count": 182,
   "metadata": {},
   "outputs": [],
   "source": [
    "import pandas as pd\n",
    "import numpy as np"
   ]
  },
  {
   "cell_type": "code",
   "execution_count": 185,
   "metadata": {},
   "outputs": [
    {
     "data": {
      "text/plain": [
       "Index(['id', 'code', 'title', 'browser_url', 'class_kind', 'definition',\n",
       "       'parent', 'inclusions', 'foundation_children',\n",
       "       'foundation_child_references', 'index_terms', 'related_entities',\n",
       "       'full_text', 'children', 'postcoordination_scales',\n",
       "       'index_term_references', 'exclusions', 'exclusion_references',\n",
       "       'fully_specified_name', 'generated_description'],\n",
       "      dtype='object')"
      ]
     },
     "execution_count": 185,
     "metadata": {},
     "output_type": "execute_result"
    }
   ],
   "source": [
    "dg = pd.read_csv('icd11-25_data_clean_with_generated_descriptions.csv')\n",
    "dg.columns"
   ]
  },
  {
   "cell_type": "code",
   "execution_count": 186,
   "metadata": {},
   "outputs": [
    {
     "name": "stdout",
     "output_type": "stream",
     "text": [
      "Missing values per column:\n",
      "id: 0.00%\n",
      "code: 0.00%\n",
      "title: 0.00%\n",
      "browser_url: 0.00%\n",
      "class_kind: 0.00%\n",
      "definition: 0.00%\n",
      "parent: 0.00%\n",
      "inclusions: 0.00%\n",
      "foundation_children: 0.00%\n",
      "foundation_child_references: 0.00%\n",
      "index_terms: 0.00%\n",
      "related_entities: 0.00%\n",
      "full_text: 0.00%\n",
      "children: 0.00%\n",
      "postcoordination_scales: 48.17%\n",
      "index_term_references: 0.00%\n",
      "exclusions: 0.00%\n",
      "exclusion_references: 0.00%\n",
      "fully_specified_name: 0.00%\n",
      "generated_description: 0.00%\n"
     ]
    }
   ],
   "source": [
    "print(\"Missing values per column:\")\n",
    "for col in dg.columns:\n",
    "    if col == 'children' or col == 'exclusions':\n",
    "        perc_empty = dg[dg[col].str.len()==0].shape[0]/dg.shape[0]\n",
    "    elif col == 'postcoordination_scales':\n",
    "        perc_empty = dg[dg[col]=='{}'].shape[0]/dg.shape[0]\n",
    "    else:\n",
    "        perc_empty = dg[dg[col]==\"\"].shape[0]/dg.shape[0]\n",
    "    print(f\"{col}: {perc_empty:.2%}\")"
   ]
  },
  {
   "cell_type": "markdown",
   "metadata": {},
   "source": [
    "# Comparative Analysis"
   ]
  },
  {
   "cell_type": "markdown",
   "metadata": {},
   "source": [
    "## Analysis-specific pre-processing"
   ]
  },
  {
   "cell_type": "code",
   "execution_count": null,
   "metadata": {},
   "outputs": [],
   "source": []
  },
  {
   "cell_type": "markdown",
   "metadata": {},
   "source": [
    "## Addition of information"
   ]
  },
  {
   "cell_type": "code",
   "execution_count": null,
   "metadata": {},
   "outputs": [],
   "source": []
  },
  {
   "cell_type": "markdown",
   "metadata": {},
   "source": [
    "# Hierarchy Analysis"
   ]
  },
  {
   "cell_type": "code",
   "execution_count": null,
   "metadata": {},
   "outputs": [],
   "source": []
  },
  {
   "cell_type": "markdown",
   "metadata": {},
   "source": [
    "# Preparing for embeddings"
   ]
  },
  {
   "cell_type": "code",
   "execution_count": null,
   "metadata": {},
   "outputs": [],
   "source": []
  }
 ],
 "metadata": {
  "kernelspec": {
   "display_name": "venv_icd",
   "language": "python",
   "name": "python3"
  },
  "language_info": {
   "codemirror_mode": {
    "name": "ipython",
    "version": 3
   },
   "file_extension": ".py",
   "mimetype": "text/x-python",
   "name": "python",
   "nbconvert_exporter": "python",
   "pygments_lexer": "ipython3",
   "version": "3.11.7"
  }
 },
 "nbformat": 4,
 "nbformat_minor": 2
}
