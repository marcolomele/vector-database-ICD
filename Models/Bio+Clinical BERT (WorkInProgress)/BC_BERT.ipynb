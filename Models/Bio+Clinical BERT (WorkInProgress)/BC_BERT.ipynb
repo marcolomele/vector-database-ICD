{
 "cells": [
  {
   "cell_type": "markdown",
   "id": "9c70b7ae",
   "metadata": {},
   "source": [
    "ICD-11 Vectorization"
   ]
  }
 ],
 "metadata": {
  "language_info": {
   "name": "python"
  }
 },
 "nbformat": 4,
 "nbformat_minor": 5
}
