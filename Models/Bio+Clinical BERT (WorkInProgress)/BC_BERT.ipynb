{
 "cells": [
  {
   "cell_type": "markdown",
   "id": "9c70b7ae",
   "metadata": {},
   "source": [
    "# ICD-11 Vectorization"
   ]
  },
  {
   "cell_type": "markdown",
   "id": "9f3a6853",
   "metadata": {},
   "source": [
    "# 1. Setup and Installation"
   ]
  },
  {
   "cell_type": "code",
   "execution_count": 2,
   "id": "6a1246b5",
   "metadata": {},
   "outputs": [
    {
     "name": "stderr",
     "output_type": "stream",
     "text": [
      "d:\\Desktop\\2_NLP\\_Project_\\vector-database-ICD\\vector-database-ICD\\.conda\\Lib\\site-packages\\tqdm\\auto.py:21: TqdmWarning: IProgress not found. Please update jupyter and ipywidgets. See https://ipywidgets.readthedocs.io/en/stable/user_install.html\n",
      "  from .autonotebook import tqdm as notebook_tqdm\n",
      "[nltk_data] Downloading package punkt to\n",
      "[nltk_data]     C:\\Users\\oldys\\AppData\\Roaming\\nltk_data...\n",
      "[nltk_data]   Package punkt is already up-to-date!\n",
      "[nltk_data] Downloading package stopwords to\n",
      "[nltk_data]     C:\\Users\\oldys\\AppData\\Roaming\\nltk_data...\n",
      "[nltk_data]   Package stopwords is already up-to-date!\n"
     ]
    },
    {
     "data": {
      "text/plain": [
       "<torch._C.Generator at 0x1345161a010>"
      ]
     },
     "execution_count": 2,
     "metadata": {},
     "output_type": "execute_result"
    }
   ],
   "source": [
    "import pandas as pd\n",
    "import numpy as np\n",
    "import matplotlib.pyplot as plt\n",
    "import seaborn as sns\n",
    "import nltk\n",
    "from nltk.corpus import stopwords\n",
    "from nltk.stem import SnowballStemmer\n",
    "import re\n",
    "import json\n",
    "from transformers import AutoTokenizer, AutoModel\n",
    "import torch\n",
    "from tqdm import tqdm\n",
    "\n",
    "# Download necessary NLTK resources\n",
    "nltk.download('punkt')\n",
    "nltk.download('stopwords')\n",
    "\n",
    "# Set seed for reproducibility\n",
    "np.random.seed(42)\n",
    "torch.manual_seed(42)"
   ]
  },
  {
   "cell_type": "code",
   "execution_count": 1,
   "id": "611de707",
   "metadata": {},
   "outputs": [
    {
     "name": "stdout",
     "output_type": "stream",
     "text": [
      "C:\\Users\\oldys\\AppData\\Local\\Programs\\Microsoft VS Code\n"
     ]
    }
   ],
   "source": [
    "# check the working directory\n",
    "import os\n",
    "print(os.getcwd())"
   ]
  },
  {
   "cell_type": "markdown",
   "id": "e19393bb",
   "metadata": {},
   "source": [
    "# 2. Loading and Exploring the ICD-11 Data"
   ]
  },
  {
   "cell_type": "code",
   "execution_count": 3,
   "id": "5208354a",
   "metadata": {},
   "outputs": [
    {
     "name": "stdout",
     "output_type": "stream",
     "text": [
      "Total number of ICD-11 codes: 28087\n",
      "Number of columns: 19\n"
     ]
    },
    {
     "data": {
      "text/html": [
       "<div>\n",
       "<style scoped>\n",
       "    .dataframe tbody tr th:only-of-type {\n",
       "        vertical-align: middle;\n",
       "    }\n",
       "\n",
       "    .dataframe tbody tr th {\n",
       "        vertical-align: top;\n",
       "    }\n",
       "\n",
       "    .dataframe thead th {\n",
       "        text-align: right;\n",
       "    }\n",
       "</style>\n",
       "<table border=\"1\" class=\"dataframe\">\n",
       "  <thead>\n",
       "    <tr style=\"text-align: right;\">\n",
       "      <th></th>\n",
       "      <th>id</th>\n",
       "      <th>code</th>\n",
       "      <th>title</th>\n",
       "      <th>browser_url</th>\n",
       "      <th>class_kind</th>\n",
       "      <th>definition</th>\n",
       "      <th>parent</th>\n",
       "      <th>inclusions</th>\n",
       "      <th>foundation_children</th>\n",
       "      <th>foundation_child_references</th>\n",
       "      <th>index_terms</th>\n",
       "      <th>related_entities</th>\n",
       "      <th>full_text</th>\n",
       "      <th>children</th>\n",
       "      <th>postcoordination_scales</th>\n",
       "      <th>index_term_references</th>\n",
       "      <th>exclusions</th>\n",
       "      <th>exclusion_references</th>\n",
       "      <th>fully_specified_name</th>\n",
       "    </tr>\n",
       "  </thead>\n",
       "  <tbody>\n",
       "    <tr>\n",
       "      <th>0</th>\n",
       "      <td>1937339080</td>\n",
       "      <td>1C22</td>\n",
       "      <td>Infections due to Chlamydia psittaci</td>\n",
       "      <td>https://icd.who.int/browse/2023-01/mms/en#1937...</td>\n",
       "      <td>category</td>\n",
       "      <td>Any condition caused by an infection with the ...</td>\n",
       "      <td>1127435854</td>\n",
       "      <td>Psittacosis; Ornithosis; Parrot fever</td>\n",
       "      <td>Pneumonia in chlamydia psittaci infection</td>\n",
       "      <td>Pneumonia in chlamydia psittaci infection: htt...</td>\n",
       "      <td>Infections due to Chlamydia psittaci; Psittaco...</td>\n",
       "      <td>1935107489</td>\n",
       "      <td>Infections due to Chlamydia psittaci Any condi...</td>\n",
       "      <td>NaN</td>\n",
       "      <td>NaN</td>\n",
       "      <td>NaN</td>\n",
       "      <td>NaN</td>\n",
       "      <td>NaN</td>\n",
       "      <td>NaN</td>\n",
       "    </tr>\n",
       "    <tr>\n",
       "      <th>1</th>\n",
       "      <td>1671640403</td>\n",
       "      <td>1F51.0</td>\n",
       "      <td>Gambiense trypanosomiasis</td>\n",
       "      <td>https://icd.who.int/browse/2023-01/mms/en#1671...</td>\n",
       "      <td>category</td>\n",
       "      <td>A disease caused by an infection with the prot...</td>\n",
       "      <td>875488052</td>\n",
       "      <td>West African sleeping sickness; Infection due ...</td>\n",
       "      <td>NaN</td>\n",
       "      <td>NaN</td>\n",
       "      <td>NaN</td>\n",
       "      <td>1945127438</td>\n",
       "      <td>Gambiense trypanosomiasis A disease caused by ...</td>\n",
       "      <td>1842725899; other; unspecified</td>\n",
       "      <td>{'axis_name': 'hasManifestation', 'required': ...</td>\n",
       "      <td>NaN</td>\n",
       "      <td>NaN</td>\n",
       "      <td>NaN</td>\n",
       "      <td>NaN</td>\n",
       "    </tr>\n",
       "    <tr>\n",
       "      <th>2</th>\n",
       "      <td>1528414070</td>\n",
       "      <td>1A07</td>\n",
       "      <td>Typhoid fever</td>\n",
       "      <td>https://icd.who.int/browse/2023-01/mms/en#1528...</td>\n",
       "      <td>category</td>\n",
       "      <td>A condition caused by an infection with the gr...</td>\n",
       "      <td>135352227</td>\n",
       "      <td>NaN</td>\n",
       "      <td>NaN</td>\n",
       "      <td>NaN</td>\n",
       "      <td>NaN</td>\n",
       "      <td>911707612</td>\n",
       "      <td>Typhoid fever A condition caused by an infecti...</td>\n",
       "      <td>364534567; other; unspecified</td>\n",
       "      <td>{'axis_name': 'hasManifestation', 'required': ...</td>\n",
       "      <td>NaN</td>\n",
       "      <td>NaN</td>\n",
       "      <td>NaN</td>\n",
       "      <td>NaN</td>\n",
       "    </tr>\n",
       "    <tr>\n",
       "      <th>3</th>\n",
       "      <td>328097188</td>\n",
       "      <td>1A36.12</td>\n",
       "      <td>Cutaneous amoebiasis</td>\n",
       "      <td>https://icd.who.int/browse/2023-01/mms/en#3280...</td>\n",
       "      <td>category</td>\n",
       "      <td>NaN</td>\n",
       "      <td>1777228366</td>\n",
       "      <td>NaN</td>\n",
       "      <td>NaN</td>\n",
       "      <td>NaN</td>\n",
       "      <td>Cutaneous amoebiasis; Amoebiasis of skin; Amoe...</td>\n",
       "      <td>911707612</td>\n",
       "      <td>Cutaneous amoebiasis Cutaneous amoebiasis; Amo...</td>\n",
       "      <td>NaN</td>\n",
       "      <td>NaN</td>\n",
       "      <td>NaN</td>\n",
       "      <td>NaN</td>\n",
       "      <td>NaN</td>\n",
       "      <td>NaN</td>\n",
       "    </tr>\n",
       "    <tr>\n",
       "      <th>4</th>\n",
       "      <td>1483190070</td>\n",
       "      <td>1D03</td>\n",
       "      <td>Infectious abscess of the central nervous system</td>\n",
       "      <td>https://icd.who.int/browse/2023-01/mms/en#1483...</td>\n",
       "      <td>category</td>\n",
       "      <td>A focal suppurative process of the brain paren...</td>\n",
       "      <td>1585949804</td>\n",
       "      <td>NaN</td>\n",
       "      <td>NaN</td>\n",
       "      <td>NaN</td>\n",
       "      <td>NaN</td>\n",
       "      <td>911707612</td>\n",
       "      <td>Infectious abscess of the central nervous syst...</td>\n",
       "      <td>443087096; 613341872; 1147230459; 1128677700; ...</td>\n",
       "      <td>{'axis_name': 'specificAnatomy', 'required': '...</td>\n",
       "      <td>NaN</td>\n",
       "      <td>NaN</td>\n",
       "      <td>NaN</td>\n",
       "      <td>NaN</td>\n",
       "    </tr>\n",
       "  </tbody>\n",
       "</table>\n",
       "</div>"
      ],
      "text/plain": [
       "           id     code                                             title  \\\n",
       "0  1937339080     1C22              Infections due to Chlamydia psittaci   \n",
       "1  1671640403   1F51.0                         Gambiense trypanosomiasis   \n",
       "2  1528414070     1A07                                     Typhoid fever   \n",
       "3   328097188  1A36.12                              Cutaneous amoebiasis   \n",
       "4  1483190070     1D03  Infectious abscess of the central nervous system   \n",
       "\n",
       "                                         browser_url class_kind  \\\n",
       "0  https://icd.who.int/browse/2023-01/mms/en#1937...   category   \n",
       "1  https://icd.who.int/browse/2023-01/mms/en#1671...   category   \n",
       "2  https://icd.who.int/browse/2023-01/mms/en#1528...   category   \n",
       "3  https://icd.who.int/browse/2023-01/mms/en#3280...   category   \n",
       "4  https://icd.who.int/browse/2023-01/mms/en#1483...   category   \n",
       "\n",
       "                                          definition      parent  \\\n",
       "0  Any condition caused by an infection with the ...  1127435854   \n",
       "1  A disease caused by an infection with the prot...   875488052   \n",
       "2  A condition caused by an infection with the gr...   135352227   \n",
       "3                                                NaN  1777228366   \n",
       "4  A focal suppurative process of the brain paren...  1585949804   \n",
       "\n",
       "                                          inclusions  \\\n",
       "0              Psittacosis; Ornithosis; Parrot fever   \n",
       "1  West African sleeping sickness; Infection due ...   \n",
       "2                                                NaN   \n",
       "3                                                NaN   \n",
       "4                                                NaN   \n",
       "\n",
       "                         foundation_children  \\\n",
       "0  Pneumonia in chlamydia psittaci infection   \n",
       "1                                        NaN   \n",
       "2                                        NaN   \n",
       "3                                        NaN   \n",
       "4                                        NaN   \n",
       "\n",
       "                         foundation_child_references  \\\n",
       "0  Pneumonia in chlamydia psittaci infection: htt...   \n",
       "1                                                NaN   \n",
       "2                                                NaN   \n",
       "3                                                NaN   \n",
       "4                                                NaN   \n",
       "\n",
       "                                         index_terms related_entities  \\\n",
       "0  Infections due to Chlamydia psittaci; Psittaco...       1935107489   \n",
       "1                                                NaN       1945127438   \n",
       "2                                                NaN        911707612   \n",
       "3  Cutaneous amoebiasis; Amoebiasis of skin; Amoe...        911707612   \n",
       "4                                                NaN        911707612   \n",
       "\n",
       "                                           full_text  \\\n",
       "0  Infections due to Chlamydia psittaci Any condi...   \n",
       "1  Gambiense trypanosomiasis A disease caused by ...   \n",
       "2  Typhoid fever A condition caused by an infecti...   \n",
       "3  Cutaneous amoebiasis Cutaneous amoebiasis; Amo...   \n",
       "4  Infectious abscess of the central nervous syst...   \n",
       "\n",
       "                                            children  \\\n",
       "0                                                NaN   \n",
       "1                     1842725899; other; unspecified   \n",
       "2                      364534567; other; unspecified   \n",
       "3                                                NaN   \n",
       "4  443087096; 613341872; 1147230459; 1128677700; ...   \n",
       "\n",
       "                             postcoordination_scales index_term_references  \\\n",
       "0                                                NaN                   NaN   \n",
       "1  {'axis_name': 'hasManifestation', 'required': ...                   NaN   \n",
       "2  {'axis_name': 'hasManifestation', 'required': ...                   NaN   \n",
       "3                                                NaN                   NaN   \n",
       "4  {'axis_name': 'specificAnatomy', 'required': '...                   NaN   \n",
       "\n",
       "  exclusions exclusion_references fully_specified_name  \n",
       "0        NaN                  NaN                  NaN  \n",
       "1        NaN                  NaN                  NaN  \n",
       "2        NaN                  NaN                  NaN  \n",
       "3        NaN                  NaN                  NaN  \n",
       "4        NaN                  NaN                  NaN  "
      ]
     },
     "execution_count": 3,
     "metadata": {},
     "output_type": "execute_result"
    }
   ],
   "source": [
    "# Load the ICD-11 data\n",
    "icd11_df = pd.read_csv(\"D:/Desktop/2_NLP/_Project_/vector-database-ICD/icd11_data_raw.csv\")\n",
    "\n",
    "# === Load Comorbidity Data with ICD-11 Mappings (USED FOR EVALUATION AND PARTICULAR SAMPLING) ===\n",
    "comorbidity_df = pd.read_csv(r\"D:\\Desktop\\2_NLP\\_Project_\\Gleb_stuff\\comorbidity_with_icd11.csv\")\n",
    "\n",
    "# Basic data exploration\n",
    "print(f\"Total number of ICD-11 codes: {len(icd11_df)}\")\n",
    "print(f\"Number of columns: {len(icd11_df.columns)}\")\n",
    "\n",
    "# Display the first few rows\n",
    "icd11_df.head()\n",
    "     "
   ]
  },
  {
   "cell_type": "markdown",
   "id": "587cc1b7",
   "metadata": {},
   "source": [
    "# (Temporary) Codes overlap investigation"
   ]
  },
  {
   "cell_type": "code",
   "execution_count": 33,
   "id": "9e80290a",
   "metadata": {},
   "outputs": [
    {
     "data": {
      "text/plain": [
       "(222,)"
      ]
     },
     "execution_count": 33,
     "metadata": {},
     "output_type": "execute_result"
    }
   ],
   "source": [
    "# Get unique ICD-11 codes from comorbidity file\n",
    "used_icd11_codes = pd.Series(\n",
    "    pd.concat([comorbidity_df['ICD11_1'], comorbidity_df['ICD11_2']])\n",
    ").dropna().unique()\n",
    "\n",
    "used_icd11_codes.shape\n",
    "     "
   ]
  },
  {
   "cell_type": "code",
   "execution_count": null,
   "id": "f81183e6",
   "metadata": {},
   "outputs": [
    {
     "ename": "AttributeError",
     "evalue": "'numpy.ndarray' object has no attribute 'str'",
     "output_type": "error",
     "traceback": [
      "\u001b[31m---------------------------------------------------------------------------\u001b[39m",
      "\u001b[31mAttributeError\u001b[39m                            Traceback (most recent call last)",
      "\u001b[36mCell\u001b[39m\u001b[36m \u001b[39m\u001b[32mIn[37]\u001b[39m\u001b[32m, line 1\u001b[39m\n\u001b[32m----> \u001b[39m\u001b[32m1\u001b[39m \u001b[43mused_icd11_codes\u001b[49m\u001b[43m.\u001b[49m\u001b[43mstr\u001b[49m.startswith(beginning, na=\u001b[38;5;28;01mFalse\u001b[39;00m)\n",
      "\u001b[31mAttributeError\u001b[39m: 'numpy.ndarray' object has no attribute 'str'"
     ]
    }
   ],
   "source": []
  },
  {
   "cell_type": "code",
   "execution_count": 42,
   "id": "25080662",
   "metadata": {},
   "outputs": [
    {
     "name": "stdout",
     "output_type": "stream",
     "text": [
      "2452    6A05.1\n",
      "2482    6A00.1\n",
      "2511    6A01.2\n",
      "2583    6A03.1\n",
      "2585    6A05.0\n",
      "Name: code, dtype: object \n",
      "\n",
      " 80       6A0Z\n",
      "140    6A00.0\n",
      "185    6A05.Z\n",
      "dtype: object \n",
      "\n",
      "\n"
     ]
    }
   ],
   "source": [
    "beginning = '6A0'\n",
    "\n",
    "# Convert numpy array to pandas Series for string operations\n",
    "used_codes_series = pd.Series(used_icd11_codes)\n",
    "\n",
    "print(\n",
    "    icd11_df[icd11_df['code'].str.startswith(beginning, na=False)]['code'].head(), \"\\n\\n\",\n",
    "    used_codes_series[used_codes_series.str.startswith(beginning, na=False)].head(), \"\\n\\n\"\n",
    "    )"
   ]
  },
  {
   "cell_type": "code",
   "execution_count": null,
   "id": "04ff74d8",
   "metadata": {},
   "outputs": [
    {
     "name": "stdout",
     "output_type": "stream",
     "text": [
      "✅ Selected 59 ICD-11 codes from comorbidity data.\n"
     ]
    }
   ],
   "source": [
    "# Step 3: Filter icd11_df for only those ICD-11 codes\n",
    "if 'code' not in icd11_df.columns:\n",
    "    raise ValueError(\"❌ 'code' column (ICD-11 code identifier) not found in icd11_data_vectorization.csv\")\n",
    "\n",
    "\n",
    "filtered_icd11_df = icd11_df[icd11_df['code'].isin(used_icd11_codes)].copy()\n",
    "print(f\"✅ Selected {len(filtered_icd11_df)} ICD-11 codes from comorbidity data.\")"
   ]
  },
  {
   "cell_type": "code",
   "execution_count": 21,
   "id": "3805eb57",
   "metadata": {},
   "outputs": [
    {
     "data": {
      "text/plain": [
       "17        1B70.1\n",
       "75          1G40\n",
       "135         1E30\n",
       "238       1F03.0\n",
       "276         1C41\n",
       "295       1E50.0\n",
       "431       1C62.1\n",
       "519       1F02.2\n",
       "680       1D80.0\n",
       "729         1G80\n",
       "2015        5B59\n",
       "2181        5A11\n",
       "2330        5A14\n",
       "2428        5A10\n",
       "2558        6D83\n",
       "2594      6D72.0\n",
       "2795        6B41\n",
       "2980      6A00.0\n",
       "3106        6A22\n",
       "3276        8B20\n",
       "3341      8B11.3\n",
       "3670        8E47\n",
       "3718      8B01.2\n",
       "4152      9A78.8\n",
       "4734        BC64\n",
       "4776        BA01\n",
       "4923     CA23.32\n",
       "5054        CA00\n",
       "5363      DA08.0\n",
       "5431      DB97.2\n",
       "5522      DB99.7\n",
       "6613      FA25.0\n",
       "6645      FB50.1\n",
       "6727        FA05\n",
       "6740      FA70.2\n",
       "6744      FA70.1\n",
       "7353      JB46.2\n",
       "9203      ME10.1\n",
       "9243      ME60.2\n",
       "9260        MG25\n",
       "9264        MD12\n",
       "9276        MD93\n",
       "9293      MD81.4\n",
       "9309      MF50.3\n",
       "9310        MD95\n",
       "9337        MC85\n",
       "9389      MC81.3\n",
       "9673      MD90.1\n",
       "9714      MF50.1\n",
       "9912        MG26\n",
       "10033     MB53.0\n",
       "10690       NE11\n",
       "10990       NF05\n",
       "11407       NE60\n",
       "11417       NE61\n",
       "11423       ND30\n",
       "11624       PC94\n",
       "12067       PB5A\n",
       "25652      XN9ZG\n",
       "Name: code, dtype: object"
      ]
     },
     "execution_count": 21,
     "metadata": {},
     "output_type": "execute_result"
    }
   ],
   "source": [
    "icd11_df[icd11_df['code'].isin(used_icd11_codes)]['code']"
   ]
  },
  {
   "cell_type": "code",
   "execution_count": 28,
   "id": "355825e4",
   "metadata": {},
   "outputs": [
    {
     "name": "stdout",
     "output_type": "stream",
     "text": [
      "['1A62.Z', '1B70.Z', '1C17.Z', '1C4Z', '1C62.Z', '1D9Z', '1E50.Z', '1E51.Z', '1E90.Z', '1F23.Z', '1F76.Z', '1G04.Z', '1H0Z', '3A00.Z', '5A02.Z', '5A4Z', '5B5A.Z', '5B7Z', '5B81.Z', '5C70.Z', '5C7Z', '5C8Z', '5D0Y', '6A05.Z', '6A0Z', '6A20.Z', '6A21.Z', '6A23.Z', '6A24.Z', '6A61.Z', '6A70.Z', '6A71.Z', '6A8Z', '6B0Z', '6B20.Z', '6B8Z', '6C20.Z', '6C40.Z', '6C41.Z', '6C43.Z', '6C44.Z', '6C45.Z', '6C49.Z', '6C4B.Z', '6C4C.Z', '6C4D.Z', '6C91.Z', '6D10.Z', '6D3Z', '6D70.Z', '6D8Z', '6E6Z', '7B2Z', '8A00.2Z', '8A02.Z', '8A6Z', '8A84.Z', '8A8Z', '8B00.Z', '8B22.Y', '8B25.Z', '8C03.Z', '8D64.Z', '9A60.Z', '9B10.2Y', '9C61.Z', '9C84.Z', '9C8Y', '9D7Z', 'BA00.Z', 'BA04.Z', 'BA2Z', 'BA40.Z', 'BA41.Z', 'BA5Z', 'BB00.Z', 'BC0Z', 'BC63.4Z', 'BC63.Z', 'BC81.Z', 'BD1Z', 'BD70.Z', 'CA20.1Z', 'CA22.Z', 'CA27.Z', 'CA40.Z', 'CA42.Z', 'CB40.Y', 'DA26.0Z', 'DA42.Z', 'DA60.Z', 'DA63.Z', 'DB30.Z', 'DB31.Z', 'DB33.4Z', 'DB93.Y', 'DB94.Z', 'DB99.Y', 'DD70.Z', 'DD71.Z']\n"
     ]
    }
   ],
   "source": [
    "missing_codes = set(used_icd11_codes) - set(filtered_icd11_df['code'])\n",
    "print(sorted(list(missing_codes))[:100])  # Show first 20 missing codes\n"
   ]
  },
  {
   "cell_type": "code",
   "execution_count": 31,
   "id": "d16d982b",
   "metadata": {},
   "outputs": [
    {
     "data": {
      "text/plain": [
       "2452     6A05.1\n",
       "2482     6A00.1\n",
       "2511     6A01.2\n",
       "2583     6A03.1\n",
       "2585     6A05.0\n",
       "2622       6A06\n",
       "2639     6A03.2\n",
       "2645     6A03.3\n",
       "2677     6A06.0\n",
       "2722     6A02.3\n",
       "2768     6A03.0\n",
       "2799       6A04\n",
       "2805       6A03\n",
       "2838       6A01\n",
       "2858    6A01.22\n",
       "2893     6A01.1\n",
       "2899     6A05.2\n",
       "2901       6A05\n",
       "2904     6A00.3\n",
       "2921     6A00.2\n",
       "2949     6A06.1\n",
       "2966       6A00\n",
       "2969    6A01.23\n",
       "2980     6A00.0\n",
       "2982    6A01.20\n",
       "2985     6A02.0\n",
       "3015     6A02.2\n",
       "3022       6A02\n",
       "3080     6A00.4\n",
       "3081    6A01.21\n",
       "3108     6A02.5\n",
       "3112     6A01.0\n",
       "3124     6A02.1\n",
       "Name: code, dtype: object"
      ]
     },
     "execution_count": 31,
     "metadata": {},
     "output_type": "execute_result"
    }
   ],
   "source": [
    "icd11_df[icd11_df['code'].str.startswith('6A0', na=False)]['code']"
   ]
  },
  {
   "cell_type": "code",
   "execution_count": 43,
   "id": "90d78ea8",
   "metadata": {},
   "outputs": [
    {
     "name": "stdout",
     "output_type": "stream",
     "text": [
      "✅ Matched 59 ICD-11 codes after normalization.\n"
     ]
    }
   ],
   "source": [
    "def normalize_icd_code(code):\n",
    "    return str(code).strip().upper().replace('.', '')\n",
    "\n",
    "# Normalize comorbidity codes\n",
    "normalized_used_codes = set(normalize_icd_code(code) for code in used_icd11_codes)\n",
    "\n",
    "# Normalize icd11_df['code'] and map back to original\n",
    "icd11_df['normalized_code'] = icd11_df['code'].apply(normalize_icd_code)\n",
    "\n",
    "# Match using normalized codes\n",
    "filtered_icd11_df = icd11_df[icd11_df['normalized_code'].isin(normalized_used_codes)].copy()\n",
    "print(f\"✅ Matched {len(filtered_icd11_df)} ICD-11 codes after normalization.\")\n"
   ]
  },
  {
   "cell_type": "markdown",
   "id": "eff759eb",
   "metadata": {},
   "source": [
    "# 3. Text Preprocessing"
   ]
  },
  {
   "cell_type": "code",
   "execution_count": 44,
   "id": "17c537d7",
   "metadata": {},
   "outputs": [],
   "source": [
    "# Minimal preprocessing for Bio+ClinicalBERT\n",
    "def preprocess_text(text):\n",
    "    if pd.isna(text):\n",
    "        return ''\n",
    "    text = text.lower()\n",
    "    text = re.sub('<.*?>', '', text)\n",
    "    text = re.sub('[^a-zA-Z0-9\\s]', ' ', text)\n",
    "    return text.strip()"
   ]
  },
  {
   "cell_type": "code",
   "execution_count": null,
   "id": "65aa0257",
   "metadata": {},
   "outputs": [],
   "source": [
    "# # Combine relevant columns into one text field\n",
    "# icd11_df['processed_text'] = icd11_df.apply(\n",
    "#     lambda row: preprocess_text(' '.join([\n",
    "#         str(row.get('title', '')),\n",
    "#         str(row.get('definition', '')),\n",
    "#         str(row.get('inclusions', '')),\n",
    "#         str(row.get('index_terms', ''))\n",
    "#     ])), axis=1\n",
    "# )\n"
   ]
  },
  {
   "cell_type": "code",
   "execution_count": 45,
   "id": "76660a5e",
   "metadata": {},
   "outputs": [],
   "source": [
    "# Combine fields for input\n",
    "filtered_icd11_df['processed_text'] = filtered_icd11_df.apply(\n",
    "    lambda row: preprocess_text(' '.join([\n",
    "        str(row.get('title', '')),\n",
    "        str(row.get('definition', '')),\n",
    "        str(row.get('inclusions', '')),\n",
    "        str(row.get('index_terms', ''))\n",
    "    ])), axis=1\n",
    ")"
   ]
  },
  {
   "cell_type": "markdown",
   "id": "39e902e2",
   "metadata": {},
   "source": [
    "# 4. Bio+clinical BERT Model Implementation"
   ]
  },
  {
   "cell_type": "code",
   "execution_count": 46,
   "id": "3010851d",
   "metadata": {},
   "outputs": [
    {
     "data": {
      "text/plain": [
       "BertModel(\n",
       "  (embeddings): BertEmbeddings(\n",
       "    (word_embeddings): Embedding(28996, 768, padding_idx=0)\n",
       "    (position_embeddings): Embedding(512, 768)\n",
       "    (token_type_embeddings): Embedding(2, 768)\n",
       "    (LayerNorm): LayerNorm((768,), eps=1e-12, elementwise_affine=True)\n",
       "    (dropout): Dropout(p=0.1, inplace=False)\n",
       "  )\n",
       "  (encoder): BertEncoder(\n",
       "    (layer): ModuleList(\n",
       "      (0-11): 12 x BertLayer(\n",
       "        (attention): BertAttention(\n",
       "          (self): BertSdpaSelfAttention(\n",
       "            (query): Linear(in_features=768, out_features=768, bias=True)\n",
       "            (key): Linear(in_features=768, out_features=768, bias=True)\n",
       "            (value): Linear(in_features=768, out_features=768, bias=True)\n",
       "            (dropout): Dropout(p=0.1, inplace=False)\n",
       "          )\n",
       "          (output): BertSelfOutput(\n",
       "            (dense): Linear(in_features=768, out_features=768, bias=True)\n",
       "            (LayerNorm): LayerNorm((768,), eps=1e-12, elementwise_affine=True)\n",
       "            (dropout): Dropout(p=0.1, inplace=False)\n",
       "          )\n",
       "        )\n",
       "        (intermediate): BertIntermediate(\n",
       "          (dense): Linear(in_features=768, out_features=3072, bias=True)\n",
       "          (intermediate_act_fn): GELUActivation()\n",
       "        )\n",
       "        (output): BertOutput(\n",
       "          (dense): Linear(in_features=3072, out_features=768, bias=True)\n",
       "          (LayerNorm): LayerNorm((768,), eps=1e-12, elementwise_affine=True)\n",
       "          (dropout): Dropout(p=0.1, inplace=False)\n",
       "        )\n",
       "      )\n",
       "    )\n",
       "  )\n",
       "  (pooler): BertPooler(\n",
       "    (dense): Linear(in_features=768, out_features=768, bias=True)\n",
       "    (activation): Tanh()\n",
       "  )\n",
       ")"
      ]
     },
     "execution_count": 46,
     "metadata": {},
     "output_type": "execute_result"
    }
   ],
   "source": [
    "# Load Bio+ClinicalBERT\n",
    "model_name = \"emilyalsentzer/Bio_ClinicalBERT\"\n",
    "tokenizer = AutoTokenizer.from_pretrained(model_name)\n",
    "model = AutoModel.from_pretrained(model_name)\n",
    "\n",
    "# Set model to evaluation mode\n",
    "model.eval()"
   ]
  },
  {
   "cell_type": "code",
   "execution_count": 47,
   "id": "3cfad3b5",
   "metadata": {},
   "outputs": [],
   "source": [
    "# Embedding function using CLS token\n",
    "def get_bert_embedding(text, model, tokenizer):\n",
    "    inputs = tokenizer(text, return_tensors=\"pt\", truncation=True, padding=True, max_length=512)\n",
    "    with torch.no_grad():\n",
    "        outputs = model(**inputs)\n",
    "    return outputs.last_hidden_state[:, 0, :].squeeze().numpy()  # CLS token\n"
   ]
  },
  {
   "cell_type": "markdown",
   "id": "1a7a78e7",
   "metadata": {},
   "source": [
    "# 5. Generating Embeddings for ICD-11 Codes"
   ]
  },
  {
   "cell_type": "code",
   "execution_count": 48,
   "id": "9708c054",
   "metadata": {},
   "outputs": [
    {
     "name": "stdout",
     "output_type": "stream",
     "text": [
      "🔍 Generating embeddings for 59 matched ICD-11 codes...\n"
     ]
    },
    {
     "name": "stderr",
     "output_type": "stream",
     "text": [
      "100%|██████████| 59/59 [00:17<00:00,  3.30it/s]\n"
     ]
    }
   ],
   "source": [
    "# Generate embeddings\n",
    "print(f\"🔍 Generating embeddings for {len(filtered_icd11_df)} matched ICD-11 codes...\")\n",
    "embeddings = []\n",
    "for text in tqdm(filtered_icd11_df['processed_text'].tolist()):\n",
    "    embeddings.append(get_bert_embedding(text, model, tokenizer))\n",
    "\n"
   ]
  },
  {
   "cell_type": "code",
   "execution_count": null,
   "id": "c9934216",
   "metadata": {},
   "outputs": [
    {
     "name": "stdout",
     "output_type": "stream",
     "text": [
      "Generating Bio+ClinicalBERT embeddings for 3000 ICD codes...\n",
      "Processing batch 1/30 (0 to 99)\n",
      "Processing batch 2/30 (100 to 199)\n",
      "Processing batch 3/30 (200 to 299)\n",
      "Processing batch 4/30 (300 to 399)\n",
      "Processing batch 5/30 (400 to 499)\n",
      "Processing batch 6/30 (500 to 599)\n",
      "Processing batch 7/30 (600 to 699)\n",
      "Processing batch 8/30 (700 to 799)\n",
      "Processing batch 9/30 (800 to 899)\n",
      "Processing batch 10/30 (900 to 999)\n",
      "Processing batch 11/30 (1000 to 1099)\n",
      "Processing batch 12/30 (1100 to 1199)\n",
      "Processing batch 13/30 (1200 to 1299)\n",
      "Processing batch 14/30 (1300 to 1399)\n",
      "Processing batch 15/30 (1400 to 1499)\n",
      "Processing batch 16/30 (1500 to 1599)\n",
      "Processing batch 17/30 (1600 to 1699)\n",
      "Processing batch 18/30 (1700 to 1799)\n",
      "Processing batch 19/30 (1800 to 1899)\n",
      "Processing batch 20/30 (1900 to 1999)\n",
      "Processing batch 21/30 (2000 to 2099)\n",
      "Processing batch 22/30 (2100 to 2199)\n",
      "Processing batch 23/30 (2200 to 2299)\n",
      "Processing batch 24/30 (2300 to 2399)\n",
      "Processing batch 25/30 (2400 to 2499)\n",
      "Processing batch 26/30 (2500 to 2599)\n",
      "Processing batch 27/30 (2600 to 2699)\n",
      "Processing batch 28/30 (2700 to 2799)\n",
      "Processing batch 29/30 (2800 to 2899)\n",
      "Processing batch 30/30 (2900 to 2999)\n"
     ]
    }
   ],
   "source": [
    "# # Sample 1000 entries\n",
    "# sample_size = 3000\n",
    "# sample_indices = np.random.choice(range(len(icd11_df)), sample_size, replace=False)\n",
    "# sample_df = icd11_df.iloc[sample_indices].copy().reset_index(drop=True)\n",
    "\n",
    "# # Generate embeddings in batches\n",
    "# print(f\"Generating Bio+ClinicalBERT embeddings for {sample_size} ICD codes...\")\n",
    "\n",
    "\n",
    "# batch_size = 100\n",
    "# embeddings = []\n",
    "\n",
    "# for i in range(0, len(sample_df), batch_size):\n",
    "#     end_idx = min(i + batch_size, len(sample_df))\n",
    "#     print(f\"Processing batch {i//batch_size + 1}/{(len(sample_df)-1)//batch_size + 1} ({i} to {end_idx-1})\")\n",
    "#     batch_embeddings = sample_df.loc[i:end_idx-1, 'processed_text'].apply(\n",
    "#         lambda text: get_bert_embedding(text, model, tokenizer)\n",
    "#     )\n",
    "#     embeddings.extend(batch_embeddings)"
   ]
  },
  {
   "cell_type": "markdown",
   "id": "710bc754",
   "metadata": {},
   "source": [
    "# 6. Dimensionality Reduction"
   ]
  },
  {
   "cell_type": "code",
   "execution_count": 50,
   "id": "abae7b25",
   "metadata": {},
   "outputs": [
    {
     "name": "stdout",
     "output_type": "stream",
     "text": [
      "Reducing to 300 dimensions using PCA...\n"
     ]
    }
   ],
   "source": [
    "from sklearn.decomposition import PCA\n",
    "\n",
    "# Dimensionality Reduction to 300D\n",
    "print(\"Reducing to 300 dimensions using PCA...\")\n",
    "embedding_df = pd.DataFrame(embeddings)\n",
    "pca = PCA(n_components=59)\n",
    "reduced_embeddings = pca.fit_transform(embedding_df)"
   ]
  },
  {
   "cell_type": "code",
   "execution_count": 105,
   "id": "feae8125",
   "metadata": {},
   "outputs": [
    {
     "name": "stdout",
     "output_type": "stream",
     "text": [
      "⚙️ Reducing to 300 dimensions using PCA...\n"
     ]
    },
    {
     "ename": "ValueError",
     "evalue": "n_components=300 must be between 0 and min(n_samples, n_features)=59 with svd_solver='full'",
     "output_type": "error",
     "traceback": [
      "\u001b[31m---------------------------------------------------------------------------\u001b[39m",
      "\u001b[31mValueError\u001b[39m                                Traceback (most recent call last)",
      "\u001b[36mCell\u001b[39m\u001b[36m \u001b[39m\u001b[32mIn[105]\u001b[39m\u001b[32m, line 4\u001b[39m\n\u001b[32m      2\u001b[39m \u001b[38;5;28mprint\u001b[39m(\u001b[33m\"\u001b[39m\u001b[33m⚙️ Reducing to 300 dimensions using PCA...\u001b[39m\u001b[33m\"\u001b[39m)\n\u001b[32m      3\u001b[39m pca = PCA(n_components=\u001b[32m300\u001b[39m)\n\u001b[32m----> \u001b[39m\u001b[32m4\u001b[39m reduced_embeddings = \u001b[43mpca\u001b[49m\u001b[43m.\u001b[49m\u001b[43mfit_transform\u001b[49m\u001b[43m(\u001b[49m\u001b[43membeddings\u001b[49m\u001b[43m)\u001b[49m\n",
      "\u001b[36mFile \u001b[39m\u001b[32md:\\Desktop\\2_NLP\\_Project_\\vector-database-ICD\\vector-database-ICD\\.conda\\Lib\\site-packages\\sklearn\\utils\\_set_output.py:319\u001b[39m, in \u001b[36m_wrap_method_output.<locals>.wrapped\u001b[39m\u001b[34m(self, X, *args, **kwargs)\u001b[39m\n\u001b[32m    317\u001b[39m \u001b[38;5;129m@wraps\u001b[39m(f)\n\u001b[32m    318\u001b[39m \u001b[38;5;28;01mdef\u001b[39;00m\u001b[38;5;250m \u001b[39m\u001b[34mwrapped\u001b[39m(\u001b[38;5;28mself\u001b[39m, X, *args, **kwargs):\n\u001b[32m--> \u001b[39m\u001b[32m319\u001b[39m     data_to_wrap = \u001b[43mf\u001b[49m\u001b[43m(\u001b[49m\u001b[38;5;28;43mself\u001b[39;49m\u001b[43m,\u001b[49m\u001b[43m \u001b[49m\u001b[43mX\u001b[49m\u001b[43m,\u001b[49m\u001b[43m \u001b[49m\u001b[43m*\u001b[49m\u001b[43margs\u001b[49m\u001b[43m,\u001b[49m\u001b[43m \u001b[49m\u001b[43m*\u001b[49m\u001b[43m*\u001b[49m\u001b[43mkwargs\u001b[49m\u001b[43m)\u001b[49m\n\u001b[32m    320\u001b[39m     \u001b[38;5;28;01mif\u001b[39;00m \u001b[38;5;28misinstance\u001b[39m(data_to_wrap, \u001b[38;5;28mtuple\u001b[39m):\n\u001b[32m    321\u001b[39m         \u001b[38;5;66;03m# only wrap the first output for cross decomposition\u001b[39;00m\n\u001b[32m    322\u001b[39m         return_tuple = (\n\u001b[32m    323\u001b[39m             _wrap_data_with_container(method, data_to_wrap[\u001b[32m0\u001b[39m], X, \u001b[38;5;28mself\u001b[39m),\n\u001b[32m    324\u001b[39m             *data_to_wrap[\u001b[32m1\u001b[39m:],\n\u001b[32m    325\u001b[39m         )\n",
      "\u001b[36mFile \u001b[39m\u001b[32md:\\Desktop\\2_NLP\\_Project_\\vector-database-ICD\\vector-database-ICD\\.conda\\Lib\\site-packages\\sklearn\\base.py:1389\u001b[39m, in \u001b[36m_fit_context.<locals>.decorator.<locals>.wrapper\u001b[39m\u001b[34m(estimator, *args, **kwargs)\u001b[39m\n\u001b[32m   1382\u001b[39m     estimator._validate_params()\n\u001b[32m   1384\u001b[39m \u001b[38;5;28;01mwith\u001b[39;00m config_context(\n\u001b[32m   1385\u001b[39m     skip_parameter_validation=(\n\u001b[32m   1386\u001b[39m         prefer_skip_nested_validation \u001b[38;5;129;01mor\u001b[39;00m global_skip_validation\n\u001b[32m   1387\u001b[39m     )\n\u001b[32m   1388\u001b[39m ):\n\u001b[32m-> \u001b[39m\u001b[32m1389\u001b[39m     \u001b[38;5;28;01mreturn\u001b[39;00m \u001b[43mfit_method\u001b[49m\u001b[43m(\u001b[49m\u001b[43mestimator\u001b[49m\u001b[43m,\u001b[49m\u001b[43m \u001b[49m\u001b[43m*\u001b[49m\u001b[43margs\u001b[49m\u001b[43m,\u001b[49m\u001b[43m \u001b[49m\u001b[43m*\u001b[49m\u001b[43m*\u001b[49m\u001b[43mkwargs\u001b[49m\u001b[43m)\u001b[49m\n",
      "\u001b[36mFile \u001b[39m\u001b[32md:\\Desktop\\2_NLP\\_Project_\\vector-database-ICD\\vector-database-ICD\\.conda\\Lib\\site-packages\\sklearn\\decomposition\\_pca.py:468\u001b[39m, in \u001b[36mPCA.fit_transform\u001b[39m\u001b[34m(self, X, y)\u001b[39m\n\u001b[32m    445\u001b[39m \u001b[38;5;129m@_fit_context\u001b[39m(prefer_skip_nested_validation=\u001b[38;5;28;01mTrue\u001b[39;00m)\n\u001b[32m    446\u001b[39m \u001b[38;5;28;01mdef\u001b[39;00m\u001b[38;5;250m \u001b[39m\u001b[34mfit_transform\u001b[39m(\u001b[38;5;28mself\u001b[39m, X, y=\u001b[38;5;28;01mNone\u001b[39;00m):\n\u001b[32m    447\u001b[39m \u001b[38;5;250m    \u001b[39m\u001b[33;03m\"\"\"Fit the model with X and apply the dimensionality reduction on X.\u001b[39;00m\n\u001b[32m    448\u001b[39m \n\u001b[32m    449\u001b[39m \u001b[33;03m    Parameters\u001b[39;00m\n\u001b[32m   (...)\u001b[39m\u001b[32m    466\u001b[39m \u001b[33;03m    C-ordered array, use 'np.ascontiguousarray'.\u001b[39;00m\n\u001b[32m    467\u001b[39m \u001b[33;03m    \"\"\"\u001b[39;00m\n\u001b[32m--> \u001b[39m\u001b[32m468\u001b[39m     U, S, _, X, x_is_centered, xp = \u001b[38;5;28;43mself\u001b[39;49m\u001b[43m.\u001b[49m\u001b[43m_fit\u001b[49m\u001b[43m(\u001b[49m\u001b[43mX\u001b[49m\u001b[43m)\u001b[49m\n\u001b[32m    469\u001b[39m     \u001b[38;5;28;01mif\u001b[39;00m U \u001b[38;5;129;01mis\u001b[39;00m \u001b[38;5;129;01mnot\u001b[39;00m \u001b[38;5;28;01mNone\u001b[39;00m:\n\u001b[32m    470\u001b[39m         U = U[:, : \u001b[38;5;28mself\u001b[39m.n_components_]\n",
      "\u001b[36mFile \u001b[39m\u001b[32md:\\Desktop\\2_NLP\\_Project_\\vector-database-ICD\\vector-database-ICD\\.conda\\Lib\\site-packages\\sklearn\\decomposition\\_pca.py:542\u001b[39m, in \u001b[36mPCA._fit\u001b[39m\u001b[34m(self, X)\u001b[39m\n\u001b[32m    540\u001b[39m \u001b[38;5;66;03m# Call different fits for either full or truncated SVD\u001b[39;00m\n\u001b[32m    541\u001b[39m \u001b[38;5;28;01mif\u001b[39;00m \u001b[38;5;28mself\u001b[39m._fit_svd_solver \u001b[38;5;129;01min\u001b[39;00m (\u001b[33m\"\u001b[39m\u001b[33mfull\u001b[39m\u001b[33m\"\u001b[39m, \u001b[33m\"\u001b[39m\u001b[33mcovariance_eigh\u001b[39m\u001b[33m\"\u001b[39m):\n\u001b[32m--> \u001b[39m\u001b[32m542\u001b[39m     \u001b[38;5;28;01mreturn\u001b[39;00m \u001b[38;5;28;43mself\u001b[39;49m\u001b[43m.\u001b[49m\u001b[43m_fit_full\u001b[49m\u001b[43m(\u001b[49m\u001b[43mX\u001b[49m\u001b[43m,\u001b[49m\u001b[43m \u001b[49m\u001b[43mn_components\u001b[49m\u001b[43m,\u001b[49m\u001b[43m \u001b[49m\u001b[43mxp\u001b[49m\u001b[43m,\u001b[49m\u001b[43m \u001b[49m\u001b[43mis_array_api_compliant\u001b[49m\u001b[43m)\u001b[49m\n\u001b[32m    543\u001b[39m \u001b[38;5;28;01melif\u001b[39;00m \u001b[38;5;28mself\u001b[39m._fit_svd_solver \u001b[38;5;129;01min\u001b[39;00m [\u001b[33m\"\u001b[39m\u001b[33marpack\u001b[39m\u001b[33m\"\u001b[39m, \u001b[33m\"\u001b[39m\u001b[33mrandomized\u001b[39m\u001b[33m\"\u001b[39m]:\n\u001b[32m    544\u001b[39m     \u001b[38;5;28;01mreturn\u001b[39;00m \u001b[38;5;28mself\u001b[39m._fit_truncated(X, n_components, xp)\n",
      "\u001b[36mFile \u001b[39m\u001b[32md:\\Desktop\\2_NLP\\_Project_\\vector-database-ICD\\vector-database-ICD\\.conda\\Lib\\site-packages\\sklearn\\decomposition\\_pca.py:556\u001b[39m, in \u001b[36mPCA._fit_full\u001b[39m\u001b[34m(self, X, n_components, xp, is_array_api_compliant)\u001b[39m\n\u001b[32m    552\u001b[39m         \u001b[38;5;28;01mraise\u001b[39;00m \u001b[38;5;167;01mValueError\u001b[39;00m(\n\u001b[32m    553\u001b[39m             \u001b[33m\"\u001b[39m\u001b[33mn_components=\u001b[39m\u001b[33m'\u001b[39m\u001b[33mmle\u001b[39m\u001b[33m'\u001b[39m\u001b[33m is only supported if n_samples >= n_features\u001b[39m\u001b[33m\"\u001b[39m\n\u001b[32m    554\u001b[39m         )\n\u001b[32m    555\u001b[39m \u001b[38;5;28;01melif\u001b[39;00m \u001b[38;5;129;01mnot\u001b[39;00m \u001b[32m0\u001b[39m <= n_components <= \u001b[38;5;28mmin\u001b[39m(n_samples, n_features):\n\u001b[32m--> \u001b[39m\u001b[32m556\u001b[39m     \u001b[38;5;28;01mraise\u001b[39;00m \u001b[38;5;167;01mValueError\u001b[39;00m(\n\u001b[32m    557\u001b[39m         \u001b[33mf\u001b[39m\u001b[33m\"\u001b[39m\u001b[33mn_components=\u001b[39m\u001b[38;5;132;01m{\u001b[39;00mn_components\u001b[38;5;132;01m}\u001b[39;00m\u001b[33m must be between 0 and \u001b[39m\u001b[33m\"\u001b[39m\n\u001b[32m    558\u001b[39m         \u001b[33mf\u001b[39m\u001b[33m\"\u001b[39m\u001b[33mmin(n_samples, n_features)=\u001b[39m\u001b[38;5;132;01m{\u001b[39;00m\u001b[38;5;28mmin\u001b[39m(n_samples,\u001b[38;5;250m \u001b[39mn_features)\u001b[38;5;132;01m}\u001b[39;00m\u001b[33m with \u001b[39m\u001b[33m\"\u001b[39m\n\u001b[32m    559\u001b[39m         \u001b[33mf\u001b[39m\u001b[33m\"\u001b[39m\u001b[33msvd_solver=\u001b[39m\u001b[38;5;132;01m{\u001b[39;00m\u001b[38;5;28mself\u001b[39m._fit_svd_solver\u001b[38;5;132;01m!r}\u001b[39;00m\u001b[33m\"\u001b[39m\n\u001b[32m    560\u001b[39m     )\n\u001b[32m    562\u001b[39m \u001b[38;5;28mself\u001b[39m.mean_ = xp.mean(X, axis=\u001b[32m0\u001b[39m)\n\u001b[32m    563\u001b[39m \u001b[38;5;66;03m# When X is a scipy sparse matrix, self.mean_ is a numpy matrix, so we need\u001b[39;00m\n\u001b[32m    564\u001b[39m \u001b[38;5;66;03m# to transform it to a 1D array. Note that this is not the case when X\u001b[39;00m\n\u001b[32m    565\u001b[39m \u001b[38;5;66;03m# is a scipy sparse array.\u001b[39;00m\n\u001b[32m    566\u001b[39m \u001b[38;5;66;03m# TODO: remove the following two lines when scikit-learn only depends\u001b[39;00m\n\u001b[32m    567\u001b[39m \u001b[38;5;66;03m# on scipy versions that no longer support scipy.sparse matrices.\u001b[39;00m\n",
      "\u001b[31mValueError\u001b[39m: n_components=300 must be between 0 and min(n_samples, n_features)=59 with svd_solver='full'"
     ]
    }
   ],
   "source": [
    "# PCA to 300D\n",
    "print(\"⚙️ Reducing to 300 dimensions using PCA...\")\n",
    "pca = PCA(n_components=300)\n",
    "reduced_embeddings = pca.fit_transform(embeddings)"
   ]
  },
  {
   "cell_type": "code",
   "execution_count": 52,
   "id": "708296c4",
   "metadata": {},
   "outputs": [],
   "source": [
    "# Prepare output\n",
    "final_output = pd.DataFrame({\n",
    "    'ICD11_Code': filtered_icd11_df['code'],\n",
    "    'Vector': [list(vec) for vec in reduced_embeddings]\n",
    "})"
   ]
  },
  {
   "cell_type": "code",
   "execution_count": 60,
   "id": "34b81239",
   "metadata": {},
   "outputs": [
    {
     "data": {
      "text/html": [
       "<div>\n",
       "<style scoped>\n",
       "    .dataframe tbody tr th:only-of-type {\n",
       "        vertical-align: middle;\n",
       "    }\n",
       "\n",
       "    .dataframe tbody tr th {\n",
       "        vertical-align: top;\n",
       "    }\n",
       "\n",
       "    .dataframe thead th {\n",
       "        text-align: right;\n",
       "    }\n",
       "</style>\n",
       "<table border=\"1\" class=\"dataframe\">\n",
       "  <thead>\n",
       "    <tr style=\"text-align: right;\">\n",
       "      <th></th>\n",
       "      <th>ICD11_Code</th>\n",
       "      <th>Vector</th>\n",
       "    </tr>\n",
       "  </thead>\n",
       "  <tbody>\n",
       "    <tr>\n",
       "      <th>17</th>\n",
       "      <td>1B70.1</td>\n",
       "      <td>[2.083128, -0.72213846, -3.3888264, 0.36609048...</td>\n",
       "    </tr>\n",
       "    <tr>\n",
       "      <th>75</th>\n",
       "      <td>1G40</td>\n",
       "      <td>[-0.52065057, -1.2162358, 2.3709693, 2.9747782...</td>\n",
       "    </tr>\n",
       "    <tr>\n",
       "      <th>135</th>\n",
       "      <td>1E30</td>\n",
       "      <td>[-2.756355, 0.7908362, -0.3574265, 0.8769771, ...</td>\n",
       "    </tr>\n",
       "    <tr>\n",
       "      <th>238</th>\n",
       "      <td>1F03.0</td>\n",
       "      <td>[1.7091948, -2.1360068, 0.44202286, -0.1934314...</td>\n",
       "    </tr>\n",
       "    <tr>\n",
       "      <th>276</th>\n",
       "      <td>1C41</td>\n",
       "      <td>[-3.9060686, 0.028361302, 1.2480628, 1.4057598...</td>\n",
       "    </tr>\n",
       "  </tbody>\n",
       "</table>\n",
       "</div>"
      ],
      "text/plain": [
       "    ICD11_Code                                             Vector\n",
       "17      1B70.1  [2.083128, -0.72213846, -3.3888264, 0.36609048...\n",
       "75        1G40  [-0.52065057, -1.2162358, 2.3709693, 2.9747782...\n",
       "135       1E30  [-2.756355, 0.7908362, -0.3574265, 0.8769771, ...\n",
       "238     1F03.0  [1.7091948, -2.1360068, 0.44202286, -0.1934314...\n",
       "276       1C41  [-3.9060686, 0.028361302, 1.2480628, 1.4057598..."
      ]
     },
     "execution_count": 60,
     "metadata": {},
     "output_type": "execute_result"
    }
   ],
   "source": [
    "final_output.head()"
   ]
  },
  {
   "cell_type": "code",
   "execution_count": 53,
   "id": "6dfffdf7",
   "metadata": {},
   "outputs": [
    {
     "name": "stdout",
     "output_type": "stream",
     "text": [
      "✅ File saved: bio_clinical_bert_300d_sampled.csv\n"
     ]
    }
   ],
   "source": [
    "# Save output\n",
    "final_output.to_csv(\"bio_clinical_bert_300d_sampled.csv\", index=False)\n",
    "print(\"✅ File saved: bio_clinical_bert_300d_sampled.csv\")"
   ]
  },
  {
   "cell_type": "markdown",
   "id": "2d8fa756",
   "metadata": {},
   "source": [
    "# 7. Correlation Evaluation"
   ]
  },
  {
   "cell_type": "code",
   "execution_count": 54,
   "id": "6634e07d",
   "metadata": {},
   "outputs": [],
   "source": [
    "# === Load Comorbidity Data with ICD-11 Mappings ===\n",
    "comorbidity_df = pd.read_csv(r\"D:\\Desktop\\2_NLP\\_Project_\\Gleb_stuff\\comorbidity_with_icd11.csv\")\n",
    "\n",
    "# Drop rows with missing ICD-11 codes\n",
    "comorbidity_df = comorbidity_df.dropna(subset=['ICD11_1', 'ICD11_2'])"
   ]
  },
  {
   "cell_type": "code",
   "execution_count": 55,
   "id": "43ec79e4",
   "metadata": {},
   "outputs": [],
   "source": [
    "# === Load Vector Data (Bio+ClinicalBERT 300D) ===\n",
    "vector_df = pd.read_csv(\"bio_clinical_bert_300d_sampled.csv\", usecols=[\"ICD11_Code\", \"Vector\"])"
   ]
  },
  {
   "cell_type": "code",
   "execution_count": 56,
   "id": "e1f3b1d8",
   "metadata": {},
   "outputs": [],
   "source": [
    "# --- Step 1: Parse the vector string to NumPy arrays ---\n",
    "def safe_parse_vector(v):\n",
    "    if isinstance(v, bytes):\n",
    "        v = v.decode('utf-8')\n",
    "    numbers = re.findall(r'-?\\d+(?:\\.\\d+)?(?:[eE][+-]?\\d+)?', str(v))\n",
    "    return np.array([float(n) for n in numbers], dtype=np.float32)\n",
    "\n",
    "vector_df['Vector'] = vector_df['Vector'].apply(safe_parse_vector)"
   ]
  },
  {
   "cell_type": "code",
   "execution_count": 57,
   "id": "60f630f9",
   "metadata": {},
   "outputs": [
    {
     "name": "stdout",
     "output_type": "stream",
     "text": [
      "<class 'pandas.core.frame.DataFrame'>\n",
      "Index: 800 entries, 0 to 801\n",
      "Data columns (total 5 columns):\n",
      " #   Column      Non-Null Count  Dtype  \n",
      "---  ------      --------------  -----  \n",
      " 0   ICD1        800 non-null    object \n",
      " 1   ICD2        800 non-null    object \n",
      " 2   Log2_Ratio  800 non-null    float64\n",
      " 3   ICD11_1     800 non-null    object \n",
      " 4   ICD11_2     800 non-null    object \n",
      "dtypes: float64(1), object(4)\n",
      "memory usage: 37.5+ KB\n"
     ]
    }
   ],
   "source": [
    "# --- Step 2: Build ICD11 -> Vector mapping ---\n",
    "vector_map = dict(zip(vector_df['ICD11_Code'], vector_df['Vector']))\n",
    "\n",
    "comorbidity_df.info()"
   ]
  },
  {
   "cell_type": "markdown",
   "id": "95c9e453",
   "metadata": {},
   "source": [
    "## Very important step of checking the overlap"
   ]
  },
  {
   "cell_type": "markdown",
   "id": "e5449ad1",
   "metadata": {},
   "source": [
    "Since we are embedding only a sample of code, we might very well run into problems if the embedding doesn't contain the icd score included in the evaluation"
   ]
  },
  {
   "cell_type": "code",
   "execution_count": 58,
   "id": "a3d345fe",
   "metadata": {},
   "outputs": [
    {
     "name": "stdout",
     "output_type": "stream",
     "text": [
      "✅ Overlapping ICD-11 codes: 59\n"
     ]
    }
   ],
   "source": [
    "set_icd11_comorb = set(comorbidity_df['ICD11_1'].dropna()) | set(comorbidity_df['ICD11_2'].dropna())\n",
    "set_icd11_vectors = set(vector_df['ICD11_Code'])\n",
    "\n",
    "overlap = set_icd11_comorb & set_icd11_vectors\n",
    "print(f\"✅ Overlapping ICD-11 codes: {len(overlap)}\")\n"
   ]
  },
  {
   "cell_type": "markdown",
   "id": "c490791c",
   "metadata": {},
   "source": [
    "## Cumputing the metric"
   ]
  },
  {
   "cell_type": "code",
   "execution_count": 59,
   "id": "0c6dae9f",
   "metadata": {},
   "outputs": [
    {
     "name": "stdout",
     "output_type": "stream",
     "text": [
      "✅ Pearson correlation between ICD-11 vector similarity and comorbidity score: 0.118\n"
     ]
    }
   ],
   "source": [
    "from sklearn.metrics.pairwise import cosine_similarity\n",
    "from scipy.stats import pearsonr\n",
    "\n",
    "# --- Step 3: Compute similarities & Pearson correlation ---\n",
    "def validate_icd11_vectors(vector_map, comorbidity_df):\n",
    "    valid_df = comorbidity_df[\n",
    "        comorbidity_df['ICD11_1'].isin(vector_map) &\n",
    "        comorbidity_df['ICD11_2'].isin(vector_map)\n",
    "    ].copy()\n",
    "\n",
    "    similarities = [\n",
    "        cosine_similarity([vector_map[row['ICD11_1']]], [vector_map[row['ICD11_2']]])[0][0]\n",
    "        for _, row in valid_df.iterrows()\n",
    "    ]\n",
    "\n",
    "    valid_df['Vector_Similarity'] = similarities\n",
    "    pearson_corr, _ = pearsonr(valid_df['Log2_Ratio'].astype(float), valid_df['Vector_Similarity'])\n",
    "\n",
    "    print(f\"✅ Pearson correlation between ICD-11 vector similarity and comorbidity score: {pearson_corr:.3f}\")\n",
    "    return valid_df, pearson_corr\n",
    "\n",
    "# --- Step 4: Run ---\n",
    "validated_df, correlation_score = validate_icd11_vectors(vector_map, comorbidity_df)"
   ]
  }
 ],
 "metadata": {
  "kernelspec": {
   "display_name": "Python 3",
   "language": "python",
   "name": "python3"
  },
  "language_info": {
   "codemirror_mode": {
    "name": "ipython",
    "version": 3
   },
   "file_extension": ".py",
   "mimetype": "text/x-python",
   "name": "python",
   "nbconvert_exporter": "python",
   "pygments_lexer": "ipython3",
   "version": "3.11.11"
  }
 },
 "nbformat": 4,
 "nbformat_minor": 5
}
