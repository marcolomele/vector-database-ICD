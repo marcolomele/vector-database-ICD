{
 "cells": [
  {
   "cell_type": "markdown",
   "metadata": {},
   "source": [
    "# Import and Load"
   ]
  },
  {
   "cell_type": "code",
   "execution_count": 96,
   "metadata": {},
   "outputs": [],
   "source": [
    "import pandas as pd\n",
    "import torch\n",
    "from torch_geometric.data import Data"
   ]
  },
  {
   "cell_type": "code",
   "execution_count": 97,
   "metadata": {},
   "outputs": [],
   "source": [
    "df = pd.read_csv('/Users/marco/Documents/python_projects/vector-database-ICD/Data/icd11-25_data_clean_with_generated_descriptions.csv')"
   ]
  },
  {
   "cell_type": "code",
   "execution_count": 98,
   "metadata": {},
   "outputs": [
    {
     "data": {
      "text/plain": [
       "Index(['id', 'code', 'title', 'browser_url', 'class_kind', 'definition',\n",
       "       'parent', 'inclusions', 'foundation_children',\n",
       "       'foundation_child_references', 'index_terms', 'related_entities',\n",
       "       'full_text', 'children', 'postcoordination_scales',\n",
       "       'index_term_references', 'exclusions', 'exclusion_references',\n",
       "       'fully_specified_name', 'generated_description', 'chapter'],\n",
       "      dtype='object')"
      ]
     },
     "execution_count": 98,
     "metadata": {},
     "output_type": "execute_result"
    }
   ],
   "source": [
    "df.columns"
   ]
  },
  {
   "cell_type": "code",
   "execution_count": 104,
   "metadata": {},
   "outputs": [],
   "source": [
    "df = df[['id', 'code', 'chapter', 'title',  'parent','children', 'generated_description']]"
   ]
  },
  {
   "cell_type": "markdown",
   "metadata": {},
   "source": [
    "# Graph Creation"
   ]
  },
  {
   "cell_type": "markdown",
   "metadata": {},
   "source": [
    "## Simple 1-chapter graph"
   ]
  },
  {
   "cell_type": "code",
   "execution_count": 27,
   "metadata": {},
   "outputs": [],
   "source": [
    "def create_graph_from_chapter(df, chapter_num=1, directed=True):\n",
    "    # Filter for specific chapter\n",
    "    chapter_df = df[df['chapter'] == chapter_num].copy()\n",
    "    \n",
    "    # Create node mapping (id -> index)\n",
    "    unique_ids = chapter_df['id'].unique()\n",
    "    id_to_idx = {id_: idx for idx, id_ in enumerate(unique_ids)}\n",
    "    \n",
    "    # Create edge index\n",
    "    edge_list = []\n",
    "    \n",
    "    # Add parent -> child edges\n",
    "    for _, row in chapter_df.iterrows():\n",
    "        if pd.notna(row['parent']):\n",
    "            # Add parent -> child edge\n",
    "            if row['parent'] in id_to_idx and row['id'] in id_to_idx:\n",
    "                edge_list.append([\n",
    "                    id_to_idx[row['parent']], \n",
    "                    id_to_idx[row['id']]\n",
    "                ])\n",
    "                # Add reverse edge for undirected graph\n",
    "                if not directed:\n",
    "                    edge_list.append([\n",
    "                        id_to_idx[row['id']],\n",
    "                        id_to_idx[row['parent']]\n",
    "                    ])\n",
    "    \n",
    "        # Add child -> parent edges from children column\n",
    "        if pd.notna(row['children']):\n",
    "            children = str(row['children']).split(';')\n",
    "            for child in children:\n",
    "                if child and child.strip() in id_to_idx:\n",
    "                    edge_list.append([\n",
    "                        id_to_idx[row['id']], \n",
    "                        id_to_idx[child.strip()]\n",
    "                    ])\n",
    "                    # Add reverse edge for undirected graph\n",
    "                    if not directed:\n",
    "                        edge_list.append([\n",
    "                            id_to_idx[child.strip()],\n",
    "                            id_to_idx[row['id']]\n",
    "                        ])\n",
    "    \n",
    "    # Convert to PyG format\n",
    "    edge_index = torch.tensor(edge_list, dtype=torch.long).t().contiguous()\n",
    "    \n",
    "    # Create node features (placeholder - you can modify based on your needs)\n",
    "    # Here we'll just use a simple one-hot encoding of the position\n",
    "    num_nodes = len(unique_ids)\n",
    "    node_features = torch.eye(num_nodes)  # placeholder features\n",
    "    \n",
    "    # Create PyG Data object\n",
    "    graph = Data(\n",
    "        x=node_features,\n",
    "        edge_index=edge_index\n",
    "    )\n",
    "    \n",
    "    return graph, id_to_idx"
   ]
  },
  {
   "cell_type": "code",
   "execution_count": 28,
   "metadata": {},
   "outputs": [],
   "source": [
    "simple_graph, simple_mapping = create_graph_from_chapter(df, chapter_num=1)"
   ]
  },
  {
   "cell_type": "markdown",
   "metadata": {},
   "source": [
    "## Full graph"
   ]
  },
  {
   "cell_type": "code",
   "execution_count": 59,
   "metadata": {},
   "outputs": [],
   "source": [
    "def create_full_icd_graph(df, directed=True):\n",
    "    # Create node mapping (id -> index) for all nodes\n",
    "    unique_ids = df['id'].unique()\n",
    "    id_to_idx = {id_: idx for idx, id_ in enumerate(unique_ids)}\n",
    "    \n",
    "    # Create edge index\n",
    "    edge_list = []\n",
    "    \n",
    "    # Track chapter information for each node\n",
    "    node_chapters = torch.zeros(len(unique_ids), dtype=torch.long)\n",
    "    \n",
    "    # Process all rows to create edges\n",
    "    for _, row in df.iterrows():\n",
    "        # Store chapter information\n",
    "        node_idx = id_to_idx[row['id']]\n",
    "        node_chapters[node_idx] = row['chapter']\n",
    "        \n",
    "        # Add parent -> child edge\n",
    "        if pd.notna(row['parent']):\n",
    "            if row['parent'] in id_to_idx:\n",
    "                edge_list.append([\n",
    "                    id_to_idx[row['parent']], \n",
    "                    id_to_idx[row['id']]\n",
    "                ])\n",
    "                # Add reverse edge for undirected graph\n",
    "                if not directed:\n",
    "                    edge_list.append([\n",
    "                        id_to_idx[row['id']],\n",
    "                        id_to_idx[row['parent']]\n",
    "                    ])\n",
    "    \n",
    "        # Add edges from children column\n",
    "        if pd.notna(row['children']):\n",
    "            children = str(row['children']).split(';')\n",
    "            for child in children:\n",
    "                if child and child.strip() in id_to_idx:\n",
    "                    edge_list.append([\n",
    "                        id_to_idx[row['id']], \n",
    "                        id_to_idx[child.strip()]\n",
    "                    ])\n",
    "                    # Add reverse edge for undirected graph\n",
    "                    if not directed:\n",
    "                        edge_list.append([\n",
    "                            id_to_idx[child.strip()],\n",
    "                            id_to_idx[row['id']]\n",
    "                        ])\n",
    "    \n",
    "    # Convert to PyG format\n",
    "    edge_index = torch.tensor(edge_list, dtype=torch.long).t().contiguous()\n",
    "\n",
    "    sorted_indices = edge_index[0].argsort()\n",
    "    edge_index = edge_index[:, sorted_indices]\n",
    "    \n",
    "    node_features = torch.eye(len(unique_ids))\n",
    "    \n",
    "    graph = Data(\n",
    "        x=node_features,\n",
    "        edge_index=edge_index,\n",
    "        chapter=node_chapters,  \n",
    "    )\n",
    "    \n",
    "    return graph, id_to_idx\n",
    "\n",
    "def analyze_graph(graph, id_to_idx):\n",
    "    \"\"\"Helper function to analyze the created graph\"\"\"\n",
    "    # Reverse mapping for analysis\n",
    "    idx_to_id = {v: k for k, v in id_to_idx.items()}\n",
    "    \n",
    "    # Basic statistics\n",
    "    print(f\"Number of nodes: {graph.num_nodes}\")\n",
    "    print(f\"Number of edges: {graph.num_edges}\")\n",
    "    \n",
    "    # Analyze inter-chapter connections\n",
    "    edge_chapters = []\n",
    "    for edge in graph.edge_index.t():\n",
    "        source_chapter = graph.chapter[edge[0]].item()\n",
    "        target_chapter = graph.chapter[edge[1]].item()\n",
    "        if source_chapter != target_chapter:\n",
    "            edge_chapters.append((source_chapter, target_chapter))\n",
    "    \n",
    "    print(f\"\\nNumber of inter-chapter connections: {len(edge_chapters)}\")\n",
    "    if edge_chapters:\n",
    "        print(\"Inter-chapter connections (chapter pairs):\")\n",
    "        for source_ch, target_ch in set(edge_chapters):\n",
    "            print(f\"Chapter {source_ch} → Chapter {target_ch}\")\n",
    "    \n",
    "    return {\n",
    "        'num_nodes': graph.num_nodes,\n",
    "        'num_edges': graph.num_edges,\n",
    "        'inter_chapter_connections': edge_chapters\n",
    "    }"
   ]
  },
  {
   "cell_type": "code",
   "execution_count": 69,
   "metadata": {},
   "outputs": [],
   "source": [
    "graph, id_to_edx = create_full_icd_graph(df)\n",
    "edx_to_id = {v: k for k, v in id_to_edx.items()}"
   ]
  },
  {
   "cell_type": "code",
   "execution_count": 77,
   "metadata": {},
   "outputs": [
    {
     "data": {
      "text/html": [
       "<div>\n",
       "<style scoped>\n",
       "    .dataframe tbody tr th:only-of-type {\n",
       "        vertical-align: middle;\n",
       "    }\n",
       "\n",
       "    .dataframe tbody tr th {\n",
       "        vertical-align: top;\n",
       "    }\n",
       "\n",
       "    .dataframe thead th {\n",
       "        text-align: right;\n",
       "    }\n",
       "</style>\n",
       "<table border=\"1\" class=\"dataframe\">\n",
       "  <thead>\n",
       "    <tr style=\"text-align: right;\">\n",
       "      <th></th>\n",
       "      <th>id</th>\n",
       "      <th>code</th>\n",
       "      <th>chapter</th>\n",
       "      <th>title</th>\n",
       "      <th>parent</th>\n",
       "      <th>children</th>\n",
       "      <th>generated_description</th>\n",
       "    </tr>\n",
       "  </thead>\n",
       "  <tbody>\n",
       "    <tr>\n",
       "      <th>0</th>\n",
       "      <td>1937339080</td>\n",
       "      <td>1C22</td>\n",
       "      <td>1</td>\n",
       "      <td>Infections due to Chlamydia psittaci</td>\n",
       "      <td>1127435854</td>\n",
       "      <td>NaN</td>\n",
       "      <td>Infections due to Chlamydia psittaci, also kno...</td>\n",
       "    </tr>\n",
       "    <tr>\n",
       "      <th>3</th>\n",
       "      <td>328097188</td>\n",
       "      <td>1A36.12</td>\n",
       "      <td>1</td>\n",
       "      <td>Cutaneous amoebiasis</td>\n",
       "      <td>1777228366</td>\n",
       "      <td>NaN</td>\n",
       "      <td>Cutaneous amoebiasis is a parasitic infection ...</td>\n",
       "    </tr>\n",
       "    <tr>\n",
       "      <th>5</th>\n",
       "      <td>1056849595</td>\n",
       "      <td>1B13.0</td>\n",
       "      <td>1</td>\n",
       "      <td>Acute miliary tuberculosis of a single specifi...</td>\n",
       "      <td>861638547</td>\n",
       "      <td>NaN</td>\n",
       "      <td>Acute miliary tuberculosis of a single specifi...</td>\n",
       "    </tr>\n",
       "    <tr>\n",
       "      <th>6</th>\n",
       "      <td>181304776</td>\n",
       "      <td>1D01.2</td>\n",
       "      <td>1</td>\n",
       "      <td>Parasitic or protozoal meningitis</td>\n",
       "      <td>121670633</td>\n",
       "      <td>NaN</td>\n",
       "      <td>Parasitic or protozoal meningitis is a rare an...</td>\n",
       "    </tr>\n",
       "    <tr>\n",
       "      <th>8</th>\n",
       "      <td>813571137</td>\n",
       "      <td>1F66.4</td>\n",
       "      <td>1</td>\n",
       "      <td>Subcutaneous dirofilariasis</td>\n",
       "      <td>1975325075</td>\n",
       "      <td>NaN</td>\n",
       "      <td>Subcutaneous dirofilariasis is a parasitic inf...</td>\n",
       "    </tr>\n",
       "    <tr>\n",
       "      <th>9</th>\n",
       "      <td>51885381</td>\n",
       "      <td>1D85.1</td>\n",
       "      <td>1</td>\n",
       "      <td>Acute viral carditis</td>\n",
       "      <td>874478433</td>\n",
       "      <td>NaN</td>\n",
       "      <td>Acute viral carditis is an inflammation of the...</td>\n",
       "    </tr>\n",
       "    <tr>\n",
       "      <th>10</th>\n",
       "      <td>1356928923</td>\n",
       "      <td>1D42</td>\n",
       "      <td>1</td>\n",
       "      <td>O'nyong-nyong fever</td>\n",
       "      <td>921595235</td>\n",
       "      <td>NaN</td>\n",
       "      <td>O'nyong-nyong fever is a viral illness caused ...</td>\n",
       "    </tr>\n",
       "    <tr>\n",
       "      <th>12</th>\n",
       "      <td>1342682193</td>\n",
       "      <td>1G01.3</td>\n",
       "      <td>1</td>\n",
       "      <td>Cutaneous myiasis</td>\n",
       "      <td>1367149207</td>\n",
       "      <td>NaN</td>\n",
       "      <td>Cutaneous myiasis is a parasitic skin infestat...</td>\n",
       "    </tr>\n",
       "    <tr>\n",
       "      <th>13</th>\n",
       "      <td>1761012301</td>\n",
       "      <td>1D04.3</td>\n",
       "      <td>1</td>\n",
       "      <td>Intraspinal subdural granuloma</td>\n",
       "      <td>2108355318</td>\n",
       "      <td>NaN</td>\n",
       "      <td>Intraspinal subdural granuloma is a rare condi...</td>\n",
       "    </tr>\n",
       "    <tr>\n",
       "      <th>15</th>\n",
       "      <td>1373005257</td>\n",
       "      <td>1F66.2</td>\n",
       "      <td>1</td>\n",
       "      <td>Filariasis due to Brugia species</td>\n",
       "      <td>1975325075</td>\n",
       "      <td>NaN</td>\n",
       "      <td>Filariasis due to Brugia species is a parasiti...</td>\n",
       "    </tr>\n",
       "  </tbody>\n",
       "</table>\n",
       "</div>"
      ],
      "text/plain": [
       "            id     code  chapter  \\\n",
       "0   1937339080     1C22        1   \n",
       "3    328097188  1A36.12        1   \n",
       "5   1056849595   1B13.0        1   \n",
       "6    181304776   1D01.2        1   \n",
       "8    813571137   1F66.4        1   \n",
       "9     51885381   1D85.1        1   \n",
       "10  1356928923     1D42        1   \n",
       "12  1342682193   1G01.3        1   \n",
       "13  1761012301   1D04.3        1   \n",
       "15  1373005257   1F66.2        1   \n",
       "\n",
       "                                                title      parent children  \\\n",
       "0                Infections due to Chlamydia psittaci  1127435854      NaN   \n",
       "3                                Cutaneous amoebiasis  1777228366      NaN   \n",
       "5   Acute miliary tuberculosis of a single specifi...   861638547      NaN   \n",
       "6                   Parasitic or protozoal meningitis   121670633      NaN   \n",
       "8                         Subcutaneous dirofilariasis  1975325075      NaN   \n",
       "9                                Acute viral carditis   874478433      NaN   \n",
       "10                                O'nyong-nyong fever   921595235      NaN   \n",
       "12                                  Cutaneous myiasis  1367149207      NaN   \n",
       "13                     Intraspinal subdural granuloma  2108355318      NaN   \n",
       "15                   Filariasis due to Brugia species  1975325075      NaN   \n",
       "\n",
       "                                generated_description  \n",
       "0   Infections due to Chlamydia psittaci, also kno...  \n",
       "3   Cutaneous amoebiasis is a parasitic infection ...  \n",
       "5   Acute miliary tuberculosis of a single specifi...  \n",
       "6   Parasitic or protozoal meningitis is a rare an...  \n",
       "8   Subcutaneous dirofilariasis is a parasitic inf...  \n",
       "9   Acute viral carditis is an inflammation of the...  \n",
       "10  O'nyong-nyong fever is a viral illness caused ...  \n",
       "12  Cutaneous myiasis is a parasitic skin infestat...  \n",
       "13  Intraspinal subdural granuloma is a rare condi...  \n",
       "15  Filariasis due to Brugia species is a parasiti...  "
      ]
     },
     "execution_count": 77,
     "metadata": {},
     "output_type": "execute_result"
    }
   ],
   "source": [
    "df[df['children'].isna()].head(10)"
   ]
  },
  {
   "cell_type": "code",
   "execution_count": 79,
   "metadata": {},
   "outputs": [
    {
     "name": "stdout",
     "output_type": "stream",
     "text": [
      "Connection 0-->8 exists: False\n"
     ]
    }
   ],
   "source": [
    "def check_connection(edge_index, source, target):\n",
    "    \"\"\"Check if there is a direct edge from source to target node in the graph\"\"\"\n",
    "    # Convert edge_index to list of tuples for easier checking\n",
    "    edges = list(zip(edge_index[0].tolist(), edge_index[1].tolist()))\n",
    "    return (source, target) in edges\n",
    "\n",
    "out = id_to_edx[1937339080]\n",
    "inc = id_to_edx[813571137]\n",
    "\n",
    "# Check if connection exists\n",
    "connection_exists = check_connection(graph.edge_index, out, inc)\n",
    "print(f\"Connection {out}-->{inc} exists: {connection_exists}\")"
   ]
  },
  {
   "cell_type": "code",
   "execution_count": 85,
   "metadata": {},
   "outputs": [
    {
     "data": {
      "text/plain": [
       "Data(x=[13960, 13960], edge_index=[2, 13934], chapter=[13960])"
      ]
     },
     "execution_count": 85,
     "metadata": {},
     "output_type": "execute_result"
    }
   ],
   "source": [
    "graph"
   ]
  },
  {
   "cell_type": "markdown",
   "metadata": {},
   "source": [
    "# Node Embeddings"
   ]
  },
  {
   "cell_type": "code",
   "execution_count": 80,
   "metadata": {},
   "outputs": [],
   "source": [
    "embeddings_df = pd.read_csv('icd11_gatortron_vectors_no_coma.csv')"
   ]
  },
  {
   "cell_type": "code",
   "execution_count": 83,
   "metadata": {},
   "outputs": [
    {
     "data": {
      "text/plain": [
       "(13062, 2)"
      ]
     },
     "execution_count": 83,
     "metadata": {},
     "output_type": "execute_result"
    }
   ],
   "source": [
    "embeddings_df.shape"
   ]
  },
  {
   "cell_type": "markdown",
   "metadata": {},
   "source": [
    "# Self-supervised learning"
   ]
  },
  {
   "cell_type": "markdown",
   "metadata": {},
   "source": [
    "\n",
    "While link prediction is a valid starting point, for your goal of clustering similar diseases based on augmented text embeddings within the ICD hierarchy, other graph learning tasks might be more directly aligned and potentially more effective:\n",
    "\n",
    "1.  **Contrastive Learning (e.g., GRACE, GraphCL, or custom variants):**\n",
    "    *   **How it works:** These methods learn node representations by maximizing the agreement between different \"views\" of the same node (or its local neighborhood) and minimizing agreement with other nodes. Views can be created by augmenting the graph (e.g., dropping edges/nodes, masking features) or by sampling positive/negative pairs based on structural relationships.\n",
    "    *   **Why it might be better for your context:**\n",
    "        *   **Flexible Definition of Similarity:** You can define \"positive pairs\" (nodes that should have similar embeddings) more broadly than just directly linked nodes. For example:\n",
    "            *   Nodes sharing the same parent (siblings).\n",
    "            *   Nodes within a certain distance in the hierarchy (e.g., sharing a common grandparent).\n",
    "            *   Nodes belonging to the same sub-category.\n",
    "        *   **Robust Representations:** By learning to be invariant to certain perturbations or by contrasting against diverse negative samples, the GNN can learn more robust and generalizable features that capture deeper structural similarity.\n",
    "        *   **Directly Optimizes for Embedding Similarity:** The core objective is to make embeddings of \"similar\" nodes close and \"dissimilar\" nodes far apart, which is ideal for downstream clustering.\n",
    "\n",
    "2.  **Graph Autoencoders (GAE) / Variational Graph Autoencoders (VGAE) with a focus on embedding quality:**\n",
    "    *   **How it works:** A GNN encoder maps nodes to a low-dimensional latent space (your augmented embeddings). A decoder then tries to reconstruct the original graph structure (e.g., the adjacency matrix) from these latent embeddings.\n",
    "    *   **Why it might be better for your context:**\n",
    "        *   **Embedding-Centric:** The primary output is the learned node embeddings. While the reconstruction task is often link prediction, the model is trained to produce embeddings that *encode* the structural information necessary for this reconstruction.\n",
    "        *   **Implicit Clustering:** The latent space learned by GAEs/VGAEs often exhibits good clustering properties because nodes that are structurally similar (and thus co-occur in similar patterns of links) will be mapped to nearby points in the latent space.\n",
    "\n",
    "**Why these could be more suitable than simple link prediction alone:**\n",
    "\n",
    "*   **Beyond Direct Links:** Simple link prediction primarily focuses on 1-hop connectivity. For clustering \"similar\" diseases, you often care about broader relationships (e.g., diseases in the same family, even if not directly parent-child). Contrastive methods and GAEs can capture these higher-order proximities more effectively.\n",
    "*   **Alignment with Clustering Goal:** Contrastive learning directly optimizes for a similarity metric in the embedding space. GAEs aim to find a compact representation that preserves structural information, which is also beneficial for clustering.\n",
    "\n",
    "**Recommendation:**\n",
    "\n",
    "Consider exploring **contrastive learning approaches where you strategically define positive pairs based on the ICD hierarchy.** For example, treating all codes under a specific parent node as positive examples for each other (or for a prototype of that parent node) could directly encourage the GNN to learn embeddings that group hierarchically related diseases. This aligns more closely with forming meaningful clusters based on the inherent structure of your data than just predicting immediate connections.\n"
   ]
  }
 ],
 "metadata": {
  "kernelspec": {
   "display_name": "venv_icd",
   "language": "python",
   "name": "python3"
  },
  "language_info": {
   "codemirror_mode": {
    "name": "ipython",
    "version": 3
   },
   "file_extension": ".py",
   "mimetype": "text/x-python",
   "name": "python",
   "nbconvert_exporter": "python",
   "pygments_lexer": "ipython3",
   "version": "3.11.7"
  }
 },
 "nbformat": 4,
 "nbformat_minor": 2
}
