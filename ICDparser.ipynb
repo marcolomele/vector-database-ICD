{
 "cells": [
  {
   "cell_type": "markdown",
   "id": "1624cfe9",
   "metadata": {},
   "source": [
    "# TODO:\n",
    "- farlo funzionare con tutti i nodi\n",
    "- includere le informazioni di passi intermedi\n",
    "- includere le informazioni dei collegamenti attraverso i nodi\n",
    " "
   ]
  },
  {
   "cell_type": "markdown",
   "id": "90cbeb0a-9277-4913-a10e-b4283dbe06a5",
   "metadata": {},
   "source": [
    "If you are developing a tool that will require ICD-11 codes and the structure as shown in the ICD-11 Release then in the API you need to use the linearization endpoints with the linearizationname set to mms."
   ]
  },
  {
   "cell_type": "code",
   "execution_count": 44,
   "id": "44f4a87e",
   "metadata": {},
   "outputs": [],
   "source": [
    "import os\n",
    "import json\n",
    "import time\n",
    "import requests\n",
    "import collections\n",
    "import pandas as pd\n",
    "from tqdm import tqdm"
   ]
  },
  {
   "cell_type": "code",
   "execution_count": 45,
   "id": "c836d0f1-5f0c-498f-860d-f61c35a6ee1c",
   "metadata": {},
   "outputs": [
    {
     "name": "stdout",
     "output_type": "stream",
     "text": [
      "🔐 Getting access token...\n"
     ]
    },
    {
     "name": "stderr",
     "output_type": "stream",
     "text": [
      "  0%|          | 0/1 [00:00<?, ?it/s]"
     ]
    },
    {
     "name": "stdout",
     "output_type": "stream",
     "text": [
      "⚠️ Failed to fetch https://id.who.int/icd/release/11/2023-01/mms/other\n",
      "⚠️ Failed to fetch https://id.who.int/icd/release/11/2023-01/mms/unspecified\n"
     ]
    },
    {
     "name": "stderr",
     "output_type": "stream",
     "text": [
      "100%|██████████| 1/1 [07:26<00:00, 446.68s/it]"
     ]
    },
    {
     "name": "stdout",
     "output_type": "stream",
     "text": [
      "✅ Done! MMS linearized entities saved to 'icd11_mms_crawled_entities_recursive'\n"
     ]
    },
    {
     "name": "stderr",
     "output_type": "stream",
     "text": [
      "\n"
     ]
    }
   ],
   "source": [
    "# ========== CONFIGURATION ==========\n",
    "CLIENT_ID = \"6afc7b11-86c2-40f5-82d7-39c6c5869dec_38c25903-b150-4472-80cf-58648427fd58\"\n",
    "CLIENT_SECRET = \"4kfkQUPOf4fBozRuZIMYsfff4n22mxUg/7dz85YXMqM=\"\n",
    "TOKEN_ENDPOINT = 'https://icdaccessmanagement.who.int/connect/token'\n",
    "ROOT_ENTITY_URI = 'https://id.who.int/icd/release/11/2023-01/mms'\n",
    "MMS_BASE_URI = 'https://id.who.int/icd/release/11/2023-01/mms/'\n",
    "OUTPUT_DIR = 'icd11_mms_crawled_entities_recursive'\n",
    "SLEEP_TIME = 0.2  # To avoid rate limiting\n",
    "MAX_CHAPTERS = 1\n",
    "MAX_CHILDREN = 100\n",
    "# ===================================\n",
    "\n",
    "def get_access_token():\n",
    "    payload = {\n",
    "        'client_id': CLIENT_ID,\n",
    "        'client_secret': CLIENT_SECRET,\n",
    "        'scope': 'icdapi_access',\n",
    "        'grant_type': 'client_credentials'\n",
    "    }\n",
    "    response = requests.post(TOKEN_ENDPOINT, data=payload)\n",
    "    response.raise_for_status()\n",
    "    token_data = response.json()\n",
    " \n",
    "    return token_data['access_token']\n",
    "\n",
    "def fetch_entity(entity_id, headers, visited, output_dir):\n",
    "    if entity_id in visited:\n",
    "        return\n",
    "    visited.add(entity_id)\n",
    "\n",
    "    uri = f'{MMS_BASE_URI}{entity_id}'\n",
    "    response = requests.get(uri, headers=headers)\n",
    "    if response.status_code != 200:\n",
    "        print(f\"⚠️ Failed to fetch {uri}\")\n",
    "        return\n",
    "\n",
    "    data = response.json()\n",
    "   \n",
    "    with open(os.path.join(output_dir, f\"{entity_id}.json\"), 'w', encoding='utf-8') as f:\n",
    "        json.dump(data, f, ensure_ascii=False, indent=2)\n",
    "\n",
    "    # Recurse into children (limit to x children per node for quick test)\n",
    "    child_uris = data.get('child', [])[:MAX_CHILDREN]\n",
    "    for child_uri in child_uris:\n",
    "        child_id = child_uri.split(\"/\")[-1]\n",
    "        time.sleep(SLEEP_TIME)\n",
    "        fetch_entity(child_id, headers, visited, output_dir)\n",
    "\n",
    "def crawl_icd11():\n",
    "    os.makedirs(OUTPUT_DIR, exist_ok=True)\n",
    "\n",
    "    print(\"🔐 Getting access token...\")\n",
    "    token = get_access_token()\n",
    "\n",
    "    headers = {\n",
    "        'Authorization': f'Bearer {token}',\n",
    "        'Accept': 'application/json',\n",
    "        'Accept-Language': 'en',\n",
    "        'API-Version': 'v2'\n",
    "    }\n",
    "\n",
    "    response = requests.get(ROOT_ENTITY_URI, headers=headers)\n",
    "    root_data = response.json()\n",
    "    root_children = root_data.get('child', [])\n",
    "\n",
    "    root_ids = [uri.split('/')[-1] for uri in root_children[:MAX_CHAPTERS]]\n",
    "    with open(\"MMS_ROOTS.json\", 'w') as f:\n",
    "        json.dump(root_ids, f)\n",
    "\n",
    "    visited = set()\n",
    "    for entity_id in tqdm(root_ids):\n",
    "        fetch_entity(entity_id, headers, visited, OUTPUT_DIR)\n",
    "\n",
    "    print(f\"✅ Done! MMS linearized entities saved to '{OUTPUT_DIR}'\")\n",
    "    \n",
    "crawl_icd11()"
   ]
  },
  {
   "cell_type": "code",
   "execution_count": 46,
   "id": "9afe32e0",
   "metadata": {},
   "outputs": [
    {
     "name": "stdout",
     "output_type": "stream",
     "text": [
      "🔐 Getting access token...\n"
     ]
    },
    {
     "name": "stderr",
     "output_type": "stream",
     "text": [
      "Fetching entities: 23 entity [00:11,  2.27 entity/s]"
     ]
    },
    {
     "name": "stdout",
     "output_type": "stream",
     "text": [
      "⚠️ Failed to fetch https://id.who.int/icd/release/11/2023-01/mms/unspecified\n"
     ]
    },
    {
     "name": "stderr",
     "output_type": "stream",
     "text": [
      "Fetching entities: 39 entity [00:20,  1.73 entity/s]"
     ]
    },
    {
     "name": "stdout",
     "output_type": "stream",
     "text": [
      "⚠️ Failed to fetch https://id.who.int/icd/release/11/2023-01/mms/other\n"
     ]
    },
    {
     "name": "stderr",
     "output_type": "stream",
     "text": [
      "Fetching entities: 745 entity [07:02,  1.76 entity/s]"
     ]
    },
    {
     "name": "stdout",
     "output_type": "stream",
     "text": [
      "✅ Done! 745 MMS linearized entities saved to folder 'icd11_mms_crawled_entities_iterative'\n"
     ]
    },
    {
     "name": "stderr",
     "output_type": "stream",
     "text": [
      "\n"
     ]
    }
   ],
   "source": [
    "# ========== CONFIGURATION ==========\n",
    "CLIENT_ID = \"6afc7b11-86c2-40f5-82d7-39c6c5869dec_38c25903-b150-4472-80cf-58648427fd58\"\n",
    "CLIENT_SECRET = \"4kfkQUPOf4fBozRuZIMYsfff4n22mxUg/7dz85YXMqM=\"\n",
    "TOKEN_ENDPOINT = 'https://icdaccessmanagement.who.int/connect/token'\n",
    "ROOT_ENTITY_URI = 'https://id.who.int/icd/release/11/2023-01/mms'\n",
    "MMS_BASE_URI = 'https://id.who.int/icd/release/11/2023-01/mms/'\n",
    "OUTPUT_DIR = 'icd11_mms_crawled_entities_iterative'\n",
    "SLEEP_TIME = 0.2  # To avoid rate limiting\n",
    "MAX_CHAPTERS = 1\n",
    "MAX_CHILDREN = 100\n",
    "# ===================================\n",
    "\n",
    "def get_access_token():\n",
    "    payload = {\n",
    "        'client_id': CLIENT_ID,\n",
    "        'client_secret': CLIENT_SECRET,\n",
    "        'scope': 'icdapi_access',\n",
    "        'grant_type': 'client_credentials'\n",
    "    }\n",
    "    response = requests.post(TOKEN_ENDPOINT, data=payload)\n",
    "    response.raise_for_status()\n",
    "    token_data = response.json()\n",
    " \n",
    "    return token_data['access_token']\n",
    "\n",
    "def crawl_icd11():\n",
    "    os.makedirs(OUTPUT_DIR, exist_ok=True)\n",
    "\n",
    "    print(\"🔐 Getting access token...\")\n",
    "    token = get_access_token()\n",
    "\n",
    "    headers = {\n",
    "        'Authorization': f'Bearer {token}',\n",
    "        'Accept': 'application/json',\n",
    "        'Accept-Language': 'en',\n",
    "        'API-Version': 'v2'\n",
    "    }\n",
    "\n",
    "    # Fetch root structure\n",
    "    response = requests.get(ROOT_ENTITY_URI, headers=headers)\n",
    "    root_data = response.json()\n",
    "    root_children = root_data.get('child', [])\n",
    "\n",
    "    # Get root IDs and save them\n",
    "    root_ids = [uri.split('/')[-1] for uri in root_children[:MAX_CHAPTERS]]\n",
    "    with open(\"MMS_ROOTS.json\", 'w') as f:\n",
    "        json.dump(root_ids, f)\n",
    "\n",
    "    # Initialize queue with root IDs\n",
    "    queue = collections.deque(root_ids)\n",
    "    visited = set(root_ids)  # Track visited entities\n",
    "    total_processed = 0\n",
    "    \n",
    "    # Iterative BFS traversal\n",
    "    with tqdm(desc=\"Fetching entities\", unit=\" entity\") as pbar:\n",
    "        while queue:\n",
    "            entity_id = queue.popleft()\n",
    "            \n",
    "            # Fetch entity data\n",
    "            uri = f'{MMS_BASE_URI}{entity_id}'\n",
    "            try:\n",
    "                response = requests.get(uri, headers=headers)\n",
    "                if response.status_code != 200:\n",
    "                    print(f\"⚠️ Failed to fetch {uri}\")\n",
    "                    continue\n",
    "                \n",
    "                data = response.json()\n",
    "                \n",
    "                # Save entity data\n",
    "                with open(os.path.join(OUTPUT_DIR, f\"{entity_id}.json\"), 'w', encoding='utf-8') as f:\n",
    "                    json.dump(data, f, ensure_ascii=False, indent=2)\n",
    "                \n",
    "                # Queue children (limited by MAX_CHILDREN)\n",
    "                child_uris = data.get('child', [])[:MAX_CHILDREN]\n",
    "                for child_uri in child_uris:\n",
    "                    child_id = child_uri.split(\"/\")[-1]\n",
    "                    if child_id not in visited:\n",
    "                        queue.append(child_id)\n",
    "                        visited.add(child_id)\n",
    "                \n",
    "                # Update progress\n",
    "                total_processed += 1\n",
    "                pbar.update(1)\n",
    "                \n",
    "                # Sleep to avoid rate limiting\n",
    "                time.sleep(SLEEP_TIME)\n",
    "                \n",
    "            except Exception as e:\n",
    "                print(f\"⚠️ Error processing {uri}: {str(e)}\")\n",
    "    \n",
    "    print(f\"✅ Done! {total_processed} MMS linearized entities saved to folder '{OUTPUT_DIR}'\")\n",
    "    \n",
    "crawl_icd11()"
   ]
  },
  {
   "cell_type": "code",
   "execution_count": 47,
   "id": "11fb06a5",
   "metadata": {},
   "outputs": [],
   "source": [
    "def extract_icd_text_data(json_folder):\n",
    "    records = []\n",
    "\n",
    "    for filename in os.listdir(json_folder):\n",
    "        if not filename.endswith(\".json\"):\n",
    "            continue\n",
    "        filepath = os.path.join(json_folder, filename)\n",
    "        with open(filepath, \"r\", encoding=\"utf-8\") as f:\n",
    "            data = json.load(f)\n",
    "        \n",
    "        # Initialize record with basic fields that might be present\n",
    "        record = {}\n",
    "        \n",
    "        # Core identifiers (always try to get these)\n",
    "        record[\"id\"] = data.get(\"@id\", \"\").split(\"/\")[-1]\n",
    "        record[\"code\"] = data.get(\"code\", \"\")\n",
    "        \n",
    "        # Optional basic metadata\n",
    "        if \"title\" in data:\n",
    "            record[\"title\"] = data.get(\"title\", {}).get(\"@value\", \"\")\n",
    "        if \"browserUrl\" in data:\n",
    "            record[\"browser_url\"] = data.get(\"browserUrl\", \"\")\n",
    "        if \"classKind\" in data:\n",
    "            record[\"class_kind\"] = data.get(\"classKind\", \"\")\n",
    "        \n",
    "        # Optional detailed information\n",
    "        if \"definition\" in data:\n",
    "            record[\"definition\"] = data.get(\"definition\", {}).get(\"@value\", \"\")\n",
    "        if \"fullySpecifiedName\" in data:\n",
    "            record[\"fully_specified_name\"] = data.get(\"fullySpecifiedName\", {}).get(\"@value\", \"\")\n",
    "\n",
    "        # Hierarchical relationships (if present)\n",
    "        if \"parent\" in data:\n",
    "            record[\"parent\"] = \"; \".join([p.split(\"/\")[-1] for p in data.get(\"parent\", [])])\n",
    "        if \"child\" in data:\n",
    "            record[\"children\"] = \"; \".join([c.split(\"/\")[-1] for c in data.get(\"child\", [])])\n",
    "\n",
    "        # Inclusions (if present)\n",
    "        if \"inclusion\" in data:\n",
    "            inclusions = []\n",
    "            for inclusion in data[\"inclusion\"]:\n",
    "                label = inclusion.get(\"label\", {}).get(\"@value\", \"\")\n",
    "                if label:\n",
    "                    inclusions.append(label)\n",
    "            record[\"inclusions\"] = \"; \".join(inclusions)\n",
    "\n",
    "        # Exclusions (if present)\n",
    "        if \"exclusion\" in data:\n",
    "            exclusions = []\n",
    "            exclusion_refs = []\n",
    "            for excl in data[\"exclusion\"]:\n",
    "                label = excl.get(\"label\", {}).get(\"@value\", \"\")\n",
    "                if label:\n",
    "                    exclusions.append(label)\n",
    "                    if \"foundationReference\" in excl:\n",
    "                        exclusion_refs.append(f\"{label}: {excl['foundationReference']}\")\n",
    "            record[\"exclusions\"] = \"; \".join(exclusions)\n",
    "            if exclusion_refs:\n",
    "                record[\"exclusion_references\"] = \"; \".join(exclusion_refs)\n",
    "\n",
    "        # Foundation children (if present)\n",
    "        if \"foundationChildElsewhere\" in data:\n",
    "            foundation_children = []\n",
    "            foundation_child_refs = []\n",
    "            for child in data[\"foundationChildElsewhere\"]:\n",
    "                label = child.get(\"label\", {}).get(\"@value\", \"\")\n",
    "                if label:\n",
    "                    foundation_children.append(label)\n",
    "                    if \"foundationReference\" in child:\n",
    "                        foundation_child_refs.append(f\"{label}: {child['foundationReference']}\")\n",
    "            record[\"foundation_children\"] = \"; \".join(foundation_children)\n",
    "            if foundation_child_refs:\n",
    "                record[\"foundation_child_references\"] = \"; \".join(foundation_child_refs)\n",
    "\n",
    "        # Index terms (if present)\n",
    "        if \"indexTerm\" in data:\n",
    "            index_terms = []\n",
    "            index_term_refs = []\n",
    "            for term in data[\"indexTerm\"]:\n",
    "                label = term.get(\"label\", {}).get(\"@value\", \"\")\n",
    "                if label:\n",
    "                    index_terms.append(label)\n",
    "                    if \"foundationReference\" in term:\n",
    "                        index_term_refs.append(f\"{label}: {term['foundationReference']}\")\n",
    "            record[\"index_terms\"] = \"; \".join(index_terms)\n",
    "            if index_term_refs:\n",
    "                record[\"index_term_references\"] = \"; \".join(index_term_refs)\n",
    "\n",
    "        # Postcoordination scales (if present)\n",
    "        if \"postcoordinationScale\" in data:\n",
    "            postcoord_scales = []\n",
    "            for scale in data[\"postcoordinationScale\"]:\n",
    "                scale_info = {\n",
    "                    \"axis_name\": scale.get(\"axisName\", \"\").split(\"/\")[-1],\n",
    "                    \"required\": scale.get(\"requiredPostcoordination\", \"\"),\n",
    "                    \"allow_multiple\": scale.get(\"allowMultipleValues\", \"\"),\n",
    "                    \"entities\": \"; \".join([e.split(\"/\")[-1] for e in scale.get(\"scaleEntity\", [])])\n",
    "                }\n",
    "                postcoord_scales.append(str(scale_info))\n",
    "            record[\"postcoordination_scales\"] = \" || \".join(postcoord_scales)\n",
    "\n",
    "        # Related entities (if present)\n",
    "        if \"relatedEntitiesInPerinatalChapter\" in data:\n",
    "            record[\"related_entities\"] = \"; \".join([e.split(\"/\")[-1] for e in data[\"relatedEntitiesInPerinatalChapter\"]])\n",
    "\n",
    "        # Construct full text only from available fields\n",
    "        full_text_parts = []\n",
    "        for field in [\"title\", \"definition\", \"fully_specified_name\", \"inclusions\", \n",
    "                     \"exclusions\", \"foundation_children\", \"index_terms\"]:\n",
    "            if field in record and record[field]:\n",
    "                full_text_parts.append(record[field])\n",
    "        record[\"full_text\"] = \" \".join(full_text_parts)\n",
    "\n",
    "        records.append(record)\n",
    "\n",
    "    # Create DataFrame with all possible columns, filling missing values with empty strings\n",
    "    df = pd.DataFrame(records)\n",
    "    df = df.fillna(\"\")\n",
    "    return df"
   ]
  },
  {
   "cell_type": "code",
   "execution_count": 48,
   "id": "069cdf6a",
   "metadata": {},
   "outputs": [
    {
     "data": {
      "text/plain": [
       "id                             True\n",
       "code                           True\n",
       "title                          True\n",
       "browser_url                    True\n",
       "class_kind                     True\n",
       "definition                     True\n",
       "parent                         True\n",
       "inclusions                     True\n",
       "foundation_children            True\n",
       "foundation_child_references    True\n",
       "index_terms                    True\n",
       "related_entities               True\n",
       "full_text                      True\n",
       "children                       True\n",
       "postcoordination_scales        True\n",
       "index_term_references          True\n",
       "exclusions                     True\n",
       "exclusion_references           True\n",
       "fully_specified_name           True\n",
       "dtype: bool"
      ]
     },
     "execution_count": 48,
     "metadata": {},
     "output_type": "execute_result"
    }
   ],
   "source": [
    "df_ite = extract_icd_text_data(\"icd11_mms_crawled_entities_iterative\").sort_values(by=\"code\").reset_index(drop=True)\n",
    "df_rec = extract_icd_text_data(\"icd11_mms_crawled_entities_recursive\").sort_values(by=\"code\").reset_index(drop=True)\n",
    "(df_rec == df_ite).all()"
   ]
  }
 ],
 "metadata": {
  "kernelspec": {
   "display_name": "venv_icd",
   "language": "python",
   "name": "python3"
  },
  "language_info": {
   "codemirror_mode": {
    "name": "ipython",
    "version": 3
   },
   "file_extension": ".py",
   "mimetype": "text/x-python",
   "name": "python",
   "nbconvert_exporter": "python",
   "pygments_lexer": "ipython3",
   "version": "3.11.7"
  }
 },
 "nbformat": 4,
 "nbformat_minor": 5
}
